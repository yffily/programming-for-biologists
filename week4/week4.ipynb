{
 "cells": [
  {
   "cell_type": "markdown",
   "metadata": {},
   "source": [
    "# Week 4: Writing and using an RNA translating function.\n",
    "\n",
    "Recall the steps to an RNA translator:\n",
    "- Step 1: Load the codon table into a list of (codon,amino-acid) pairs.  \n",
    "- Step 2: Split an RNA sequence into a list of its codons.\n",
    "- Step 3: Given a single codon, loop over the codon table to find the amino-acid it codes for.  \n",
    "- Step 4: Given a list of codons, create a list of the amino-acid each codon codes for.\n",
    "\n",
    "Last time we went over steps 1 and 2 and started step 3. \n",
    "\n",
    "Today we finish the RNA translator, learn to define our own RNA translating function, and apply it to an example. Here is today's table of contents:\n",
    "1. **Finish RNA translator: step 3 (started last time).**  \n",
    "   Use for loops and if statements to translate a single codon.\n",
    "2. **RNA translator: step 4.**  \n",
    "   Put steps 1 to 3 together to make a fully function RNA translator.\n",
    "3. **Functions.**  \n",
    "   Learn a new tool: defining our own functions. \n",
    "4. **Write an RNA translating function.**  \n",
    "   Use the new tool above to make our RNA translator much easier to use.\n",
    "5. **Analyze a mutation.**\n",
    "   Use our RNA translator to analyze the consequences of a mutation."
   ]
  },
  {
   "cell_type": "markdown",
   "metadata": {},
   "source": [
    "## 1. RNA translator: step 3\n",
    "\n",
    "*Note*: We covered the tools needed for this in week 2. Refer to `week2.ipynb` if needed.\n",
    "\n",
    "Given a single codon, stored in the variable `codon`, we want to find the amino-acid it codes for. We also need the list of pairs representing the codon table from week 2. You can reuse the exact same code (task 6 in week2.ipynb). Just don't print the entire table (well, print it at first to make sure that part of the code works correctly, but don't print it in the final version). Then, write a loop over the codon-aminoacid pairs in the codon table list. For each pair, check whether the pair's codon (the first element of the pair) matches the codon we're trying to translate. If it does, print the corresponding aminoacid (the second element of the pair)."
   ]
  },
  {
   "cell_type": "markdown",
   "metadata": {},
   "source": [
    "<div class=\"alert alert-block alert-danger\">\n",
    "<b>Task 1:</b>\n",
    "Follow the instructions above to translate the codon stored in the `codon` variable.\n",
    "</div>"
   ]
  },
  {
   "cell_type": "code",
   "execution_count": null,
   "metadata": {},
   "outputs": [],
   "source": []
  },
  {
   "cell_type": "markdown",
   "metadata": {},
   "source": [
    "## 2. RNA translator: step 4\n",
    "\n",
    "Step 4 is really just combining steps 1 to 3 to make the actual RNA translator. The main novelty is that we have to use a nested loop structure (see section 3.3) to loop over the codons, then, inside that loop, loop again over the pairs of the codon table."
   ]
  },
  {
   "cell_type": "markdown",
   "metadata": {},
   "source": [
    "<div class=\"alert alert-block alert-danger\">\n",
    "<b>Task 2:</b>\n",
    "Write an RNA translator:  \n",
    "- Read the codon table and save it as a list of codon-aminoacid pairs (see task 6 at the end of `week2.ipynb`).  \n",
    "- Read the RNA sequence in `rna_sequence.txt` and build a list of its codons (see task 1 at the beginning of this notebook).  \n",
    "- Create an empty list to hold the list of amino-acids you're about to build.  \n",
    "- Loop over the list of codons you just built. For each codon, loop over the codon table to find the matching codon, then add the corresponding amino-acid to the list of amino-acids.  \n",
    "- Once it's all said and done, print the list of amino-acids.\n",
    "</div>"
   ]
  },
  {
   "cell_type": "code",
   "execution_count": null,
   "metadata": {},
   "outputs": [],
   "source": []
  },
  {
   "cell_type": "markdown",
   "metadata": {},
   "source": [
    "## 3. Functions\n",
    "\n",
    "We've used functions before. `print` is a function. To use it, we write the name of the function, then, between parentheses, the information the function needs to perform its job. In this case, the thing we want to print to the screen. For example: `print('hey there')`. Other examples include `len`, `open`, and `range`. \n",
    "\n",
    "In this section, we will learn to define our own functions. For example, we can define a `translate` function that translates an RNA sequence into an amino-acid sequence. Once that is done, we no longer need to write the entire translating code every time we want to translate an RNA sequence, we can just write something like `aacids = translate(rna)`."
   ]
  },
  {
   "cell_type": "markdown",
   "metadata": {},
   "source": [
    "### 3.1 Anatomy of a function"
   ]
  },
  {
   "cell_type": "code",
   "execution_count": null,
   "metadata": {},
   "outputs": [],
   "source": [
    "# Define a list.\n",
    "my_list = [1,5,4,6]\n",
    "# Compute and print its length.\n",
    "length = len(my_list)\n",
    "print(length)"
   ]
  },
  {
   "cell_type": "markdown",
   "metadata": {},
   "source": [
    "The function `len` above computes the length of the list `my_list`. The part between the parentheses (`my_list`) is called the **argument** of the function. It's the information we give to the function so it can do its job. Once `len(my_list)` has been evaluated, it is replaced by the result `4`, then python reads the line again as `length = 4`, which results in the value `4` being stored in the variable `length`. `4` is called the **return value** of the `len` function. We also says that `len` returns the length of `my_list`.\n",
    "\n",
    "`print` is also a function. In the code above its argument is `length`, which eventually gets replaced by `4`. Note that although `print` prints its argument on the screen below the cell, this is not its return value. In fact `print` doesn't return anything. That's not its purpose. Well, technically it returns something called `None`:"
   ]
  },
  {
   "cell_type": "code",
   "execution_count": null,
   "metadata": {},
   "outputs": [],
   "source": [
    "# To expose the return value of print, we save it in a variable,\n",
    "# the print that variable.\n",
    "x = print('ha')\n",
    "print(x)\n",
    "\n",
    "# After executing, print('ha') was replaced by the return value None,\n",
    "# which then got saved in the variable x.\n",
    "# Finally we printed x."
   ]
  },
  {
   "cell_type": "markdown",
   "metadata": {},
   "source": [
    "Like a boolean, `None` is neither a string, a number, or any other type of value. It's its own type of value designed specifically to express the idea of nothing. This will become relevant when we start writing our own function. If you forget to tell your function what to return, by default it will return `None`. It's a common mistake."
   ]
  },
  {
   "cell_type": "markdown",
   "metadata": {},
   "source": [
    "A function can have **multiple arguments**. They all go between the parentheses, separated by commas (kind of like a list). For example `range(0,6,2)` has three: `0`, `6`, and `2`."
   ]
  },
  {
   "cell_type": "markdown",
   "metadata": {},
   "source": [
    "### 3.2 Defining a function\n",
    "\n",
    "Let's start with a simple example: the `plus` function discussed above."
   ]
  },
  {
   "cell_type": "code",
   "execution_count": null,
   "metadata": {},
   "outputs": [],
   "source": [
    "# First we define the function.\n",
    "def plus(x,y):\n",
    "    return x+y\n",
    "\n",
    "# Now we can use it.\n",
    "print(plus(1,2))"
   ]
  },
  {
   "cell_type": "markdown",
   "metadata": {},
   "source": [
    "The function takes two arguments, called `x` and `y`, and returns their sum. Like loop variables, the arguments can be named anything; what matters is that the names we use inside the definition of the function (the indented line(s) below `def`) match the ones between the parentheses after the name of the function.\n",
    "\n",
    "Here is how the computer reads this piece of code:\n",
    "- When encountering the definition fo the function, it doesn't execute the code inside of it, it merely makes a note that if `plus` ever comes up that's where it's defined.\n",
    "- When reading `print(plus(1,2))`, it first evaluates `plus(1,2)`. First, it fetches the definition of `plus`.\n",
    "- Before executing the definition, it plugs in the values of the arguments that were passed to the function. In other words, it executes `x = 1` and `y = 2`.\n",
    "- Then, it executes the definition of the function. Upon reading `return x+y`, it first replaces `x` and `y` by their values. Then it rereads the line as `return 1+2`. Then it evaluates `1+2` as `3` and rereads the line as `return 3`.\n",
    "- At this point it returns to the place the function was called and replaces the call to the function by the return value of the function. In other words, it rereads `print(plus(1,2))` as `print(3)`.\n",
    "- Finally, `3` gets printed to the screen below the cell."
   ]
  },
  {
   "cell_type": "markdown",
   "metadata": {},
   "source": [
    "### 3.3 Variables inside a function definition\n",
    "\n",
    "The inside of a function definition is a special place for variables.\n",
    "\n",
    "If variables exist outside of the function with the same name as the arguments, their value are ignored entirely. For example:"
   ]
  },
  {
   "cell_type": "code",
   "execution_count": null,
   "metadata": {},
   "outputs": [],
   "source": [
    "x = 10\n",
    "y = 20\n",
    "\n",
    "def plus(x,y):\n",
    "    return x+y\n",
    "\n",
    "print(plus(1,2))"
   ]
  },
  {
   "cell_type": "markdown",
   "metadata": {},
   "source": [
    "The values `10` and `20` are ignored. Inside the function, `x` and `y` are equal to the values they were given when the function was called: `1` and `2`.\n",
    "\n",
    "</br>  \n",
    "</br>\n",
    "If the function is called multiple times with different arguments, the code inside of the function definition is run multiple times with different argument values. In other words, the values of x and y inside the function are placeholders, they're \"yet to be decided\". The values of the arguments are only decided when you call the function:"
   ]
  },
  {
   "cell_type": "code",
   "execution_count": null,
   "metadata": {},
   "outputs": [],
   "source": [
    "def plus(x,y):\n",
    "    return x+y\n",
    "\n",
    "# Here x+y is computed with x=1 and y=2.\n",
    "print(plus(1,2))\n",
    "\n",
    "# Here x+y is computed with x=10 and y=20.\n",
    "print(plus(10,20))"
   ]
  },
  {
   "cell_type": "markdown",
   "metadata": {},
   "source": [
    "Here is another oddity. If the definition of the function includes variables that are defined outside the function and do not conflict with the arguments, python is able to recognize them, however it uses their value(s) at the time when the function is called, not at the time when the function is defined. Here is an example:"
   ]
  },
  {
   "cell_type": "code",
   "execution_count": null,
   "metadata": {},
   "outputs": [],
   "source": [
    "y = 1\n",
    "\n",
    "# The function no longer asks for the number to add, \n",
    "# it uses whatever value y has outside the function.\n",
    "def add_y(x):\n",
    "    return x+y\n",
    "\n",
    "# This uses y=1, thus add_y(1)=1+1=2.\n",
    "print(add_y(1))\n",
    "\n",
    "# Now we change the value of y.\n",
    "y = 2\n",
    "\n",
    "# The function now uses y=2, thus add_y(1)=1+2=3.\n",
    "print(add_y(1))"
   ]
  },
  {
   "cell_type": "markdown",
   "metadata": {},
   "source": [
    "**Note:** It's often a terrible idea to use outside variables inside a function definition. As much as possible the information the function needs should be passed through the arguments. The risk you run is to define the function in one place, make it depend on `y`, then in a completely different place use `y` for a different purpose. You will forget that changing the value of `y` impact the outcome of your function and it will look like your function is behaving erratically. This can be incredibly frustrating to debug. There's a way for your function to use information from the outside that does not suffer from this problem, but it's a little more complicated and we're not going to discuss it here."
   ]
  },
  {
   "cell_type": "markdown",
   "metadata": {},
   "source": [
    "Conversely, variables defined inside the function are unknown outside of the function:"
   ]
  },
  {
   "cell_type": "code",
   "execution_count": null,
   "metadata": {},
   "outputs": [],
   "source": [
    "def plus(x,y):\n",
    "    a = 1\n",
    "    print(a)\n",
    "    return x+y\n",
    "\n",
    "# Here we call the function. Inside the function,\n",
    "# a is defined then printed.\n",
    "x = plus(1,2)\n",
    "# The code below is not inside the function, so the \"a\"\n",
    "# variable defined there is unknown. Trying to access it\n",
    "# causes a crash.\n",
    "print(a)"
   ]
  },
  {
   "cell_type": "code",
   "execution_count": null,
   "metadata": {},
   "outputs": [],
   "source": [
    "# This time let's define \"a\" outside the function.\n",
    "a = 2\n",
    "\n",
    "# \"a\" gets redefined inside the function.\n",
    "def plus(x,y):\n",
    "    a = 1\n",
    "    print(a)\n",
    "    return x+y\n",
    "\n",
    "# Here we call the function. Inside the function,\n",
    "# a is defined then printed.\n",
    "x = plus(1,2)\n",
    "\n",
    "# Outside the function, \"a\" still has the value 2. It's as if\n",
    "# its redefinition inside the function had never happened.\n",
    "print(a)"
   ]
  },
  {
   "cell_type": "markdown",
   "metadata": {},
   "source": [
    "Lastly, you can't modify the value of a variable by passing it to a function. Here is an example:"
   ]
  },
  {
   "cell_type": "code",
   "execution_count": null,
   "metadata": {},
   "outputs": [],
   "source": [
    "# Here is a function that adds one to its argument, \n",
    "# then saved the result back into the argument.\n",
    "def add_one(x):\n",
    "    x = x+1\n",
    "    print(x)\n",
    "\n",
    "x = 1\n",
    "add_one(x)\n",
    "print(x)"
   ]
  },
  {
   "cell_type": "markdown",
   "metadata": {},
   "source": [
    "The value of `x` was changed to `2` inside the function, but outside the function it is still `1`. The function was never modifying the original `x`, it merely made its own copy of `x` to work with. Changing the value of the copy did not change the value of the original variable.  \n",
    "\n",
    "If we want to change the value of x outside of the function, we have to have the function return the new value, then assign that new value to the variable outside the function:"
   ]
  },
  {
   "cell_type": "code",
   "execution_count": null,
   "metadata": {},
   "outputs": [],
   "source": [
    "def add_one(x):\n",
    "    return x+1\n",
    "\n",
    "x = 1\n",
    "x = add_one(x)\n",
    "print(x)"
   ]
  },
  {
   "cell_type": "markdown",
   "metadata": {},
   "source": [
    "<div class=\"alert alert-block alert-danger\">\n",
    "<b>Task 3:</b>\n",
    "Write a function that computes the GC content of an RNA sequence. The argument should be a string containing the RNA sequence. The function should return the GC content as a number.  \n",
    "</br>  \n",
    "</br>\n",
    "Once the function is written, test it on a couple of short RNA sequences you will make up for the occasion.\n",
    "</div>"
   ]
  },
  {
   "cell_type": "code",
   "execution_count": null,
   "metadata": {},
   "outputs": [],
   "source": []
  },
  {
   "cell_type": "markdown",
   "metadata": {},
   "source": [
    "### 3.4 Other types of functions\n",
    "\n",
    "There are a few other constructs in python that behave in many ways like functions.\n",
    "\n",
    "In addition to functions like `len` or `print`, we've also used functions like `count` and `append`, whose syntax is a little different. To count the number of `A`'s in `rna = 'ATUCAA'`, we write `rna.count('A')`. To append `1` to the list `l = [3,2]`, we write `l.append(1)`. Here part of the information the function needs comes before the name of the function, then there's a period, then the name of the function, then the rest of the information between parentheses. Those types of functions are called methods. Conceptually, `rna.count('A')` is very similar to a hypothetical `count(rna,'A')`. Similarly, `l.append(1)` is similar to a hypothetical `append(l,1)`. One big difference is that methods have the ability to change the value of the argument that comes before the dot. For example, `l.append(1)` changes the value of `l`.\n",
    "\n",
    "Arithmetic operations also behave a lot like functions. `1+2` takes two arguments, in this case `1` and `2`, and returns their sum, in this case `3`. If you write `print(1+2)`, python first evaluates `1+2`, then replaces it with its returns value `3`, then rereads the line as `print(3)`. In other words, it works exactly like the `plus` function we wrote above.\n",
    "\n",
    "More generally the idea of return value and replacing the call to a function by its return value before rereading the line is closely related to an idea we've discussed a few times already: that python evaluates things \"from the inside out\"."
   ]
  },
  {
   "cell_type": "markdown",
   "metadata": {},
   "source": [
    "## 4. Write an RNA translating function"
   ]
  },
  {
   "cell_type": "markdown",
   "metadata": {},
   "source": [
    "<div class=\"alert alert-block alert-danger\">\n",
    "<b>Task 4:</b>\n",
    "Write an RNA translating function. It should take a single argument: a string containing the RNA sequence to translate. It should return the list of shortened names of the corresponding amino-acids. \n",
    "\n",
    "Once the function is written, test it on the contents of `rna_codon-table.txt`. Make sure the result matches that of task 2 (use `==`).\n",
    "</div>"
   ]
  },
  {
   "cell_type": "code",
   "execution_count": null,
   "metadata": {},
   "outputs": [],
   "source": []
  },
  {
   "cell_type": "markdown",
   "metadata": {},
   "source": [
    "## 5. Analyze a mutation\n",
    "\n",
    "Red blood cells are in charge or carrying oxygen from the lungs to the rest of the body. To capture oxygen, they bind it to a protein complex (a group of proteins attached together) called hemoglobin. One the proteins in this complex is called HBB (or beta-globin, or hemoglobin subunit beta). Like all proteins, it is a linear chain of amino-acids, and the sequence of amino-acids that make up the chain is controlled a gene, in this case the HBB gene. \n",
    "\n",
    "There are a number of variants of the human HBB gene, which yield in a number of variants of the HBB protein. Many of those variants work fine. Some do not and cause various forms of anemia. Possibly the most famous form of anemia is sickle-cell anemia. It is due to a mutation in the seventh codon of the HBB gene. The resulting change in the seventh amino-acid of the HBB protein (from glutamate to valine) has spectacularly dramatic consequences including completely misshapen red blood cells.\n",
    "\n",
    "Below we download three variants of the HBB gene, from three different people. All three and many more are publicly available from the NCBI's nucleotide database. To simplify the analysis, we only look at the first 13 codons (out of 146) of the corresponding mRNA's. Our goal is to compare the RNA sequences, identify their differences, translate them to amino-acid sequences, and compare those amino-acid sequences. All comparisons will be done by eye, but the translation from RNA to amino-acid sequence should be done automatically using the translation function from task 4.\n",
    "\n",
    "The code below queries the NCBI gene database. They ask that you identify yourself by your email. **Fill out your FAU email address as a string after `Entrez.email = `. ** "
   ]
  },
  {
   "cell_type": "code",
   "execution_count": null,
   "metadata": {},
   "outputs": [],
   "source": [
    "# Here we download three DNA sequences for the human globin beta gene \n",
    "# from the NCBI nucleotide database, translate them to mRNA, then cut \n",
    "# them after the 13th codon.\n",
    "# The webpages for the records are at https://www.ncbi.nlm.nih.gov/nuccore/[id of the record]\n",
    "\n",
    "from Bio import Entrez, SeqIO\n",
    "\n",
    "Entrez.email = # Write your fau email as a string.\n",
    "\n",
    "id_list = ['V00499','V00497','EF150856'] # Those are the three records we're requesting.\n",
    "handles = Entrez.efetch(db='nucleotide',id=id_list,rettype='gb')\n",
    "records = list(SeqIO.parse(handles,'gb'))\n",
    "\n",
    "rna_sequences = []\n",
    "for r in records:\n",
    "    cds = next(f for f in r.features if f.type=='CDS')\n",
    "    rna = str(cds.extract(r).seq[:39]).replace('T','U')\n",
    "    rna_sequences.append(rna)"
   ]
  },
  {
   "cell_type": "markdown",
   "metadata": {},
   "source": [
    "<div class=\"alert alert-block alert-danger\">\n",
    "<b>Task 5:</b>\n",
    "`rna_sequences` is a list of three RNA sequences. Print them one below the other. Describe any differences between the first sequence and the second sequence, then between the first sequence and the third sequence.\n",
    "</div>"
   ]
  },
  {
   "cell_type": "code",
   "execution_count": null,
   "metadata": {},
   "outputs": [],
   "source": []
  },
  {
   "cell_type": "markdown",
   "metadata": {},
   "source": [
    "<div class=\"alert alert-block alert-danger\">\n",
    "<b>Task 6:</b>\n",
    "Translate each RNA sequence in `rna_sequences` to a list of amino-acids using the translating function from task 4. Print the three amino-acid sequences one below the other. is a list of three RNA sequences. Print them one below the other. Describe any differences between the first sequence and the second sequence, then between the first sequence and the third sequence.  \n",
    "\n",
    "</br>  \n",
    "\n",
    "Which one comes from a person with sickle-cell anemia? What's remarkable about the other two?\n",
    "</div>"
   ]
  },
  {
   "cell_type": "code",
   "execution_count": null,
   "metadata": {},
   "outputs": [],
   "source": []
  },
  {
   "cell_type": "code",
   "execution_count": null,
   "metadata": {},
   "outputs": [],
   "source": []
  }
 ],
 "metadata": {
  "kernelspec": {
   "display_name": "Python 3",
   "language": "python",
   "name": "python3"
  },
  "language_info": {
   "codemirror_mode": {
    "name": "ipython",
    "version": 3
   },
   "file_extension": ".py",
   "mimetype": "text/x-python",
   "name": "python",
   "nbconvert_exporter": "python",
   "pygments_lexer": "ipython3",
   "version": "3.8.2"
  }
 },
 "nbformat": 4,
 "nbformat_minor": 2
}
