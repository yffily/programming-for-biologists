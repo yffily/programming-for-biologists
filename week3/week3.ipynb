{
 "cells": [
  {
   "cell_type": "markdown",
   "metadata": {},
   "source": [
    "# Week 3\n",
    "\n",
    "Recall the steps to an RNA translator:\n",
    "- Step 1: Load the codon table into a list of (codon,amino-acid) pairs.  \n",
    "- Step 2: Split an RNA sequence into a list of its codons.\n",
    "- Step 3: Given a single codon, loop over the codon table to find the amino-acid it codes for.  \n",
    "- Step 4: Given a list of codons, create a list of the amino-acid each codon codes for.\n",
    "\n",
    "Last time we discussed how to perform step 1.\n",
    "\n",
    "Today we keep familiarizing ourselves with \"for\" loops, we learn about \"if\" statements, and we work on the remaining steps. Here is today's table of contents:\n",
    "1. **More looping tools.**  \n",
    "   Recap loops and introduce more looping tools.\n",
    "2. **RNA translator: step 2.**  \n",
    "   Use these new tools to tackle step 2 of the RNA translator.\n",
    "3. **If statements.**  \n",
    "   Introduce two new tools, booleans and if statements, that allow the computer to choose what to do next based on the information available at that time.\n",
    "4. **RNA translator: step 3.**  \n",
    "   Use for loops and if statements to translate a single codon."
   ]
  },
  {
   "cell_type": "markdown",
   "metadata": {},
   "source": [
    "## 1. More looping tools\n",
    "\n",
    "Here we review the looping tools we learned about last time, we discuss what we're still missing to split an RNA sequence into a list of codons, i.e., groups of three letters (step 2 of the RNA translator), and we introduce new looping tools that solve the problem."
   ]
  },
  {
   "cell_type": "markdown",
   "metadata": {},
   "source": [
    "### 1.1 How close are we from splitting a sequence into codons?\n",
    "\n",
    "Let's start by recalling some looping basics from last time."
   ]
  },
  {
   "cell_type": "code",
   "execution_count": 2,
   "metadata": {},
   "outputs": [
    {
     "name": "stdout",
     "output_type": "stream",
     "text": [
      "A\n",
      "U\n",
      "G\n",
      "...\n"
     ]
    }
   ],
   "source": [
    "# The rna sequence below is a string with six letters. \n",
    "# They can be accessed individually by their indices: 0,1,2,3,4,5.\n",
    "rna = 'AUGCUU'\n",
    "print(rna[0])\n",
    "print(rna[1])\n",
    "print(rna[2])\n",
    "print('...') # and so on"
   ]
  },
  {
   "cell_type": "code",
   "execution_count": 3,
   "metadata": {},
   "outputs": [
    {
     "name": "stdout",
     "output_type": "stream",
     "text": [
      "A\n",
      "U\n",
      "G\n",
      "C\n",
      "U\n",
      "U\n"
     ]
    }
   ],
   "source": [
    "rna = 'AUGCUU'\n",
    "\n",
    "# Rather than printing the letters by hand, we can loop go through the \n",
    "# letters automatically (\"loop through them\") with a \"for\" loop:\n",
    "for letter in rna:\n",
    "    print(letter)"
   ]
  },
  {
   "cell_type": "markdown",
   "metadata": {},
   "source": [
    "For step 2 of the RNA translator, our ultimate goal is to create a list of codons, i.e., a list of three-letter strings which, put back to back, form the RNA sequence. For example, `'AUGCUU'` becomes `['AUG','CUU']`. For such a short sequence we can extract each codon by hand (see task 1 from week 2):"
   ]
  },
  {
   "cell_type": "code",
   "execution_count": 5,
   "metadata": {},
   "outputs": [
    {
     "name": "stdout",
     "output_type": "stream",
     "text": [
      "['AUG', 'CUU']\n"
     ]
    }
   ],
   "source": [
    "rna = 'AUGCUU'\n",
    "\n",
    "list_of_codons = [ rna[:3], rna[3:6] ]\n",
    "print(list_of_codons)"
   ]
  },
  {
   "cell_type": "markdown",
   "metadata": {},
   "source": [
    "The thing is, we want to be able to do this for very long sequences for which writing down where each codon starts and ends like we did above is not practical.\n",
    "\n",
    "We'll need to use something else we discussed last time: a loop that builds a list. Eventually we'll need that loop to somehow advance by three letters at each iteration, but for now let's just make a list of all the letters. Then we can tweak it in various ways until we find a solution to our actual problem.\n",
    "\n",
    "We discussed how to do this last time. First, define an empty list that will eventually hold the list of letters. Second, write a loop over the letters of the string. Third, within that loop, add the current letter to the list using the \"loop variable\" (the one that changes value every new iteration)."
   ]
  },
  {
   "cell_type": "code",
   "execution_count": 6,
   "metadata": {},
   "outputs": [
    {
     "name": "stdout",
     "output_type": "stream",
     "text": [
      "['A', 'U', 'G', 'C', 'U', 'U']\n"
     ]
    }
   ],
   "source": [
    "rna = 'AUGCUU'\n",
    "\n",
    "letters = []\n",
    "for letter in rna:\n",
    "    letters.append(letter)\n",
    "print(letters)"
   ]
  },
  {
   "cell_type": "raw",
   "metadata": {},
   "source": [
    "Next we'd like the loop to advance three letters at a time, i.e., instead of the next iteration grabbing the next letter, we'd like the next iteration to grab the letter located three places down the sequence. That can be done with slicing:"
   ]
  },
  {
   "cell_type": "code",
   "execution_count": 9,
   "metadata": {},
   "outputs": [
    {
     "name": "stdout",
     "output_type": "stream",
     "text": [
      "AC\n",
      "\n",
      "['A', 'C']\n"
     ]
    }
   ],
   "source": [
    "rna = 'AUGCUU'\n",
    "\n",
    "# Here is a string made of every third letter or the sequence.\n",
    "print(rna[::3])\n",
    "\n",
    "print()\n",
    "\n",
    "# Now we use a for loop over the sliced string above to make the list.\n",
    "first_letters = []\n",
    "for letter in rna[::3]:\n",
    "    first_letters.append(letter)\n",
    "print(first_letters)"
   ]
  },
  {
   "cell_type": "markdown",
   "metadata": {},
   "source": [
    "The problem here is that although we can access the beginning of each codon (the first letter of each codon, i.e., every third letter of the sequence), once we're inside the loop there is no easy way to access the other two letters of the codon.\n",
    "\n",
    "What we really need to have access to inside the loop is the index of the first letter of the codon. If we have the index `i` of the first letter of the codon, we can easily access the other two letters of the codon: they are located at indices `i+1` and `i+2` respectively.\n",
    "\n",
    "Therefore, we need a new looping technique that will loop, not over the letters, but over their indices. This is what we introduce now."
   ]
  },
  {
   "cell_type": "markdown",
   "metadata": {},
   "source": [
    "### 1.2 Index looping"
   ]
  },
  {
   "cell_type": "markdown",
   "metadata": {},
   "source": [
    "**Another way to loop over a list is to first create a list of the indices of the elements we want to access, then loop over those indices and access each element by its index.**\n",
    "\n",
    "The RNA sequence stored in teh variable `rna` has six letters. The list of indices needed to access all of them is `[0,1,2,3,4,5]`. Here is how to loop over `rna` by looping over the indices."
   ]
  },
  {
   "cell_type": "code",
   "execution_count": 12,
   "metadata": {},
   "outputs": [
    {
     "name": "stdout",
     "output_type": "stream",
     "text": [
      "0\n",
      "1\n",
      "2\n",
      "3\n",
      "4\n",
      "5\n",
      "\n",
      "A\n",
      "U\n",
      "G\n",
      "C\n",
      "U\n",
      "U\n",
      "\n",
      "A\n",
      "U\n",
      "G\n",
      "C\n",
      "U\n",
      "U\n"
     ]
    }
   ],
   "source": [
    "rna = 'AUGCUU'\n",
    "\n",
    "# First, write down the list of indices.\n",
    "index_list = [0,1,2,3,4,5]\n",
    "\n",
    "# Then, write a loop the list of indices. This generates the index\n",
    "# needed to access every element (every letter) of rna in turn.\n",
    "for i in index_list:\n",
    "    print(i)\n",
    "\n",
    "print() # Blank line in the output for readability.\n",
    "\n",
    "# To access the letters of rna inside the loop over its indices, \n",
    "# call each letter by its index.\n",
    "for i in index_list:\n",
    "    print(rna[i])\n",
    "\n",
    "print()    \n",
    "\n",
    "for letter in rna:\n",
    "    print(letter)"
   ]
  },
  {
   "cell_type": "markdown",
   "metadata": {},
   "source": [
    "Creating the list of indices is such a common need that python has a function for it. `range(n)` returns the list of integers from `0` to `n-1`, which is precisely the list of all the indices of a list with `n` elements."
   ]
  },
  {
   "cell_type": "code",
   "execution_count": 2,
   "metadata": {},
   "outputs": [
    {
     "name": "stdout",
     "output_type": "stream",
     "text": [
      "0\n",
      "1\n",
      "2\n",
      "3\n",
      "4\n",
      "5\n",
      "\n",
      "A\n",
      "U\n",
      "G\n",
      "C\n",
      "U\n",
      "U\n"
     ]
    }
   ],
   "source": [
    "# If you executed the cells from the beginning, rna already \n",
    "# holds this value. Still, it's always good to have a reminder\n",
    "# of what's in it.\n",
    "rna = 'AUGCUU'\n",
    "\n",
    "# range(6) creates the list of indices for rna so we don't have\n",
    "# have to write it down by hand.\n",
    "for i in range(6):\n",
    "    print(i)\n",
    "\n",
    "print()\n",
    "\n",
    "# Just like before, we can use rna[i] to access the letter with index i\n",
    "# inside the loop over the indices.\n",
    "for i in range(6):\n",
    "    print(rna[i])"
   ]
  },
  {
   "cell_type": "markdown",
   "metadata": {},
   "source": [
    "Beyond `rna`, `range(6)` creates the list of indices for any list or string of length `6`.\n",
    "\n",
    "What if we don't know the number of elements in advance? We can ask python to compute it with `len`."
   ]
  },
  {
   "cell_type": "code",
   "execution_count": 17,
   "metadata": {},
   "outputs": [
    {
     "name": "stdout",
     "output_type": "stream",
     "text": [
      "6\n",
      "\n",
      "A\n",
      "U\n",
      "G\n",
      "C\n",
      "U\n",
      "U\n"
     ]
    }
   ],
   "source": [
    "# If you executed the cells from the beginning, rna already \n",
    "# holds this value. Still, it's always good to have a reminder\n",
    "# of what's in it.\n",
    "rna = 'AUGCUU'\n",
    "\n",
    "# Compute and print the number of elements of rna \n",
    "# (aka its size, aka its length).\n",
    "print(len(rna))\n",
    "\n",
    "print()\n",
    "\n",
    "# Rewrite the loop over indices without specifying the \n",
    "# length by hand.\n",
    "for i in range(len(rna)):\n",
    "    print(rna[i])\n",
    "\n",
    "# This last loop is much more versatile than the previous \n",
    "# one. It will loop over every letter of rna no matter how \n",
    "# many there are."
   ]
  },
  {
   "cell_type": "markdown",
   "metadata": {},
   "source": [
    "*Side note:* Technically `range(n)` is not a list. If you print it, it will not print the numbers from 0 to n. But if you use it in a `for` loop like we did above, it behaves just like a list."
   ]
  },
  {
   "cell_type": "markdown",
   "metadata": {},
   "source": [
    "The `range` function can also emulate slicing. `range(i1,i2,n)` creates the list of indices needed to access every `n`-th element of a list from index `i1` to right before index `i2`.\n",
    "\n",
    "In the case of `rna`, `range(i1,i2,n)` creates the list of indices needed to access the letters of `rna[i1:i2:n]`. That's what we mean when we say that \"range emulates slicing\". See an example below."
   ]
  },
  {
   "cell_type": "code",
   "execution_count": 18,
   "metadata": {},
   "outputs": [
    {
     "name": "stdout",
     "output_type": "stream",
     "text": [
      "GCU\n",
      "\n",
      "G\n",
      "C\n",
      "U\n",
      "\n",
      "G\n",
      "C\n",
      "U\n"
     ]
    }
   ],
   "source": [
    "# If you executed the cells from the beginning, rna already \n",
    "# holds this value. Still, it's always good to have a reminder\n",
    "# of what's in it.\n",
    "rna = 'AUGCUU'\n",
    "\n",
    "# Here is a slice of the string stored in the variable rna. It\n",
    "# contains the letters with indices 2, 3, and 4 (start at index 2,\n",
    "# stop right before index 5, grab every index in between).\n",
    "# Remember, indices start at 0, so index 2 is really the 3rd letter.\n",
    "print(rna[2:5])\n",
    "\n",
    "print() # Blank line for output readability.\n",
    "\n",
    "# We now have two ways to loop over this slice.\n",
    "# In this example they accomplish the exact same thing,\n",
    "# but we'll see in a minute that the index based one\n",
    "# is more flexible.\n",
    "\n",
    "# Option 1: First create the sliced string rna[2:5], \n",
    "# then loop over its letters.\n",
    "for letter in rna[2:5]:\n",
    "    print(letter)\n",
    "\n",
    "print() # Blank line for output readability.\n",
    "\n",
    "# Option 2: First create the list of indices corresponding\n",
    "# to the slice, then access the letters by index.\n",
    "for i in range(2,5):\n",
    "    print(rna[i])"
   ]
  },
  {
   "cell_type": "markdown",
   "metadata": {},
   "source": [
    "So what's the difference? In option 1, there is no easy way to access a letter other than `letter`. In option 2, we can easily access the letters surrounding the one at index `i`. For example, the letter that comes after `rna[i]` is `rna[i+1]`.\n",
    "\n",
    "This is a major step forward as far as splitting an RNA sequence into codons. We already knew how to access the first letter of each codon, but we had no way to access the next two letters (the rest of the codon) from inside the loop. Now we do.\n",
    "\n",
    "The next task (task 1 below) is a sort of practice round to get you on your way to writing step 2 of the RNA translator (task 2 below).\n",
    "\n",
    "But first, some quick notes."
   ]
  },
  {
   "cell_type": "markdown",
   "metadata": {},
   "source": [
    "*Note 1:* **`range` does not work with negative indices**\n",
    "\n",
    "*Note 2:* Some of the information you can omit in a slice can also be omitted in `range`:\n",
    "- `range(i1,i2)` is the same as `range(i1,i2,1)`. It returns every index from i1 to right before i2.  \n",
    "- `range(i2)` is the same as `range(0,i2,1)`. It returns every index from the start (0) to right before i2.\n",
    "\n",
    "*Note 3:* `rna` is a six-letter string. `6` is not a valid index for that string. The index of the first letter is `0`, so the index of the last letter is `5`. `rna[6]` will result in an error, something to the effect of \"hey you're asking me to go past the end of this string, it doesn't make any sense\". Why then is it ok to create the list of indices for `rna` with `range(6)`? It's because the `6` in `range(6)` means \"stop right before index 6\". The last index it creates is `5`, which is precisely the last valid index of `rna`. Similarly, if you want to access all of `rna` using explicit start and stop indices, you need to write `rna[0:6]`. This will stop right before index `6`, i.e., at index `5`, which is the index of the last letter. In other words, `rna[0:6]` is just `rna`."
   ]
  },
  {
   "cell_type": "markdown",
   "metadata": {},
   "source": [
    "<div class=\"alert alert-block alert-danger\">\n",
    "<b>Task 1:</b>\n",
    "Read the contents of `rna_sequence.txt` (see week 2). Use the range function to create a list of the indices of the first letter of each codon, then use a for loop to build a list of those first letters.  \n",
    "*Hint:* The first codon starts at the beginning (index 0). From there on you want every third letter until the end (since `range` doesn't work with negative indices, you'll need to use a positive index).\n",
    "</div>"
   ]
  },
  {
   "cell_type": "code",
   "execution_count": null,
   "metadata": {},
   "outputs": [],
   "source": []
  },
  {
   "cell_type": "markdown",
   "metadata": {},
   "source": [
    "## 2. RNA translator: step 2\n",
    "\n",
    "We now have everything we need to split an RNA sequence into codons. We know how to create a list from a loop. We know how to create a list of the indices at which each codon starts. We know how to loop over this list of indices, and we know how to access the letters at that index and the next two (in other words, the full codon) from inside the loop. It's time to write step 2 of the RNA translator."
   ]
  },
  {
   "cell_type": "markdown",
   "metadata": {},
   "source": [
    "<div class=\"alert alert-block alert-danger\">\n",
    "<b>Task 2:</b>\n",
    "Read the contents of `rna_sequence.txt`, then use a for loop, the range function, and slicing to make a list of its codons. The code should look almost exactly like that of task 1. \n",
    "</div>"
   ]
  },
  {
   "cell_type": "code",
   "execution_count": null,
   "metadata": {},
   "outputs": [],
   "source": []
  },
  {
   "cell_type": "markdown",
   "metadata": {},
   "source": [
    "## 3. If statements\n",
    "\n",
    "In step 3 of the RNA translator, the computer has to look up every codon-aminoacid pair in the codon table but only act (print something to the screen, or add something to a list) if it's found the codon it was looking for. In other words, we need to be able to tell the computer to perform an action if and only if a certain condition is satisfied. That's precisely what \"if\" statements achieve.\n",
    "\n",
    "In section **3.1** we discuss a condition is in python and what it means for it to be satisfied.  \n",
    "In section **3.2** we introduce the `if` statement, which uses a condition to decide whether a line of code should be executed or not.  \n",
    "In section **3.3** and **3.4** we discuss more advanced uses of `if` statements.\n"
   ]
  },
  {
   "cell_type": "markdown",
   "metadata": {},
   "source": [
    "### 3.1 Boolean logic\n",
    "\n",
    "We can ask python whether two things are equal with a double equal sign (==). The answer is either `True` or `False`."
   ]
  },
  {
   "cell_type": "code",
   "execution_count": 3,
   "metadata": {},
   "outputs": [
    {
     "name": "stdout",
     "output_type": "stream",
     "text": [
      "True\n",
      "False\n",
      "True\n",
      "False\n"
     ]
    }
   ],
   "source": [
    "print(1==1) # Is 1 equal to 1?\n",
    "print(1==2) # Is 1 equal to 2?\n",
    "\n",
    "# We can also compare strings.\n",
    "print('ab'=='ab') # Those two strings are equal.\n",
    "print('ab'=='AB') # Those two are not because upper case is not the same as lower case."
   ]
  },
  {
   "cell_type": "markdown",
   "metadata": {},
   "source": [
    "A common beginner's mistake is to confuse `=` and `==`. Despite their resemblance, they have completely different meanings:\n",
    "- `a = 1` means \"store the value `1` in the variable `a`\"  \n",
    "- `a == 1` means \"The value stored in `a` is equal to `1`, true or false?\".\n",
    "\n",
    "It's also important to note that `True` and `False` are not the strings `\"True\"` and `\"False\"`. They are not strings at all. They're not numbers at all. They are their own thing, a special type of value known as a boolean and designed specifically for the purpose of storing the answer to \"is this true or not?\"."
   ]
  },
  {
   "cell_type": "markdown",
   "metadata": {},
   "source": [
    "<div class=\"alert alert-block alert-danger\">\n",
    "<b>Task 3:</b>\n",
    "Eukaryotic mRNA sequences normally start with \"AUG\" (start codon). Use a boolean expression to check whether the first codon of the variable `rna` is indeed a start codon.\n",
    "</div>"
   ]
  },
  {
   "cell_type": "code",
   "execution_count": 44,
   "metadata": {},
   "outputs": [],
   "source": [
    "rna = 'AUGCUU'\n"
   ]
  },
  {
   "cell_type": "markdown",
   "metadata": {},
   "source": [
    "We won't need much more than this for the RNA translator, but other types of tests are possible. If you've never heard of boolean logic, this may be a lot to take in. Don't worry, if we actually need it for something, we'll talk about it some more.\n",
    "\n",
    "Instead of `==` you can use `!=` to check whether two things are different, `<` and `>` to check whether a number is smaller or larger than another, or `<=` and `>=` to check whether it's \"smaller or equal\" or \"larger or equal\". \n",
    "\n",
    "You can also combine multiple tests using `and` and `or`. Finally `not` inverses the truth value of what comes right after it."
   ]
  },
  {
   "cell_type": "code",
   "execution_count": 4,
   "metadata": {},
   "outputs": [
    {
     "name": "stdout",
     "output_type": "stream",
     "text": [
      "True\n",
      "False\n",
      "True\n",
      "True\n"
     ]
    }
   ],
   "source": [
    "a = 5\n",
    "# Here we combine two inequalities into a single value.\n",
    "# a is both strictly smaller than 6 and larger than or equal to 4, \n",
    "# thus the result is True.\n",
    "print(a<6 and a>=4)\n",
    "\n",
    "# Here we use not, which evaluates to True if what comes after it is False and vice versa.\n",
    "# \"not True\" is False.\n",
    "print(not True)\n",
    "\n",
    "# 5 is not larger than 6, therefore the condition is True.\n",
    "print(not (5>6))\n",
    "\n",
    "# A string is said to be smaller than another if it comes before it in alphabetical order.\n",
    "print('a'<'b')"
   ]
  },
  {
   "cell_type": "markdown",
   "metadata": {},
   "source": [
    "### 3.2 If statements"
   ]
  },
  {
   "cell_type": "markdown",
   "metadata": {},
   "source": [
    "Now that we know how to check whether a condition is True or False, we can give the computer an action to perform or not depending on whether the condition is true or not."
   ]
  },
  {
   "cell_type": "code",
   "execution_count": 5,
   "metadata": {},
   "outputs": [
    {
     "name": "stdout",
     "output_type": "stream",
     "text": [
      "This is only executed if the codon is a start codon\n",
      "This is executed either way.\n"
     ]
    }
   ],
   "source": [
    "codon = 'AUG'\n",
    "# The outcome of the next few lines depends on the value of the \n",
    "# variable codon above. After running this cell, try changing the \n",
    "# codon above and running the cell again.\n",
    "if (codon=='AUG'):\n",
    "    print('This is only executed if the codon is a start codon')\n",
    "print('This is executed either way.')"
   ]
  },
  {
   "cell_type": "markdown",
   "metadata": {},
   "source": [
    "As with for loops, indentation is crucial. The first `print` line needs to be indented. It will only be executed if the condition after `if` (in this case, `codon=='AUG'`) evaluates to `True`. If the condition evaluates to `False`, the program skips to the next non-indented line. In this case, the second `print` line. If there are multiple indented lines below the `if` line, they will all be skipped if the condition after `if` is false.\n",
    "\n",
    "Another similarity with `for` loops is the `:` at the end of the `if` line, which beginners often forget."
   ]
  },
  {
   "cell_type": "markdown",
   "metadata": {},
   "source": [
    "### 3.3 Nested blocks\n",
    "\n",
    "The group of indented lines below a `for` loop or an `if` statement is called a block. In the case of a `for` loop, it's the code that will get executed multiple times. In the case of an `if` statement, it's the code that will get ignored if the condition after `if` is evaluates to `False`. \n",
    "\n",
    "To get the most out of a programming language, we often need to combine `for` loops and `if` statements. Imagine for example that we have a list of RNA sequences to print, but we only want to print the ones that start with a start codon (AUG). We need to loop over the RNA sequences. For each sequence, we need to check whether it starts with a start codon, and only print it if it does. Here is what that looks like:"
   ]
  },
  {
   "cell_type": "code",
   "execution_count": 49,
   "metadata": {},
   "outputs": [
    {
     "name": "stdout",
     "output_type": "stream",
     "text": [
      "AUGAAC\n",
      "AUGCAC\n"
     ]
    }
   ],
   "source": [
    "sequences = ['AUGAAC','AUGCAC','AUCAAC']\n",
    "for sequence in sequences:\n",
    "    if sequence[:3]=='AUG':\n",
    "        print(sequence)"
   ]
  },
  {
   "cell_type": "markdown",
   "metadata": {},
   "source": [
    "Note how the `print` statement is indented twice (shifted eight spaces to the right). The `if` line is indented once (shifted four spaces) because that's how we tell python that it is inside the `for` loop, i.e., we want to check whether the first codon is a start codon for **every** sequence. Now we need to communicate to python that the `print` statement is inside the `if` statement, i.e., it should only be executed if the condition is true (if the first codon is a start codon). We do that by indenting the `print` statement **with respect to** the `if` statement. Since the `if` statement is indented once, the `print` statement needs to be indented twice. We say that the `if` statement is nested inside the `for` loop.\n",
    "\n",
    "The same idea applies to any kind of nested statement (loop within a loop, if within an if, loop within an if, etc). To illustrate this, here is an unnecessarily complicated way to check whether a codon is a start codon."
   ]
  },
  {
   "cell_type": "code",
   "execution_count": 6,
   "metadata": {},
   "outputs": [
    {
     "name": "stdout",
     "output_type": "stream",
     "text": [
      "The first letter is A. This may be a start codon.\n",
      "After the A comes a U. Still on track.\n",
      "Close but not a start codon.\n"
     ]
    }
   ],
   "source": [
    "codon = 'AUT'\n",
    "if codon[0]=='A':\n",
    "    print('The first letter is A. This may be a start codon.')\n",
    "    if codon[1]=='U':\n",
    "        print('After the A comes a U. Still on track.')\n",
    "        if codon[2]=='G':\n",
    "            print('Bingo! This is a start codon.')\n",
    "        if codon[2]!='G':\n",
    "            print('Close but not a start codon.')"
   ]
  },
  {
   "cell_type": "markdown",
   "metadata": {},
   "source": [
    "### 3.4 Else statement\n",
    "\n",
    "This is dispensable for us right now but widely used thus good to have heard of. The last two `if` statements in the cell above are based on the same condition: there's an action to perform if the last letter is a G, and another action if it's not. That's a common enough need that it has its own syntax:"
   ]
  },
  {
   "cell_type": "code",
   "execution_count": 22,
   "metadata": {},
   "outputs": [
    {
     "name": "stdout",
     "output_type": "stream",
     "text": [
      "The first letter is A. This may be a start codon.\n",
      "After the A comes a U. Still on track.\n",
      "Close but not a start codon.\n"
     ]
    }
   ],
   "source": [
    "codon = 'AUT'\n",
    "if codon[0]=='A':\n",
    "    print('The first letter is A. This may be a start codon.')\n",
    "    if codon[1]=='U':\n",
    "        print('After the A comes a U. Still on track.')\n",
    "        if codon[2]=='G':\n",
    "            print('Bingo! This is a start codon.')\n",
    "        else:\n",
    "            print('Close but not a start codon.')"
   ]
  },
  {
   "cell_type": "markdown",
   "metadata": {},
   "source": [
    "## 4. RNA translator: step 3\n",
    "\n",
    "We're now ready to tackle the translation itself, i.e., given a codon, find the amino-acid it codes for. We start with a single codon. First we define a `codon` variable to hold the codon we would like to translate. We also need the list of pairs representing the codon table from last time. You can reuse the exact same code (task 6 in week2.ipynb). Just don't print the entire table (well, print it at first to make sure that part of the code works correctly, but don't print it in the final version). Then, write a loop over the codon-aminoacid pairs in the codon table list. For each pair, check whether the pair's codon (the first element of the pair) matches the codon we're trying to translate. If it does, print the corresponding aminoacid (the second element of the pair)."
   ]
  },
  {
   "cell_type": "markdown",
   "metadata": {},
   "source": [
    "<div class=\"alert alert-block alert-danger\">\n",
    "<b>Task 4:</b>\n",
    "Follow the instructions above to translate the codon stored in the `codon` variable.\n",
    "</div>"
   ]
  },
  {
   "cell_type": "code",
   "execution_count": 52,
   "metadata": {},
   "outputs": [],
   "source": [
    "codon = 'AAA'\n",
    "\n",
    "# Put the code that creates the codon_table here.\n",
    "\n"
   ]
  },
  {
   "cell_type": "code",
   "execution_count": null,
   "metadata": {},
   "outputs": [],
   "source": []
  }
 ],
 "metadata": {
  "kernelspec": {
   "display_name": "Python 3",
   "language": "python",
   "name": "python3"
  },
  "language_info": {
   "codemirror_mode": {
    "name": "ipython",
    "version": 3
   },
   "file_extension": ".py",
   "mimetype": "text/x-python",
   "name": "python",
   "nbconvert_exporter": "python",
   "pygments_lexer": "ipython3",
   "version": "3.8.2"
  }
 },
 "nbformat": 4,
 "nbformat_minor": 2
}
