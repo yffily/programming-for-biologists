{
 "cells": [
  {
   "cell_type": "markdown",
   "metadata": {},
   "source": [
    "# Group Tracking Exercise: How fast were you and who did you spend time with?"
   ]
  },
  {
   "cell_type": "markdown",
   "metadata": {},
   "source": [
    "## 1. Preliminaries\n",
    "\n",
    "Most of this was already in last week's notebook. We load the data, plot it on a map, and define functions that will be useful later. The main novelty compared to last week is the `path2name` function, which we use to build a list (`names`) with the name of each track's submitter."
   ]
  },
  {
   "cell_type": "markdown",
   "metadata": {},
   "source": [
    "### 1.1 Import modules\n",
    "\n",
    "Import all the necessary modules to handle files (os, glob), dates and times (datetime), maps (mplleaflet), gpx tracking files (gpxpy), lists/arrays/stats (numpy), and plotting (pyplot)."
   ]
  },
  {
   "cell_type": "code",
   "execution_count": null,
   "metadata": {},
   "outputs": [],
   "source": [
    "import os, datetime, mplleaflet, glob, gpxpy\n",
    "import numpy as np\n",
    "import matplotlib.pyplot as plt"
   ]
  },
  {
   "cell_type": "markdown",
   "metadata": {},
   "source": [
    "### 1.2 Functions that we will use (distance, get_points and path2name)\n",
    "\n",
    "#### Distance function:\n",
    "This function computes the distance between 2 points in meters from their respective longitudes and latitudes. You don't need to modify it. You will need to use it.\n",
    "\n",
    "#### get_points function: \n",
    "This function extracts the GPX point objects contained in a gpx files. We did something similar last week, it just wasn't in a function. You don't need to modify it. We'll use it to prepare the data for the tasks.\n",
    "\n",
    "#### path2name function:\n",
    "The path2name function is new and we will use it to extract just the name of each person from the files, and  avoid any extra information. You don't need to modify it. We'll use it to create a list of the names of the submitter of each track which will be useful to visualize results and plots."
   ]
  },
  {
   "cell_type": "code",
   "execution_count": null,
   "metadata": {},
   "outputs": [],
   "source": [
    "# distance function:\n",
    "def distance(lo1,la1,lo2,la2):      \n",
    "    ''' \n",
    "    Compute the distance between two points ignoring altitudes.\n",
    "    \n",
    "    Arguments:\n",
    "      lo1: Longitude of point 1, in degrees.\n",
    "      la1: Latitude of point 1, in degrees.\n",
    "      lo2: Longitude of point 2, in degrees.\n",
    "      la2: Latitude of point 2, in degrees. \n",
    "    Output:\n",
    "      Distance between the two points in meters.\n",
    "    '''\n",
    "    return gpxpy.geo.distance(lo1,la1,None,lo2,la2,None)\n",
    "\n",
    "# get_points function:\n",
    "def get_points(path):\n",
    "    '''\n",
    "    List of GPX points in the first segment of the first \n",
    "    track of a GPX file.\n",
    "    \n",
    "    Arguments:\n",
    "      path: Path to the GPX file.\n",
    "    Output:\n",
    "      A list of GPX points.\n",
    "    '''\n",
    "    file_object = open(path)\n",
    "    gpx_object = gpxpy.parse(file_object)\n",
    "    file_object.close()\n",
    "    points = gpx_object.tracks[0].segments[0].points\n",
    "    for p in points:\n",
    "        p.time = p.time.replace(tzinfo=None)\n",
    "    return points\n",
    "\n",
    "# path2name function:\n",
    "def path2name(path):\n",
    "    '''\n",
    "    Extract the submitter's name from the path to a file submitted to canvas.\n",
    "    \n",
    "    Input:\n",
    "      path: Path to the file.\n",
    "    Output:\n",
    "      Submitter's name (last name then first name, no spaces, all lower case).\n",
    "    '''\n",
    "    filename = os.path.basename(path) # Discard folder name(s), keep file name.\n",
    "    name = filename.split('_')[0] # Discard everything after the first underscore.\n",
    "    return name"
   ]
  },
  {
   "cell_type": "markdown",
   "metadata": {},
   "source": [
    "### 1.3 Load all students GPX files\n",
    "Today we are going to load the files by making an alphabetically sorted list of all the available gpx files. For this, we will first load the files, then we will make a list of the names of people that submitted files, followed by another list of GPX points contained in each file."
   ]
  },
  {
   "cell_type": "code",
   "execution_count": null,
   "metadata": {},
   "outputs": [],
   "source": [
    "# Load files\n",
    "gpx_files = sorted(glob.glob('tracks/*.gpx'))\n",
    "\n",
    "# Make a list of the names of the people who submitted the files to canvas.\n",
    "# names[i] is the name of the person who submitted gpx_file[i].\n",
    "names = []\n",
    "for path in gpx_files:\n",
    "    names.append(path2name(path))\n",
    "\n",
    "# Make a list of the list of GPX points contained in each file.\n",
    "# tracks[i] is the list of points contained in gpx_files[i].\n",
    "tracks = []\n",
    "for path in gpx_files:\n",
    "    tracks.append(get_points(path))"
   ]
  },
  {
   "cell_type": "markdown",
   "metadata": {},
   "source": [
    "### 1.4 Define and plot the GPS Coordinates and names for each Den\n",
    "The three dens are the two soccer goals on the field south east of the SR building and the sign in front of the volleyball court, also southeast of the SR building.\n",
    "\n",
    "We plot the tracks by using a for-loop an by extracting all the the longitude (lo) and latitude (la) for each point in each track. You should see as many tracks as students in the classroom, and three squares for the three dens."
   ]
  },
  {
   "cell_type": "code",
   "execution_count": null,
   "metadata": {},
   "outputs": [],
   "source": [
    "# Define the dens (GPS coordinates and name).\n",
    "goal_SW  = [-80.117331, 26.887141, 'SW soccer goal']\n",
    "goal_SE  = [-80.116789, 26.886914, 'SE soccer goal']\n",
    "VB_court = [-80.117268, 26.886723, 'Volleyball court sign']\n",
    "# Make a list of the dens so we can loop over the dens later.\n",
    "dens     = [goal_SW, goal_SE, VB_court] \n",
    "\n",
    "# Plot every track as a line and every den as a red square.\n",
    "plt.figure(figsize=(8,8))\n",
    "for den in dens:\n",
    "    plt.scatter(den[0],den[1],s=200,marker='s',color='r')\n",
    "for points in tracks:\n",
    "    lo = []\n",
    "    la = []\n",
    "    for p in points:\n",
    "        lo.append(p.longitude)\n",
    "        la.append(p.latitude)\n",
    "    plt.plot(lo,la)\n",
    "mplleaflet.display()\n",
    "# mplleaflet.show()"
   ]
  },
  {
   "cell_type": "markdown",
   "metadata": {},
   "source": [
    "## 2. Fully automatic identification of each track's den\n",
    "\n",
    "Here we solve task 4 from last week to illustrate that the identification of each track's den can be fully automated.\n",
    "\n",
    "To do that, we need the argmax function from module numpy. It takes a list and returns the index of the largest element in that list:"
   ]
  },
  {
   "cell_type": "markdown",
   "metadata": {},
   "source": [
    "### 2.1 Example or argmax function"
   ]
  },
  {
   "cell_type": "code",
   "execution_count": null,
   "metadata": {},
   "outputs": [],
   "source": [
    "print(np.argmax([2,7,5])) # The largest element is 7, located at index 1.\n",
    "print(np.argmax([2,7,19])) # The largest element is 19, located at index 2.\n",
    "\n",
    "# Imagine those lists were the counts of points near each den.\n",
    "# Once we have the index of the den with the largest count, we can go back to\n",
    "# the list of dens to retrieve the den's name:\n",
    "i = np.argmax([2,7,19])\n",
    "print(dens[i][2])"
   ]
  },
  {
   "cell_type": "markdown",
   "metadata": {},
   "source": [
    "### 2.2 Automatic Detection of each track's den"
   ]
  },
  {
   "cell_type": "markdown",
   "metadata": {},
   "source": [
    "Now we can implement a fully automatic detection of each track's den. For each track, we count the number of points within the threshold distance of each den, then use argmax to find the den with the largest count. Then we print \"[name of the student] --> [name of the den].\" and move on to the next track."
   ]
  },
  {
   "cell_type": "code",
   "execution_count": null,
   "metadata": {},
   "outputs": [],
   "source": [
    "threshold = 3 #define the threshold\n",
    "for i in range(len(tracks)):  #loop over all the tracks\n",
    "    den_counts = []  #make a den-counts list\n",
    "    for den in dens:  #second loop over all dens\n",
    "        count = 0   #start counts at 0\n",
    "        for p in tracks[i]:  # make a third loop over all the points in each track\n",
    "            d = distance(p.longitude,p.latitude,den[0],den[1]) #give the specific longitude and latitude for each point\n",
    "            if d<threshold:  # add an if statement to only select the distances below the threshold\n",
    "                count = count+1 #if the distance is less than the threshold count one (this will give the counts)\n",
    "        den_counts.append(count) #append your counts to add them all in the den_counts list\n",
    "    \n",
    "    # Find the index of the largest count.\n",
    "    j = np.argmax(den_counts) #use the armax function to find the index of teh largest count\n",
    "    print(f'{names[i]} --> {dens[j][2]}') #print including the names of each student and the names of the dens"
   ]
  },
  {
   "cell_type": "markdown",
   "metadata": {},
   "source": [
    "## 3. Pair proximity\n",
    "\n",
    "We would now like to identify pairs of students that were close to each other during (a good part of) the tracking. The core idea is similar to the one we used to identify each student's den: given a pair of tracks, we're going to count how many times they were detected within 3 meters of each other. On the other hand the problem is made much trickier by the fact that both targets are moving. Two tracks coming near the same location is not enough; they need to come near the same location *at the same time*. To make that comparison possible, below we create a new set of \"synchronized\" tracks such that all the first points have the same time, all the second points have the same time, etc."
   ]
  },
  {
   "cell_type": "markdown",
   "metadata": {},
   "source": [
    "### 3.1. Define functions to interpolate tracks \n",
    "Here you have a series of functions to creates the synchronized tracks. It uses a lot of functions and code we covered in the class and a few new ones, like interp1d. You will be only using these functions, you don't need to modify this code."
   ]
  },
  {
   "cell_type": "code",
   "execution_count": null,
   "metadata": {},
   "outputs": [],
   "source": [
    "# Convert between datetimes and seconds since a reference date.\n",
    "t0 = tracks[0][0].time # Use the first point of the first track as a reference.\n",
    "def date2seconds(t,t0=t0):\n",
    "    return (t-t0).total_seconds()\n",
    "def seconds2date(t,t0=t0):\n",
    "    return t0+datetime.timedelta(seconds=t)\n",
    "    \n",
    "# Create a function that interpolates a track.\n",
    "# We'll make use of the function interp1d from submodule interpolate in module scipy.\n",
    "from scipy.interpolate import interp1d\n",
    "def make_interpolated_track(track):\n",
    "    sec  = [ date2seconds(p.time) for p in track ]\n",
    "    lon  = [ p.longitude for p in track ]\n",
    "    lat  = [ p.latitude for p in track ]\n",
    "    lon_ = interp1d(sec,lon) #,fill_value='extrapolate')\n",
    "    lat_ = interp1d(sec,lat) #,fill_value='extrapolate')\n",
    "    return lambda t: [float(lon_(t)),float(lat_(t))]\n",
    "\n",
    "# Identify the time interval during which every one was tracking.\n",
    "t_start = max([ track[0].time for track in tracks ])\n",
    "t_stop  = min([ track[-1].time for track in tracks ])\n",
    "# Number of seconds for which everyone was tracking:\n",
    "seconds_all_tracking = (t_stop-t_start).total_seconds()\n",
    "# print(seconds_all_tracking)\n",
    "\n",
    "# Create of new set of \"synchronized\" tracks, one for each original track.\n",
    "# The synchronized tracks all have points at the exact same times.\n",
    "T = np.linspace(date2seconds(t_start),date2seconds(t_stop),seconds_all_tracking)\n",
    "tracks_synchronized = []\n",
    "for track in tracks:\n",
    "    track_interpolated = make_interpolated_track(track)\n",
    "    track_synchronized = [ [seconds2date(t)]+track_interpolated(t) for t in T ]\n",
    "    tracks_synchronized.append(track_synchronized)\n",
    "\n",
    "# # Plot all the synchronized tracks and the dens.\n",
    "# plt.figure(figsize=(8,8))\n",
    "# for den in dens:\n",
    "#     plt.scatter(den[0],den[1],s=200,marker='s',color='red')\n",
    "# for points in tracks_synchronized:\n",
    "#     lo = [ p[1] for p in points ]    \n",
    "#     la = [ p[2] for p in points ]\n",
    "#     plt.plot(lo,la)\n",
    "# mplleaflet.display()\n",
    "# # mplleaflet.show()"
   ]
  },
  {
   "cell_type": "markdown",
   "metadata": {},
   "source": [
    "<div class=\"alert alert-block alert-danger\">\n",
    "<b>Task 1a:</b>  \n",
    "\n",
    "Count the number of times track 0 and track 1 were within 3 meters of each other.\n",
    "</div>\n",
    "\n",
    "*Outline:*  \n",
    "Set a counter to zero. Loop over the indices of either track, use the tracks_synchronized list (the synchronized tracks all have the same indices). At each index i, compute the distance between point i on track 0 and point i on track 1. If it's less than 3 meters, increase the counter by 1. Once you're done, print the counter."
   ]
  },
  {
   "cell_type": "code",
   "execution_count": null,
   "metadata": {},
   "outputs": [],
   "source": []
  },
  {
   "cell_type": "markdown",
   "metadata": {},
   "source": [
    "<div class=\"alert alert-block alert-danger\">\n",
    "<b>Task 1b:</b>  \n",
    "\n",
    "Write a function that takes two track indices i and j and returns the number of times the two tracks were within 3 meters of each other.\n",
    "</div>\n",
    "\n",
    "*Hint:*  \n",
    "Same as the previous task except this time you will have to define a function using tracks i and j instead of 0 and 1."
   ]
  },
  {
   "cell_type": "code",
   "execution_count": null,
   "metadata": {},
   "outputs": [],
   "source": []
  },
  {
   "cell_type": "markdown",
   "metadata": {},
   "source": [
    "<div class=\"alert alert-block alert-danger\">\n",
    "<b>Task 1c:</b>  \n",
    "\n",
    "Find every pair of students that was detected at least 60 times (1 minute) within 3 meters of each other. For each pair, print the name of each student and the proximity count.\n",
    "</div>\n",
    "\n",
    "*Outline:*  \n",
    "Loop over the students. Inside that loop, loop over the students again. This makes it possible to consider every possible pair of students in turn. For each pair, use the function from the previous task to count the number of times there were within 3 meters of each other. If that count is larger than 60 print the name of the two students and the count. If the pair consists of the same student twice, don't print anything."
   ]
  },
  {
   "cell_type": "code",
   "execution_count": null,
   "metadata": {},
   "outputs": [],
   "source": []
  },
  {
   "cell_type": "markdown",
   "metadata": {},
   "source": [
    "<div class=\"alert alert-block alert-danger\">\n",
    "<b>Extra Task 1d:</b>  \n",
    "\n",
    "The method outlined in the previous task leads to printing every pair of students twice (the second time the order of the students is reversed). Rewrite your solution to avoid this problem.\n",
    "</div>\n",
    "\n",
    "*Hint:*  \n",
    "Only consider pairs of student indices in which the second index is smaller than the first."
   ]
  },
  {
   "cell_type": "code",
   "execution_count": null,
   "metadata": {},
   "outputs": [],
   "source": []
  },
  {
   "cell_type": "markdown",
   "metadata": {},
   "source": [
    "## 4. Speed\n",
    "\n",
    "Here we plot everyone's speed against time, then compute everyone's mean and top speed and show them as bar plots.\n",
    "\n",
    "### 4.1. Extract the speed and time\n",
    "\n",
    "In this section we build two lists, one with the speed (speeds) and other one with the time (times) for each point in the tracks. You will use these lists to later plot the speed of each track."
   ]
  },
  {
   "cell_type": "code",
   "execution_count": null,
   "metadata": {},
   "outputs": [],
   "source": [
    "# Make a list of each track's instantaneous speed (in m/s) vs time.\n",
    "# For each point of each track, the speed is obtained by computing\n",
    "# the distance traveled and the time elapsed since the last point on the track\n",
    "# and dividing one by the other.\n",
    "\n",
    "times  = []\n",
    "speeds = []\n",
    "for i in range(len(tracks)):\n",
    "    track = tracks[i]\n",
    "    # Create empty lists to hold the time and speed on this track.\n",
    "    time  = []\n",
    "    speed = []\n",
    "    # Loop over the points on this track. Skip the first point as it has no previous point.\n",
    "    for j in range(1,len(track)):\n",
    "        p1 = track[j-1] # previous point\n",
    "        p2 = track[j]   # current point\n",
    "        t  = (p2.time-p1.time).total_seconds() # seconds elapsed\n",
    "        d  = distance(p1.longitude,p1.latitude,p2.longitude,p2.latitude) # distance traveled\n",
    "        # One of the tracks recorded two points with the same timestamp but different positions.\n",
    "        # We need to disregard it to avoid a division by zero error.\n",
    "        if t!=0:\n",
    "            time.append(p1.time)\n",
    "            speed.append(d/t)\n",
    "    speeds.append(speed)\n",
    "    times.append(time)"
   ]
  },
  {
   "cell_type": "markdown",
   "metadata": {},
   "source": [
    "### 4.2. Plot the speed vs time\n",
    "\n",
    "<div class=\"alert alert-block alert-danger\">\n",
    "<b>Task 2:</b>  \n",
    "Plot each track's speed vs time, one curve per track. Make a legend with the name of each track's submitter. Discuss the result. What do you think is happening at the very beginning? How can you get a better look at what happens later on?\n",
    "</div>"
   ]
  },
  {
   "cell_type": "code",
   "execution_count": null,
   "metadata": {},
   "outputs": [],
   "source": []
  },
  {
   "cell_type": "markdown",
   "metadata": {},
   "source": [
    "### 4.3. Compute the mean and top speed\n",
    "\n",
    "To compute means and other statistical properties in previous weeks, we always started from a data table in the form of a pandas DataFrame. Something like this:  \n",
    "<code>import pandas as pd\n",
    "data = pd.read_excel('some_excel_file.xsls')\n",
    "print(data['some_column_name'].mean()) # print the mean\n",
    "print(data['some_column_name'].sum())  # print the sum</code>\n",
    "\n",
    "This is convenient if the data came from a spreadsheet. When the data is in a list, it's more convenient to use the numpy version of the statistical functions:"
   ]
  },
  {
   "cell_type": "code",
   "execution_count": null,
   "metadata": {},
   "outputs": [],
   "source": [
    "import numpy as np\n",
    "\n",
    "data = [1,43,6,7,9,7,3]\n",
    "print(np.mean(data))\n",
    "print(np.std(data))\n",
    "\n",
    "# The count and max function have no direct numpy counterpart\n",
    "# because they already exist in basic python:\n",
    "print(len(data))\n",
    "print(max(data))\n",
    "\n",
    "# The sum function is defined both in basic python and inside numpy.\n",
    "print(sum(data))\n",
    "print(np.sum(data))"
   ]
  },
  {
   "cell_type": "markdown",
   "metadata": {},
   "source": [
    "<div class=\"alert alert-block alert-danger\">\n",
    "<b>Task 3:</b>  \n",
    "Create a list with the mean speed of every student. Plot it as a bar chart with the students' names on the x axis and the mean speed on the y axis.  \n",
    "\n",
    "<br/>\n",
    "Do the same with the top speed.\n",
    "</div>\n",
    "\n",
    "*Outline:* Create empty lists for the mean and top speeds. Loop over the lists of instantaneous speeds. For each student, compute the mean and the maximum of their list of speeds and append them to the list of mean speeds and the list of top speeds respectively."
   ]
  },
  {
   "cell_type": "code",
   "execution_count": null,
   "metadata": {},
   "outputs": [],
   "source": []
  }
 ],
 "metadata": {
  "kernelspec": {
   "display_name": "Python 3",
   "language": "python",
   "name": "python3"
  },
  "language_info": {
   "codemirror_mode": {
    "name": "ipython",
    "version": 3
   },
   "file_extension": ".py",
   "mimetype": "text/x-python",
   "name": "python",
   "nbconvert_exporter": "python",
   "pygments_lexer": "ipython3",
   "version": "3.8.5"
  }
 },
 "nbformat": 4,
 "nbformat_minor": 2
}
