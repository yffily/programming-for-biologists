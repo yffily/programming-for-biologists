{
 "cells": [
  {
   "cell_type": "markdown",
   "metadata": {},
   "source": [
    "# Week 5: Using RNA translation to analyze hemoglobin mutations.\n",
    "\n",
    "Today we use the RNA translation function from last time to analyze some of the genetic mutations of the hemoglobin subunit B gene. Here is today's table of contents:\n",
    "1. **Define the RNA translating function.**  \n",
    "   We wrote a version of it for you that doesn't require `rna_codon-table.txt`.\n",
    "2. **CASE OF STUDY: Genetic anemia and beta globin.**  \n",
    "   Background info on the genetic roots of some anemias.\n",
    "3. **Types of mutations in beta globin.**  \n",
    "   Analyze three partial RNA sequences and their translations to discuss two distinct types of mutations.\n",
    "4. **Automatic detection of mutations in beta globin.**  \n",
    "   Write a program that reads a list of full beta globin RNA sequences and detects which ones have mutations, and which mutations."
   ]
  },
  {
   "cell_type": "markdown",
   "metadata": {},
   "source": [
    "## 1. RNA translation function\n",
    "\n",
    "This week's program relies heavily last week's RNA translating function. We provide an implementation of it below. That  way we all have the same starting point. We modified it slightly to eliminate the need for  and 2) eliminates the need the file `rna_codon-table.txt`, choosing instead to type in the codon table inside the function.\n",
    "\n",
    "But first, let's refresh our memories on functions by looking at a simpler function that transcripts a DNA sequence into an RNA sequence. We use the string method `replace`, which works like this: for any three strings `a`, `b`, and `c`, `a.replace(b,c)` returns a copy of `a` in which every instance of `b` has been replaced by `c`. For example, `'ATG'.replace('T','U')` returns `AUG`, which is `ATG` after replacing every `T` with a `U`. To transcript a DNA sequence stored in the variable `dna`, we simply write `dna.replace('T','U')`. That replaces every `T` in `dna` with a `U`, which is exactly what transcription is."
   ]
  },
  {
   "cell_type": "code",
   "execution_count": 3,
   "metadata": {},
   "outputs": [
    {
     "name": "stdout",
     "output_type": "stream",
     "text": [
      "AUG\n"
     ]
    }
   ],
   "source": [
    "# Recall the basic layout of a function definition.\n",
    "# \"transcript\" is the name of the function.\n",
    "# \"dna\" is the argument.\n",
    "# The return value is the content of the variable \"rna\".\n",
    "def transcript(dna):\n",
    "    rna = dna.replace('T','U')\n",
    "    return rna\n",
    "\n",
    "# Now a test.\n",
    "print(transcript('ATG'))"
   ]
  },
  {
   "cell_type": "markdown",
   "metadata": {},
   "source": [
    "Note that:  \n",
    "- The argument, `dna`, could be called anything. However, to access the DNA sequence from inside the function you must use the same name you put between the brackets on the `def` line.  \n",
    "- Similarly, `rna` could be called anything. What gets returned is not the name of the variable, it's its value. When python reads `return rna`, it first evaluates `rna`, then replaces it the result of the evaluation (in this case, the value stored in `rna`), then returns that.  \n",
    "\n",
    "\n",
    "</br>  \n",
    "Let's keep refreshing, on loops and conditional statements this time. Having the `replace` function is very convenient, however it's not too hard to write your own using the same concepts we used in last week's translation function. See the implementation below. We start with an empty string and build the RNA sequence one letter at a time by looping over every letter of the DNA sequence. If the letter is `A`, or `G`, or `C`, we just add it to the RNA sequence. If it's a `T`, we add a `U` to the RNA sequence."
   ]
  },
  {
   "cell_type": "code",
   "execution_count": 4,
   "metadata": {},
   "outputs": [],
   "source": [
    "# This does the same thing as the transcript function above.\n",
    "def transcript(dna):\n",
    "    rna = '' # Start with an empty string.\n",
    "    for letter in dna: # Loop over the letters of the DNA sequence (the argument).\n",
    "        if letter=='T':\n",
    "            rna = rna + 'U' # If the letter is a 'T', add a 'U' to the RNA sequence.\n",
    "        else:\n",
    "            rna = rna + letter # Otherwise, add the letter itself to the RNA sequence.\n",
    "    return rna # Once every letter of dna has been considered, return the value of rna."
   ]
  },
  {
   "cell_type": "markdown",
   "metadata": {},
   "source": [
    "Finally, let's define the `translate` function we'll use in the rest of this notebook. It's essentially the last function we asked you to write last week; the only difference is that the codon table is defined as a list of pairs directly rather than read from a text file. The drawback of that is the need to type the codon table into the code. The benefit is that we don't need `rna_codon-table.txt` any more."
   ]
  },
  {
   "cell_type": "code",
   "execution_count": 5,
   "metadata": {},
   "outputs": [],
   "source": [
    "# Input an RNA sequence as string.\n",
    "# Output a list of amino-acids.\n",
    "def translate(rna):\n",
    "    # Define the codon table.\n",
    "    codon_table = [['UUU', 'Phe'], ['UCU', 'Ser'], ['UAU', 'Tyr'], ['UGU', 'Cys'], ['UUC', 'Phe'], ['UCC', 'Ser'], ['UAC', 'Tyr'], ['UGC', 'Cys'], ['UUA', 'Leu'], ['UCA', 'Ser'], ['UAA', '---'], ['UGA', '---'], ['UUG', 'Leu'], ['UCG', 'Ser'], ['UAG', '---'], ['UGG', 'Urp'], ['CUU', 'Leu'], ['CCU', 'Pro'], ['CAU', 'His'], ['CGU', 'Arg'], ['CUC', 'Leu'], ['CCC', 'Pro'], ['CAC', 'His'], ['CGC', 'Arg'], ['CUA', 'Leu'], ['CCA', 'Pro'], ['CAA', 'Gln'], ['CGA', 'Arg'], ['CUG', 'Leu'], ['CCG', 'Pro'], ['CAG', 'Gln'], ['CGG', 'Arg'], ['AUU', 'Ile'], ['ACU', 'Thr'], ['AAU', 'Asn'], ['AGU', 'Ser'], ['AUC', 'Ile'], ['ACC', 'Thr'], ['AAC', 'Asn'], ['AGC', 'Ser'], ['AUA', 'Ile'], ['ACA', 'Thr'], ['AAA', 'Lys'], ['AGA', 'Arg'], ['AUG', 'Met'], ['ACG', 'Thr'], ['AAG', 'Lys'], ['AGG', 'Arg'], ['GUU', 'Val'], ['GCU', 'Ala'], ['GAU', 'Asp'], ['GGU', 'Gly'], ['GUC', 'Val'], ['GCC', 'Ala'], ['GAC', 'Asp'], ['GGC', 'Gly'], ['GUA', 'Val'], ['GCA', 'Ala'], ['GAA', 'Glu'], ['GGA', 'Gly'], ['GUG', 'Val'], ['GCG', 'Ala'], ['GAG', 'Glu'], ['GGG', 'Gly']]\n",
    "    # Build the list of codons.\n",
    "    codons = []\n",
    "    for i in range(0,len(rna),3):\n",
    "        codons.append(rna[i:i+3])\n",
    "    # Loop over the codons. Translate each one.\n",
    "    aacids = []\n",
    "    for codon in codons:\n",
    "        for pair in codon_table:\n",
    "            if codon==pair[0]:\n",
    "                aacids.append(pair[1])\n",
    "    # Return the result.\n",
    "    return aacids"
   ]
  },
  {
   "cell_type": "markdown",
   "metadata": {},
   "source": [
    "## 2.  CASE OF STUDY Genetic anemias"
   ]
  },
  {
   "cell_type": "markdown",
   "metadata": {},
   "source": [
    "Presentation by Andia."
   ]
  },
  {
   "cell_type": "markdown",
   "metadata": {},
   "source": [
    "## 3. Types of mutations in beta globin\n",
    "\n",
    "The file `hbb_rna_snippets.txt` contains the first 11 codons of the beta globin gene from three different people (one line per person). The records were downloaded from the NCBI \"nucleotide\" database (see the records' webpages here: [V00499](https://www.ncbi.nlm.nih.gov/nuccore/V00499), [V00497](https://www.ncbi.nlm.nih.gov/nuccore/V00497), [EF150856](https://www.ncbi.nlm.nih.gov/nuccore/EF150856)).\n",
    "\n",
    "In this section we use visual inspection to identify the differences between the three RNA sequences, then translate them to amino-acid sequences and inspect those to illustrate the existence of different types of mutations.\n",
    "\n",
    "We will focus on single amino acid mutations, one that drastically change hemoglobin and that has severe impact on human health (anemia), and one that does not have any effect (a silent mutation). "
   ]
  },
  {
   "cell_type": "markdown",
   "metadata": {},
   "source": [
    "<div class=\"alert alert-block alert-danger\">\n",
    "<b>Task 1:</b> \n",
    "Load the file `hbb_rna_snippets.txt` into a list of three RNA sequences. Each element of the final list should hold one line of the file.  \n",
    "\n",
    "*Hint:* Create an empty list. Use a for loop to read the file one line at a time. Every time your read a line, add it to the list. Don't forget to drop the newline character.\n",
    "</div>"
   ]
  },
  {
   "cell_type": "code",
   "execution_count": null,
   "metadata": {
    "scrolled": true
   },
   "outputs": [],
   "source": []
  },
  {
   "cell_type": "markdown",
   "metadata": {},
   "source": [
    "<div class=\"alert alert-block alert-danger\">\n",
    "<b>Task 2a:</b>\n",
    "For each sequence, create and print its list of codons.  \n",
    "\n",
    "*Hint*: write a loop over the RNA sequences from task 1.  \n",
    "\n",
    "</br>  \n",
    "\n",
    "<b>Task 2b:</b>\n",
    "Inspect the lists visually to locate every difference between the three sequences (no programming involved). For each difference you find, write down the ID of the codon (1st, 2nd, etc) and the nature of the difference.\n",
    "</div>"
   ]
  },
  {
   "cell_type": "code",
   "execution_count": null,
   "metadata": {},
   "outputs": [],
   "source": []
  },
  {
   "cell_type": "markdown",
   "metadata": {},
   "source": [
    "<div class=\"alert alert-block alert-danger\">\n",
    "<b>Task 3a:</b>\n",
    "For each sequence, translate it with the `translate` function above and print its list of amino-acids. Hint: write a loop over the RNA sequences from task 1. \n",
    "\n",
    "</br>  \n",
    "\n",
    "<b>Task 3b:</b>\n",
    "Inspect the lists of amino-acids visually to locate every difference between the three sequences (no programming involved). For each difference you find, write down the ID of the amino-acid (1st, 2nd, etc) and the nature of the difference.  \n",
    "\n",
    "</br>  \n",
    "\n",
    "<b>Task 3c:</b>\n",
    "Compare the codon differences and the amino-acid differences. What do you notice?\n",
    "</div>"
   ]
  },
  {
   "cell_type": "code",
   "execution_count": null,
   "metadata": {},
   "outputs": [],
   "source": []
  },
  {
   "cell_type": "markdown",
   "metadata": {},
   "source": [
    "## 4. Automatic detection of mutations in beta globin\n",
    "\n",
    "We would now like to automate the amino-acid comparison to make it possible to analyze a large number of long sequences.  \n",
    "\n",
    "To this end, we're going to write a `compare` function that takes two RNA sequences and outputs a list of every difference between the resulting amino-acid sequences. Here is how the function should work:  \n",
    "\n",
    "- Take two string arguments: the two RNA sequences. \n",
    "- Use the `translate` function above to get the list of amino-acids corresponding to each RNA sequence. \n",
    "- Create an empty list that will eventually hold the list of differences. \n",
    "- Write a loop over the indices of either list of amino-acids (they are the same size, so they have the same list of indices). \n",
    "- At each index (say, `i`), compare the i-th amino-acid in the first list and the i-th amino-acid and the second list. If they are different, create a triplet with their amino-acid number (i) and the name of the amino-acid in each list. Add that triplet to the list of differences. \n",
    "- Once all the amino-acids have been checked, return the list of differences."
   ]
  },
  {
   "cell_type": "markdown",
   "metadata": {},
   "source": [
    "<div class=\"alert alert-block alert-danger\">\n",
    "<b>Task 4:</b>\n",
    "Write a function that takes two RNA sequences and outputs a list of every difference between the two resulting amino-acid sequences. Each difference should be a triplet (amino-acid number, name of amino-acid in the first sequence, name of the amino-acid in the second sequence). Test your function on the three sequences from task 1.\n",
    "</div>"
   ]
  },
  {
   "cell_type": "code",
   "execution_count": null,
   "metadata": {},
   "outputs": [],
   "source": []
  },
  {
   "cell_type": "markdown",
   "metadata": {},
   "source": [
    "<div class=\"alert alert-block alert-danger\">\n",
    "<b>Task 5:</b>\n",
    "Load the file `hbb_rna_sequences.txt` into a list of RNA sequences. There are 950 RNA sequences, one per line, and 438 characters (146 codons) per sequence. The first sequence is healthy. Write a loop that uses the `compare` function from task 4 to compare every sequence to the first sequence. If the list of differences is empty, the sequence is healthy as well, do not print anything. If it's not empty, print the list of differences.\n",
    "</div>"
   ]
  },
  {
   "cell_type": "code",
   "execution_count": null,
   "metadata": {},
   "outputs": [],
   "source": []
  },
  {
   "cell_type": "markdown",
   "metadata": {},
   "source": [
    "<div class=\"alert alert-block alert-danger\">\n",
    "<b>Task 6:</b>\n",
    "An empty list of differences `[]` indicates a healthy beta globin. \n",
    "The list of differences `[[6, 'Val', 'Glu']]` (or `[[6, 'Glu', 'Val']]` depending the order in which you fed the two RNA sequences to the `compare` function) indicates sickle-cell anemia. \n",
    "I'm not sure what the other lists of differences indicate.  \n",
    "\n",
    "</br>  \n",
    "\n",
    "Copy your solution to task 5 into the cell below, then make the following changes. If a sequence has no mutations, do the same as before (print nothing). If the list of differences is `[[6, 'Val', 'Glu']]` (or `[[6, 'Glu', 'Val']]`), print \"Sequence ### has the sickle-cell mutation.\" where ### is the index of that sequence in the list of sequences. In every other case, print \"Sequence ### has an unknown mutation.\". \n",
    "</div>"
   ]
  },
  {
   "cell_type": "code",
   "execution_count": null,
   "metadata": {},
   "outputs": [],
   "source": []
  }
 ],
 "metadata": {
  "kernelspec": {
   "display_name": "Python 3",
   "language": "python",
   "name": "python3"
  },
  "language_info": {
   "codemirror_mode": {
    "name": "ipython",
    "version": 3
   },
   "file_extension": ".py",
   "mimetype": "text/x-python",
   "name": "python",
   "nbconvert_exporter": "python",
   "pygments_lexer": "ipython3",
   "version": "3.6.8"
  }
 },
 "nbformat": 4,
 "nbformat_minor": 2
}
