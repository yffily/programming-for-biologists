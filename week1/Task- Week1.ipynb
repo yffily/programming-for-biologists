{
 "cells": [
  {
   "cell_type": "markdown",
   "metadata": {},
   "source": [
    "\n",
    "## Calculating GA content of a marine sponge DNA sequence\n",
    " \n",
    "\n",
    "This exercise involve starting with a DNA sequence string. To save you typing out the whole sequence each time, We've provided code cells with the DNA sequence already defined as a variable. Later in the course we'll see how to load data from files instead.\n",
    "\n",
    "Here's a DNA sequence that corresponds to a fragment of the Genome of a marine sponge:\n",
    "\n",
    "TTGTTTAAGGCCTAGCTAGCAGAATCACTTGCCCACCAACTCCTATATATGGAGAGGAGAGAGAGAGAGAGAGAGAGAGAGAGAGAGCGAGCAGCTGTTAGGAAGATTGTGCTGCTAAAGGGAATACAGGCCACACCCACCAGGAGGAGTTGGTTTGTTTCTGATCTGTTGATTACTTTGTTCATGTCAAATTCTGTGAAAGTGTGAAGGTGCATGTGTGTGTGTGTGTGTGTGCGCATGTTTGTGAGTGTGCATAATCATACCTGCATCTATCTCCTTTCCTTCAAAAGTTGAAGCCTACAAAATAACAAGGGGGGGGGGAGGAAGAGAGACGGATAGAGAGACAGAGACAGAGAGAGAGAGAGAGAGAGAGAGAGAGAGAGAGAGAGAGGTTTCTGCTATCTAGGCCTTAAACAA\n",
    "\n",
    "\n",
    "Write a program that will print out the GA content of this DNA sequence (i.e. the proportion of bases that are either G or A). Hint: you can use normal mathematical symbols like add (+), subtract (-), multiply (*), divide (/) and parentheses to carry out calculations on numbers in Python. "
   ]
  },
  {
   "cell_type": "code",
   "execution_count": 1,
   "metadata": {},
   "outputs": [],
   "source": [
    "# work on your answer in this code cell\n",
    "\n",
    "\n",
    "\n",
    "\n"
   ]
  }
 ],
 "metadata": {
  "kernelspec": {
   "display_name": "Python 3",
   "language": "python",
   "name": "python3"
  },
  "language_info": {
   "codemirror_mode": {
    "name": "ipython",
    "version": 3
   },
   "file_extension": ".py",
   "mimetype": "text/x-python",
   "name": "python",
   "nbconvert_exporter": "python",
   "pygments_lexer": "ipython3",
   "version": "3.6.8"
  }
 },
 "nbformat": 4,
 "nbformat_minor": 2
}
