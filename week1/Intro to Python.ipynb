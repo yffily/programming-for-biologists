{
 "cells": [
  {
   "cell_type": "markdown",
   "metadata": {},
   "source": [
    "\n",
    "## Some basic jargon - string-\n",
    "Exercise obtained and modified from https://pythonforbiologists.com - By Dr. Martin Jones.\n",
    "\n",
    "We would like to introduce – the word (jargon) *string*. String is the word we use to refer to a piece of text in a computer program (it just means a string of characters). The word *string* will be used when we're talking about computer code, and the word *sequence* will be used for when we're discussing biological sequences like DNA and protein. \n",
    "\n",
    "---"
   ]
  },
  {
   "cell_type": "markdown",
   "metadata": {},
   "source": [
    "## Printing a message to the screen\n",
    "\n",
    "The first thing we're going to learn is how to print a message to the screen. When we talk about printing text inside a computer program, we are not talking about producing a document on a printer. The word \"print\" is used for any occasion when our program outputs some text – in this case, the output is displayed under the code cell.\n",
    "\n",
    "Here's a line of Python code that will cause a friendly message to be printed:"
   ]
  },
  {
   "cell_type": "code",
   "execution_count": 1,
   "metadata": {},
   "outputs": [
    {
     "name": "stdout",
     "output_type": "stream",
     "text": [
      "Hello world\n"
     ]
    }
   ],
   "source": [
    "print(\"Hello world\")"
   ]
  },
  {
   "cell_type": "markdown",
   "metadata": {},
   "source": [
    "This line of code is called a *statement*.\n",
    "\n",
    "`print()` is the name of a *function*. The function tells Python, in vague terms, what we want to do – in this case, we want to print some text. The function name is always followed by parentheses. \n",
    "\n",
    "The bits of text inside the parentheses are called the *arguments* to the function. In this case, we just have one argument (when you have more than one argument, arguments are separated by commas). \n",
    "\n",
    "The arguments tell Python what we want to do more specifically – in this case, the argument tells Python exactly what it is we want to print: the message \"Hello World\".\n",
    "\n",
    "If you're opening this notebook for the first time, then the output from the code should already be displayed underneath, but if it's missing, just click somewhere inside the code cell and press the *run* buttton. \n",
    "\n",
    "These code examples are editable, so you can change them to print something else, run it again, and see how the output changes. "
   ]
  },
  {
   "cell_type": "markdown",
   "metadata": {},
   "source": [
    "In normal writing, we only surround a bit of text in quotes when we want to show that they are being spoken. In Python, however, strings are **always** surrounded by quotes. That is how Python is able to tell the difference between the instructions (like the function name) and the data (the thing we want to print). We can use either single or double quotes for strings – Python will happily accept either. The following two statements behave exactly the same:"
   ]
  },
  {
   "cell_type": "code",
   "execution_count": 2,
   "metadata": {},
   "outputs": [
    {
     "name": "stdout",
     "output_type": "stream",
     "text": [
      "Hello world\n",
      "Hello world\n"
     ]
    }
   ],
   "source": [
    "print(\"Hello world\")\n",
    "print('Hello world')"
   ]
  },
  {
   "cell_type": "markdown",
   "metadata": {},
   "source": [
    "You'll notice that the output above doesn't contain quotes – they are part of the code, not part of the string itself. If we **do** want to include quotes in the output, the easiest thing to do is use the other type of quotes for surrounding the string:"
   ]
  },
  {
   "cell_type": "code",
   "execution_count": 2,
   "metadata": {},
   "outputs": [
    {
     "name": "stdout",
     "output_type": "stream",
     "text": [
      "They said, 'Hello world'\n",
      "She said, \"Hello world\"\n"
     ]
    }
   ],
   "source": [
    "print(\"They said, 'Hello world'\")\n",
    "print('She said, \"Hello world\"')"
   ]
  },
  {
   "cell_type": "markdown",
   "metadata": {},
   "source": [
    "Be careful when writing and reading code that involves quotes – you have to make sure that the quotes at the beginning and end of the string match up, otherwise you'll get an error.\n",
    "\n",
    "---"
   ]
  },
  {
   "cell_type": "markdown",
   "metadata": {},
   "source": [
    "## Use comments to annotate your code\n",
    "\n",
    "Occasionally, we want to write some text in a program that is for humans to read, rather than for the computer to execute. We call this type of line a *comment*. To include a comment in your source code, start the line with a hash symbol (This symbol has many names – you might know it as number sign, pound sign, octothorpe, sharp (from musical notation), cross, or pig-pen)."
   ]
  },
  {
   "cell_type": "code",
   "execution_count": 5,
   "metadata": {},
   "outputs": [
    {
     "name": "stdout",
     "output_type": "stream",
     "text": [
      "Comments are very useful!\n"
     ]
    }
   ],
   "source": [
    "# this is a comment, it will be ignored by the computer\n",
    "print(\"Comments are very useful!\")"
   ]
  },
  {
   "cell_type": "markdown",
   "metadata": {},
   "source": [
    "Comments are a very useful way to document your code, for a number of reasons:\n",
    "\n",
    "- You can put the explanation of what a particular bit of code does right next to the code itself. This makes it much easier to find the documentation for a line of code that is in the middle of a large program, without having to search through a separate document.\n",
    "- Because the comments are part of the source code, they can never get mixed up or separated. In other words, if you are looking at the source code for a particular program, then you automatically have the documentation as well. In contrast, if you keep the documentation in a separate file, it can easily become separated from the code.\n",
    "- Having the comments right next to the code acts as a reminder to update the documentation whenever you change the code. The only thing worse than undocumented code is code with old documentation that is no longer accurate!\n",
    "\n",
    "Comments are very useful. When you start writing your own code, you will be amazed at how quickly you forget the purpose of a particular section or statement.\n",
    "\n",
    "Comments can help by giving you hints about the purpose of the code, meaning that you spend less time trying to understand your old code, thus speeding up your progress. A side benefit is that writing a comment for a bit of code reinforces your understanding at the time you are doing it. "
   ]
  },
  {
   "cell_type": "code",
   "execution_count": 6,
   "metadata": {},
   "outputs": [
    {
     "name": "stdout",
     "output_type": "stream",
     "text": [
      "Hello world\n"
     ]
    }
   ],
   "source": [
    "# print a friendly greeting\n",
    "print(\"Hello world\")"
   ]
  },
  {
   "cell_type": "markdown",
   "metadata": {},
   "source": [
    "You'll see this technique used a lot in the code examples in this course, and I encourage you to use it for your own code as well.\n",
    "\n",
    "---"
   ]
  },
  {
   "cell_type": "markdown",
   "metadata": {},
   "source": [
    "## Error messages and debugging\n",
    "\n",
    "It is important to know that **computer programs almost never work correctly the first time**. Programming languages are not like natural languages – they have a very strict set of rules, and if you break any of them, the computer will not attempt to guess what you intended, but instead will stop running and present you with an error message. You're going to be seeing a lot of these error messages in your programming career.\n",
    "\n",
    "### Forgetting quotes\n",
    "\n",
    "Here's one possible error we can make when printing a line of output – we can forget to include the quotes:"
   ]
  },
  {
   "cell_type": "code",
   "execution_count": 8,
   "metadata": {},
   "outputs": [
    {
     "ename": "SyntaxError",
     "evalue": "invalid syntax (<ipython-input-8-50b4ae29d403>, line 1)",
     "output_type": "error",
     "traceback": [
      "\u001b[0;36m  File \u001b[0;32m\"<ipython-input-8-50b4ae29d403>\"\u001b[0;36m, line \u001b[0;32m1\u001b[0m\n\u001b[0;31m    print(Hello world)\u001b[0m\n\u001b[0m                    ^\u001b[0m\n\u001b[0;31mSyntaxError\u001b[0m\u001b[0;31m:\u001b[0m invalid syntax\n"
     ]
    }
   ],
   "source": [
    "print(Hello world)"
   ]
  },
  {
   "cell_type": "markdown",
   "metadata": {},
   "source": [
    "This is easily done, so let's take a look at the output we'll get when we try to run it. Just like normal output, when we're working in a Jupyter notebook the error message appears underneath the code. Unlike normal output, error messages are coloured to make it easier to see the different parts. \n",
    "\n",
    "Here's a version of the message with labels so we can look at each piece of information in turn:\n",
    "\n",
    "```\n",
    "  File \"error.py\", line 1❶\n",
    "    print(Hello world) \n",
    "                    ^❷\n",
    "SyntaxError❸: invalid syntax \n",
    "```\n",
    "\n",
    "\n",
    "Looking at the output, we see that the error occurs on the first line of the file❶.  Python's best guess at the location of the error is just before the close parentheses❷. Depending on the type of error, this can be wrong by quite a bit, so don't rely on it too much! \n",
    "\n",
    "The type of error is a `SyntaxError`❸, which mean that Python can't understand the code – it breaks the rules in some way (in this case, the rule that strings must be surrounded by quotation marks). We'll see different types of errors later in the course."
   ]
  },
  {
   "cell_type": "markdown",
   "metadata": {},
   "source": [
    "## Spelling mistakes\n",
    "\n",
    "What happens if we miss-spell the name of the function?:"
   ]
  },
  {
   "cell_type": "code",
   "execution_count": 9,
   "metadata": {},
   "outputs": [
    {
     "ename": "NameError",
     "evalue": "name 'prin' is not defined",
     "output_type": "error",
     "traceback": [
      "\u001b[0;31m---------------------------------------------------------------------------\u001b[0m",
      "\u001b[0;31mNameError\u001b[0m                                 Traceback (most recent call last)",
      "\u001b[0;32m<ipython-input-9-919ef47b99be>\u001b[0m in \u001b[0;36m<module>\u001b[0;34m()\u001b[0m\n\u001b[0;32m----> 1\u001b[0;31m \u001b[0mprin\u001b[0m\u001b[0;34m(\u001b[0m\u001b[0;34m\"Hello world\"\u001b[0m\u001b[0;34m)\u001b[0m\u001b[0;34m\u001b[0m\u001b[0m\n\u001b[0m",
      "\u001b[0;31mNameError\u001b[0m: name 'prin' is not defined"
     ]
    }
   ],
   "source": [
    "prin(\"Hello world\")"
   ]
  },
  {
   "cell_type": "markdown",
   "metadata": {},
   "source": [
    "We get a different type of error – a `NameError` – and the error message is a bit more helpful:\n",
    "\n",
    "```\n",
    "Traceback (most recent call last): \n",
    "  File \"error.py\", line 1, in <module> \n",
    "    prin(\"Hello world\")❶ \n",
    "NameError: name 'prin'❷ is not defined \n",
    "```\n",
    "\n",
    "This time, Python doesn't try to show us where on the line the error occurred, it just shows us the whole line❶ . The error message tells us which word Python doesn't understand❷, so in this case, it's quite easy to fix. \n",
    "\n",
    "---"
   ]
  },
  {
   "cell_type": "markdown",
   "metadata": {},
   "source": [
    "### Splitting a statement over two lines\n",
    "\n",
    "What if we want to print some output that spans multiple lines? For example, we want to print the word \"Hello\" on one line and then the word \"World\" on the next line – like this:\n",
    "\n",
    "```\n",
    "Hello\n",
    "World\n",
    "```\n",
    "\n",
    "We might try putting a new line in the middle of our string like this:"
   ]
  },
  {
   "cell_type": "code",
   "execution_count": 10,
   "metadata": {},
   "outputs": [
    {
     "ename": "SyntaxError",
     "evalue": "EOL while scanning string literal (<ipython-input-10-c9fefab393b1>, line 1)",
     "output_type": "error",
     "traceback": [
      "\u001b[0;36m  File \u001b[0;32m\"<ipython-input-10-c9fefab393b1>\"\u001b[0;36m, line \u001b[0;32m1\u001b[0m\n\u001b[0;31m    print(\"Hello\u001b[0m\n\u001b[0m                ^\u001b[0m\n\u001b[0;31mSyntaxError\u001b[0m\u001b[0;31m:\u001b[0m EOL while scanning string literal\n"
     ]
    }
   ],
   "source": [
    "print(\"Hello\n",
    "World\")"
   ]
  },
  {
   "cell_type": "markdown",
   "metadata": {},
   "source": [
    "but that won't work and we'll get the following error message:\n",
    "\n",
    "```\n",
    "  File \"error.py\", line 1 \n",
    "    print(\"Hello ❶\n",
    "                ^ \n",
    "SyntaxError: EOL while scanning string literal❷\n",
    "```\n",
    "\n",
    "Python finds the error when it gets to the end of the first line of code❶. The error message❷ is a bit more cryptic than the others. *EOL* stands for End Of Line, and string literal means a string in quotes. So to put this error message in plain English: \"I started reading a string in quotes, and I got to the end of the line before I came to the closing quotation mark\".\n",
    "\n",
    "If splitting the line up doesn't work, then how do we get the output we want.....?"
   ]
  },
  {
   "cell_type": "markdown",
   "metadata": {},
   "source": [
    "## Storing strings in variables\n",
    "\n",
    "OK, we've been playing around with the `print()` function for a while; let's introduce something new. We can take a string and assign a name to it using an equals sign – we call this a variable:"
   ]
  },
  {
   "cell_type": "code",
   "execution_count": 3,
   "metadata": {},
   "outputs": [],
   "source": [
    "# store a short DNA sequence in the variable my_dna\n",
    "my_dna = \"ATTTTGAGCA\""
   ]
  },
  {
   "cell_type": "markdown",
   "metadata": {},
   "source": [
    "The variable `my_dna` now points to the string `\"ATGCGTA\"`. We call this assigning a variable, and once we've done it, we can use the variable name instead of the string itself – for example, we can use it in a `print()` statement:"
   ]
  },
  {
   "cell_type": "code",
   "execution_count": 4,
   "metadata": {},
   "outputs": [
    {
     "name": "stdout",
     "output_type": "stream",
     "text": [
      "ATTTTGAGCA\n"
     ]
    }
   ],
   "source": [
    "# print_variable.py\n",
    "\n",
    "# store a short DNA sequence in the variable my_dna\n",
    "my_dna = \"ATTTTGAGCA\"\n",
    "\n",
    "# now print the DNA sequence\n",
    "print(my_dna)"
   ]
  },
  {
   "cell_type": "markdown",
   "metadata": {},
   "source": [
    "Notice that when we use the variable in a `print()` statement, we don't need any quotation marks – the quotes are part of the string, so they are already \"built in\" to the variable `my_dna`. Also notice that this example includes a blank line to separate the different bits and make it easier to read. We are allowed to put as many blank lines as we like in our programs when writing Python – the computer will ignore them. \n",
    "\n",
    "A common error is to include quotes around a variable name:"
   ]
  },
  {
   "cell_type": "code",
   "execution_count": 5,
   "metadata": {},
   "outputs": [
    {
     "name": "stdout",
     "output_type": "stream",
     "text": [
      "my_dna\n"
     ]
    }
   ],
   "source": [
    "my_dna = \"ATTTTGAGCA\"\n",
    "print(\"my_dna\")"
   ]
  },
  {
   "cell_type": "markdown",
   "metadata": {},
   "source": [
    "but as you can see, if we do this then Python prints the name of the variable rather than its contents.\n",
    "\n",
    "We can change the value of a variable as many times as we like once we've created it:"
   ]
  },
  {
   "cell_type": "code",
   "execution_count": 7,
   "metadata": {},
   "outputs": [
    {
     "name": "stdout",
     "output_type": "stream",
     "text": [
      "ATTTTGAGCA\n",
      "TGGCCGGCCA\n"
     ]
    }
   ],
   "source": [
    "my_dna = \"ATTTTGAGCA\"\n",
    "print(my_dna)\n",
    "\n",
    "# change the value of my_dna\n",
    "my_dna = \"TGGCCGGCCA\" \n",
    "print(my_dna)"
   ]
  },
  {
   "cell_type": "markdown",
   "metadata": {},
   "source": [
    "Hopefully you can see that the two identical `print()` lines give different outputs, because we've changed the value of `my_dna` in the middle."
   ]
  },
  {
   "cell_type": "markdown",
   "metadata": {},
   "source": [
    "Here's a very important point that trips many beginners up: variable names are **arbitrary** – that means that we can pick whatever we like to be the name of a variable. So our code above would work in exactly the same way if we picked a different variable name:"
   ]
  },
  {
   "cell_type": "code",
   "execution_count": 8,
   "metadata": {},
   "outputs": [
    {
     "name": "stdout",
     "output_type": "stream",
     "text": [
      "ATTTTGAGCA\n",
      "TGGCCGGCCA\n"
     ]
    }
   ],
   "source": [
    "banana = \"ATTTTGAGCA\"\n",
    "print(banana)\n",
    "\n",
    "banana = \"TGGCCGGCCA\" \n",
    "print(banana)"
   ]
  },
  {
   "cell_type": "markdown",
   "metadata": {},
   "source": [
    "What makes a good variable name? Generally, it's a good idea to use a variable name that gives us a clue as to what the variable refers to. In this example, `my_dna` is a good variable name, because it tells us that the content of the variable is a DNA sequence. Conversely, `banana` is a bad variable name, because it doesn't really tell us anything about the value that's stored.  \n",
    "\n",
    "It's also important to remember that variable names are case-sensitive, so `my_dna`, `MY_DNA`, `My_DNA` and `My_Dna` are all different variables. Technically this means that you could use all four of those names in a Python program to store different values, but please don't do this – it is very easy to become confused when you use very similar variable names. \n",
    "\n",
    "---"
   ]
  },
  {
   "cell_type": "markdown",
   "metadata": {},
   "source": [
    "## Tools for manipulating strings\n",
    "\n",
    "Now we know how to store and print strings, we can take a look at a few of the tools.\n",
    "\n",
    "### Concatenation\n",
    "\n",
    "We can concatenate (stick together) two strings using the `+` symbol. This symbol will join together the string on the left with the string on the right:"
   ]
  },
  {
   "cell_type": "code",
   "execution_count": 9,
   "metadata": {},
   "outputs": [
    {
     "name": "stdout",
     "output_type": "stream",
     "text": [
      "CCTTGGAA\n"
     ]
    }
   ],
   "source": [
    "# print_concatenated.py\n",
    "\n",
    "my_dna = \"CCTT\" + \"GGAA\"\n",
    "print(my_dna)"
   ]
  },
  {
   "cell_type": "markdown",
   "metadata": {},
   "source": [
    "In the above example, the things being concatenated were strings, but we can also use variables that point to strings:"
   ]
  },
  {
   "cell_type": "code",
   "execution_count": 10,
   "metadata": {},
   "outputs": [
    {
     "name": "stdout",
     "output_type": "stream",
     "text": [
      "TTTACGC\n"
     ]
    }
   ],
   "source": [
    "upstream = \"TTT\"\n",
    "my_dna = upstream + \"ACGC\"\n",
    "print(my_dna)"
   ]
  },
  {
   "cell_type": "markdown",
   "metadata": {},
   "source": [
    "We can even join multiple strings together in one go:"
   ]
  },
  {
   "cell_type": "code",
   "execution_count": 11,
   "metadata": {},
   "outputs": [
    {
     "name": "stdout",
     "output_type": "stream",
     "text": [
      "TTTCAGCACGC\n"
     ]
    }
   ],
   "source": [
    "upstream = \"TTT\"\n",
    "downstream = \"ACGC\"\n",
    "my_dna = upstream + \"CAGC\" + downstream\n",
    "print(my_dna)"
   ]
  },
  {
   "cell_type": "markdown",
   "metadata": {},
   "source": [
    "It's important to realize that the result of concatenating two strings together is itself a string. So it's perfectly OK to use a concatenation inside a `print()` statement:"
   ]
  },
  {
   "cell_type": "markdown",
   "metadata": {},
   "source": [
    "## Finding the length of a string\n",
    "\n",
    "Another useful built in tool in Python is the `len()` function (`len` is short for length). Just like the `print()` function, the `len()` function takes a single argument (take a quick look back at when we were discussing the `print()` function for a reminder about what arguments are) which is a string. However, the behaviour of `len()` is quite different to that of `print()`. Instead of outputting text to the screen, `len()` outputs a value that can be stored – we call this the **return value**. \n",
    "\n",
    "Let's see what happens when we write a line of code that uses `len()` to calculate the length of a string:"
   ]
  },
  {
   "cell_type": "code",
   "execution_count": 22,
   "metadata": {},
   "outputs": [
    {
     "name": "stdout",
     "output_type": "stream",
     "text": [
      "Hello world\n"
     ]
    }
   ],
   "source": [
    "print(\"Hello\" + \" \" + \"world\")"
   ]
  },
  {
   "cell_type": "code",
   "execution_count": 13,
   "metadata": {},
   "outputs": [
    {
     "data": {
      "text/plain": [
       "4"
      ]
     },
     "execution_count": 13,
     "metadata": {},
     "output_type": "execute_result"
    }
   ],
   "source": [
    "len(\"ATTC\")"
   ]
  },
  {
   "cell_type": "markdown",
   "metadata": {},
   "source": [
    "Because a Jupyter notebook always shows us the value of the last thing that was calculated in a code cell, we can see the answer - the string is four characters long. But if we actually want to do something useful with that value, we need to store it:"
   ]
  },
  {
   "cell_type": "code",
   "execution_count": 14,
   "metadata": {},
   "outputs": [
    {
     "name": "stdout",
     "output_type": "stream",
     "text": [
      "4\n"
     ]
    }
   ],
   "source": [
    "dna_length = len(\"ATTC\")\n",
    "print(dna_length)"
   ]
  },
  {
   "cell_type": "markdown",
   "metadata": {},
   "source": [
    "This example looks very similar, but the difference is that now we have stored the result of the `len()` function, and later in the program we will be able to use it. "
   ]
  },
  {
   "cell_type": "markdown",
   "metadata": {},
   "source": [
    "There's another interesting thing about the` len()` function: the result (or return value) is not a string, it's a number. This is a very important idea: **Python treats strings and numbers differently**.\n",
    "\n",
    "### Working with both numbers and strings\n",
    "\n",
    "Consider this short program which calculates the length of a DNA sequence and then prints a message telling us the length:"
   ]
  },
  {
   "cell_type": "code",
   "execution_count": 25,
   "metadata": {},
   "outputs": [
    {
     "ename": "TypeError",
     "evalue": "must be str, not int",
     "output_type": "error",
     "traceback": [
      "\u001b[0;31m---------------------------------------------------------------------------\u001b[0m",
      "\u001b[0;31mTypeError\u001b[0m                                 Traceback (most recent call last)",
      "\u001b[0;32m<ipython-input-25-33e60850a9b4>\u001b[0m in \u001b[0;36m<module>\u001b[0;34m()\u001b[0m\n\u001b[1;32m      6\u001b[0m \u001b[0;34m\u001b[0m\u001b[0m\n\u001b[1;32m      7\u001b[0m \u001b[0;31m# print a message telling us the DNA sequence lenth\u001b[0m\u001b[0;34m\u001b[0m\u001b[0;34m\u001b[0m\u001b[0m\n\u001b[0;32m----> 8\u001b[0;31m \u001b[0mprint\u001b[0m\u001b[0;34m(\u001b[0m\u001b[0;34m\"The length of the DNA sequence is \"\u001b[0m \u001b[0;34m+\u001b[0m \u001b[0mdna_length\u001b[0m\u001b[0;34m)\u001b[0m\u001b[0;34m\u001b[0m\u001b[0m\n\u001b[0m",
      "\u001b[0;31mTypeError\u001b[0m: must be str, not int"
     ]
    }
   ],
   "source": [
    "# store the DNA sequence in a variable\n",
    "my_dna = \"ATGCGAGT\"\n",
    "\n",
    "# calculate the length of the sequence and store it in a variable\n",
    "dna_length = len(my_dna)\n",
    "\n",
    "# print a message telling us the DNA sequence lenth\n",
    "print(\"The length of the DNA sequence is \" + dna_length)"
   ]
  },
  {
   "cell_type": "markdown",
   "metadata": {},
   "source": [
    "When we try to run this program, we get the following error:\n",
    "\n",
    "```\n",
    "    print(\"The length of the DNA sequence is \" + dna_length) \n",
    "TypeError: cannot concatenate 'str' and 'int' objects❶\n",
    "```\n",
    "\n",
    "The error message❶ is short but informative: \"cannot concatenate 'str' and 'int' objects\". Python is complaining that it doesn't know how to concatenate a string (which it calls `str` for short) and a number (which it calls `int` – short for integer).  Strings and numbers are examples of **types** – different kinds of information that can exist inside a program.\n",
    "\n",
    "Happily, Python has a built in solution – a function called `str()` which turns a number into a string so that we can print it. Here's how we can modify our program to use it:"
   ]
  },
  {
   "cell_type": "code",
   "execution_count": 26,
   "metadata": {},
   "outputs": [
    {
     "name": "stdout",
     "output_type": "stream",
     "text": [
      "The length of the DNA sequence is 8\n"
     ]
    }
   ],
   "source": [
    "# print_dna_length.py\n",
    "\n",
    "my_dna = \"ATGCGAGT\"\n",
    "dna_length = len(my_dna)\n",
    "\n",
    "print(\"The length of the DNA sequence is \" + str(dna_length))"
   ]
  },
  {
   "cell_type": "markdown",
   "metadata": {},
   "source": [
    "The only thing we have changed is that we've replace `dna_length` with `str(dna_length)` inside the `print()` statement. Notice that because we're using one function (`str()`) inside another function (`print()`), our statement now ends with two closing parentheses. \n",
    "\n",
    "Let's take a moment to refresh our memory of all the new terms we've learned by writing out what we need to know about the `str()` function: \n",
    "\n",
    "`str()` is a function which takes one argument (whose type is number), and returns a value (whose type is string) representing that number. \n",
    "\n",
    "Sometimes we need to go the other way – we have a string that we need to turn into a number. The function for doing this is called `int()`, which is short for *integer*. It takes a string as its argument and returns a number:"
   ]
  },
  {
   "cell_type": "code",
   "execution_count": 27,
   "metadata": {},
   "outputs": [
    {
     "data": {
      "text/plain": [
       "7"
      ]
     },
     "execution_count": 27,
     "metadata": {},
     "output_type": "execute_result"
    }
   ],
   "source": [
    "3 + int('4')"
   ]
  },
  {
   "cell_type": "markdown",
   "metadata": {},
   "source": [
    "In that little example, I'm taking advantage of the fact that Jupyter will display the result of the last calculation to see the answer without having to print it. Note that this trick only works inside Jupyter notebooks - it won't work if you try to run the code in a separate file.\n"
   ]
  },
  {
   "cell_type": "markdown",
   "metadata": {},
   "source": [
    "\n",
    "## Recap\n",
    "\n",
    "We've learned about some general features of the Python programming language like\n",
    "\n",
    "- the difference between functions, statements and arguments\n",
    "- the importance of comments and how to use them\n",
    "- how to use Python's error messages to fix bugs in our programs\n",
    "- how to store values in variables\n",
    "- the way that types work, and the importance of understanding them\n",
    "\n",
    "And we've encountered some tools that are specifically for working with strings:\n",
    "\n",
    "- concatenation\n",
    "- different types of quotes\n",
    "- finding the lenght of a string \n"
   ]
  },
  {
   "cell_type": "markdown",
   "metadata": {},
   "source": [
    "## Motto for the course¶\n",
    "In the words of Voltaire: \"Le mieux est l'ennemi du bien.\" \n",
    "or Perfect is the enemy of the good. That is if your code works, then it is good. It doesn't need to be perfect."
   ]
  }
 ],
 "metadata": {
  "kernelspec": {
   "display_name": "Python 3",
   "language": "python",
   "name": "python3"
  },
  "language_info": {
   "codemirror_mode": {
    "name": "ipython",
    "version": 3
   },
   "file_extension": ".py",
   "mimetype": "text/x-python",
   "name": "python",
   "nbconvert_exporter": "python",
   "pygments_lexer": "ipython3",
   "version": "3.8.2"
  }
 },
 "nbformat": 4,
 "nbformat_minor": 2
}
