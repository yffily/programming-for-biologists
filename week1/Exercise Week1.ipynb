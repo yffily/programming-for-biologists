{
 "cells": [
  {
   "cell_type": "markdown",
   "metadata": {},
   "source": [
    "## Week 1 Exercise - Calculating AT content\n",
    "Exercise obtained and modified from https://pythonforbiologists.com\n",
    "\n",
    "\n",
    "This exercise is going to involve a mixture of strings and numbers. Let's remind ourselves of the easiest way to calculate AT content:\n",
    "\n",
    "$$AT content = \\frac{A + T}{length}$$\n",
    "\n",
    "There are three numbers we need to figure out: the number of A characters, the number of T characters, and the length of the sequence. We know that we can get the length of the sequence using the `len()` function, and we can count the number of A and T using the `count()` method. Here are a few lines of code that we think will calculate the numbers we need:"
   ]
  },
  {
   "cell_type": "code",
   "execution_count": 1,
   "metadata": {},
   "outputs": [],
   "source": [
    "my_dna = \"ACTGATCGATTACTTTTTTTTTTTGCTATCATACATATATATCGATGCGTTCAT\"\n",
    "length = len(my_dna)\n",
    "a_count = my_dna.count('A')\n",
    "t_count = my_dna.count('T')"
   ]
  },
  {
   "cell_type": "markdown",
   "metadata": {},
   "source": [
    "At this point, it seems sensible to check that these lines work before we go any further. So rather than diving straight in and doing some calculations, let's print out these numbers so that we can eyeball them and see if they look approximately right. We'll have to remember to turn the numbers into strings using `str()` so that we can print them:"
   ]
  },
  {
   "cell_type": "code",
   "execution_count": 2,
   "metadata": {},
   "outputs": [
    {
     "name": "stdout",
     "output_type": "stream",
     "text": [
      "length: 54\n",
      "A count: 13\n",
      "T count: 26\n"
     ]
    }
   ],
   "source": [
    "my_dna = \"ACTGATCGATTACTTTTTTTTTTTGCTATCATACATATATATCGATGCGTTCAT\"\n",
    "length = len(my_dna)\n",
    "a_count = my_dna.count('A')\n",
    "t_count = my_dna.count('T')\n",
    "\n",
    "print(\"length: \" + str(length))\n",
    "print(\"A count: \" + str(a_count))\n",
    "print(\"T count: \" + str(t_count))"
   ]
  },
  {
   "cell_type": "markdown",
   "metadata": {},
   "source": [
    "That looks about right, but how do we know if it's exactly right? We could go through the sequence manually base by base, and verify that there are sixteen As and eighteen Ts, but that doesn't seem like a great use of our time: also, what would we do if the sequence were 51 kilobases rather than 51 bases? A better idea is to run the exact same code with a much shorter test sequence, to verify that it works before going ahead and running it on the larger sequence. \n",
    "Here's a version that uses a very short test sequence with one of each of the four bases:"
   ]
  },
  {
   "cell_type": "code",
   "execution_count": 3,
   "metadata": {},
   "outputs": [
    {
     "name": "stdout",
     "output_type": "stream",
     "text": [
      "length: 4\n",
      "A count: 1\n",
      "T count: 2\n"
     ]
    }
   ],
   "source": [
    "test_dna = \"ATTC\"\n",
    "length = len(test_dna)\n",
    "a_count = test_dna.count('A')\n",
    "t_count = test_dna.count('T')\n",
    "\n",
    "print(\"length: \" + str(length))\n",
    "print(\"A count: \" + str(a_count))\n",
    "print(\"T count: \" + str(t_count))"
   ]
  },
  {
   "cell_type": "markdown",
   "metadata": {},
   "source": [
    "Everything looks OK – we can probably go ahead and run the code on the long sequence. But wait; we know that the next step is going to involve doing some calculations using the numbers. If we switch back to the long sequence now, then we'll be in the same position as we were before – we'll end up with an answer for the AT content, but we won't know if it's the right one. \n",
    "\n",
    "A better plan is to stick with the short test sequence until we've written the whole program, and check that we get the right answer for the AT content (we can easily see by glancing at the test sequence that the AT content is 0.5). Here goes – we'll use the add and divide symbols from the exercise hint:"
   ]
  },
  {
   "cell_type": "code",
   "execution_count": 4,
   "metadata": {},
   "outputs": [
    {
     "name": "stdout",
     "output_type": "stream",
     "text": [
      "AT content is 1.5\n"
     ]
    }
   ],
   "source": [
    "test_dna = \"ATTC\"\n",
    "length = len(test_dna)\n",
    "a_count = test_dna.count('A')\n",
    "t_count = test_dna.count('T')\n",
    "\n",
    "at_content = a_count + t_count / length\n",
    "print(\"AT content is \" + str(at_content))"
   ]
  },
  {
   "cell_type": "markdown",
   "metadata": {},
   "source": [
    "That doesn't look right. Looking back at the code we can see what has gone wrong – in the calculation, the division has taken precedence over the addition, so what we have actually calculated is:\n",
    "\n",
    "$$A + \\frac{T}{length}$$\n",
    "\n",
    "To fix it, all we need to do is add some parentheses around the addition, so that the line becomes:\n",
    "\n",
    "```\n",
    "at_content = (a_count + t_count) / length\n",
    "```\n",
    "\n",
    "Now we get the correct output for the test sequence:"
   ]
  },
  {
   "cell_type": "code",
   "execution_count": 5,
   "metadata": {},
   "outputs": [
    {
     "name": "stdout",
     "output_type": "stream",
     "text": [
      "AT content is 0.75\n"
     ]
    }
   ],
   "source": [
    "test_dna = \"ATTC\"\n",
    "length = len(test_dna)\n",
    "a_count = test_dna.count('A')\n",
    "t_count = test_dna.count('T')\n",
    "\n",
    "at_content = (a_count + t_count) / length\n",
    "print(\"AT content is \" + str(at_content))"
   ]
  },
  {
   "cell_type": "markdown",
   "metadata": {},
   "source": [
    "and we can go ahead and run the program using the longer sequence, confident that the code is working and that the calculations are correct. Here's the final version:"
   ]
  },
  {
   "cell_type": "code",
   "execution_count": 6,
   "metadata": {},
   "outputs": [
    {
     "name": "stdout",
     "output_type": "stream",
     "text": [
      "AT content is 0.7222222222222222\n"
     ]
    }
   ],
   "source": [
    "# at_content.py\n",
    "\n",
    "my_dna = \"ACTGATCGATTACTTTTTTTTTTTGCTATCATACATATATATCGATGCGTTCAT\"\n",
    "length = len(my_dna)\n",
    "a_count = my_dna.count('A')\n",
    "t_count = my_dna.count('T')\n",
    "\n",
    "at_content = (a_count + t_count) / length\n",
    "print(\"AT content is \" + str(at_content))"
   ]
  },
  {
   "cell_type": "markdown",
   "metadata": {},
   "source": [
    "When trying to choose between different ways to write a program, always favour the solution that is clearest in intent and easiest to read. \n",
    "\n",
    "\n",
    "## What have we learned?\n",
    "\n",
    "\n",
    "On the surface, this exercise is about manipulating DNA sequences. \n",
    "\n",
    "On a deeper level, however, the exercise is about learning to break down problems into individual steps which can be solved using the tools available to us. Even the simplest of problems requires using several different tools in the right order. The remainder of the exercises in this course – and nearly all the programs you will write in the future – will require you to break down problems in this way.\n",
    "\n",
    "We've also learned a specific lessons. We saw how it's important to test code using simple inputs in order to check that it's giving the right answer. \n"
   ]
  }
 ],
 "metadata": {
  "kernelspec": {
   "display_name": "Python 3",
   "language": "python",
   "name": "python3"
  },
  "language_info": {
   "codemirror_mode": {
    "name": "ipython",
    "version": 3
   },
   "file_extension": ".py",
   "mimetype": "text/x-python",
   "name": "python",
   "nbconvert_exporter": "python",
   "pygments_lexer": "ipython3",
   "version": "3.6.8"
  }
 },
 "nbformat": 4,
 "nbformat_minor": 2
}
