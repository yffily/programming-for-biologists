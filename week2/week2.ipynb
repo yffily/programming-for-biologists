{
 "cells": [
  {
   "cell_type": "code",
   "execution_count": null,
   "metadata": {},
   "outputs": [],
   "source": []
  },
  {
   "cell_type": "markdown",
   "metadata": {},
   "source": [
    "# Week 2 - Some tools before building an RNA Translator\n",
    "\n",
    "\n",
    "Over the next couple of sessions, we're going to program an RNA translator.  \n",
    "Here are the four key steps we need to complete:  \n",
    "- Step 1: Load the codon table into a list of (codon,amino-acid) pairs.  \n",
    "- Step 2: Split an RNA sequence into a list of its codons.\n",
    "- Step 3: Given a single codon, loop over the codon table to find the amino-acid it codes for.  \n",
    "- Step 4: Given a list of codons, create a list of the amino-acid each codon codes for.\n",
    "\n",
    "Today we introduce most of the tools needed for this then work on step 1. The main tools we'll cover are:\n",
    "- Indexing and extracting part of a string\n",
    "- Opening, reading, and manipulating a text file\n",
    "- Lists\n",
    "- Loops"
   ]
  },
  {
   "cell_type": "markdown",
   "metadata": {},
   "source": [
    "### Indexing"
   ]
  },
  {
   "cell_type": "markdown",
   "metadata": {},
   "source": [
    "You can access any letter of a string by specifying its position in the string (its \"index\") between square brackets. The first letter has index 0. For example:"
   ]
  },
  {
   "cell_type": "code",
   "execution_count": 32,
   "metadata": {},
   "outputs": [
    {
     "name": "stdout",
     "output_type": "stream",
     "text": [
      "H\n"
     ]
    }
   ],
   "source": [
    "word = 'Honors College'\n",
    "print(word[0])"
   ]
  },
  {
   "cell_type": "markdown",
   "metadata": {},
   "source": [
    "Here are the indices of all the letters in 'Honors College':\n",
    "\n",
    "    H   o   n   o   r   s       C   o   l   l   e   g   e    #String\n",
    "    0   1   2   3   4   5   6   7   8   9   10  11  12  13   #Positive indexing. Starts at 0.\n",
    "\n",
    "If you have a long string and you need to select an item towards the end, you can count backwards from the end of the string, starting at the index number -1.\n",
    "\n",
    "     H   o   n   o   r   s       C   o   l   l   e   g   e   #String\n",
    "    -14 -13 -12 -11 -10 -9  -8  -7  -6  -5  -4  -3  -2  -1   #Negative indexing. Starts at -1.\n",
    "\n",
    "By referencing index numbers, we can isolate one of the characters in a string. We do this by putting the index numbers in square brackets. "
   ]
  },
  {
   "cell_type": "code",
   "execution_count": 36,
   "metadata": {},
   "outputs": [
    {
     "name": "stdout",
     "output_type": "stream",
     "text": [
      "s\n",
      "s\n"
     ]
    }
   ],
   "source": [
    "# Positive and negative indices are two equivalent ways of obtaining the same information.\n",
    "# Use whichever one is easiest in your situation.\n",
    "# Here are the two ways to get the 's' in 'Honors College':\n",
    "word = 'Honors College' \n",
    "print(word[5])\n",
    "print(word[-9])\n"
   ]
  },
  {
   "cell_type": "markdown",
   "metadata": {},
   "source": [
    "### Extracting part of a string (aka \"slicing\")\n",
    "\n",
    "What do we do if we have a long string, but we only want a short portion of it? This is known as taking a substring, and it has its own notation in Python. To get a substring, we follow the variable name with a pair of square brackets which enclose a start and stop position, separated by a colon. Again, this is probably easier to visualize with a couple of examples – let's reuse a section of our DNA sequence from your task in week and only stract the microsatellite ("
   ]
  },
  {
   "cell_type": "code",
   "execution_count": 5,
   "metadata": {
    "scrolled": true
   },
   "outputs": [
    {
     "name": "stdout",
     "output_type": "stream",
     "text": [
      "TGA\n",
      "ACTGAT\n",
      "TGATTGG\n",
      "ACTGA\n",
      "TTGG\n",
      "GG\n",
      "ACTGATTGG\n"
     ]
    }
   ],
   "source": [
    "dna = \"ACTGATTGG\"\n",
    "\n",
    "# print positions two to five\n",
    "# Five is not included; we get positions 2,3,4.\n",
    "print(dna[2:5])\n",
    "\n",
    "# positions start at zero, not one\n",
    "print(dna[0:6])\n",
    "\n",
    "# if we miss out the last number, it goes to the end of the string\n",
    "print(dna[2:])\n",
    "\n",
    "# If we omit the first number, the slice starts at the beginning of the string (position 0).\n",
    "print(dna[:5])\n",
    "\n",
    "# If we omit the second number, the slice end at the end of the string.\n",
    "print(dna[5:])\n",
    "\n",
    "# We can also slice with negative numbers. This is the last two characters of the string.\n",
    "print(dna[-2:])\n",
    "\n",
    "# A sliced string is still a string.\n",
    "# We can do with it anything we could do with the original string.\n",
    "# For example, concatenate it with another string:\n",
    "print(dna[:5]+dna[5:])\n",
    "# This is positions 0 to 5 (not included), then 5 to the end.\n",
    "# In other words, it's the entire string."
   ]
  },
  {
   "cell_type": "markdown",
   "metadata": {},
   "source": [
    "To recap, `dna[i1:i2]` lets you access the part of the string between indices i1 and i2. i1 and i2 can be positive or negative; if they're negative, they're counted from the end. If you omit i1, it's assumed you want to start at the beginning of the string. If you omit i2, it's assumed you want to end at the end of the string.\n",
    "\n",
    "There's one more thing we can do with this tool: instead of every character between index i1 and index i2, we can request every n-th character (e.g., every other character, every third character, etc) with `dna[i1:i2:n]`."
   ]
  },
  {
   "cell_type": "code",
   "execution_count": 6,
   "metadata": {},
   "outputs": [
    {
     "name": "stdout",
     "output_type": "stream",
     "text": [
      "CG\n",
      "ATATG\n",
      "GGTTAGTCA\n"
     ]
    }
   ],
   "source": [
    "# Here is every other character starting at index 1 and ending just before index 5.\n",
    "print(dna[1:5:2])\n",
    "\n",
    "# Here is every third character starting at the beginning and ending at the end.\n",
    "print(dna[::2])\n",
    "\n",
    "# The number after the two colons is called the \"increment\". It tells python how many \n",
    "# indices to move forward to get the next character.\n",
    "\n",
    "# If the increment is negative, the string is read backwards. \n",
    "# Here is the entire string backwards.\n",
    "print(dna[::-1])"
   ]
  },
  {
   "cell_type": "markdown",
   "metadata": {},
   "source": [
    "It takes a little bit of practice to be fully comfortable with slicing. A good way to practice is to make up a slicing operation, say `dna[3::2]`, `dna[1:4:-1]`, but instead of just executing it, first try to predict what the outcome will be. Then execute it and compare the result with your prediction. If there's a discrepancy, take the time to understand where it comes from. Rinse and repeat until you feel comfortable with slicing."
   ]
  },
  {
   "cell_type": "markdown",
   "metadata": {},
   "source": [
    "<div class=\"alert alert-block alert-danger\">\n",
    "<b>Task 1:</b>\n",
    "Extract and print the first codon from the variable \"dna\", then the second one, then the third.\n",
    "</div>"
   ]
  },
  {
   "cell_type": "code",
   "execution_count": null,
   "metadata": {},
   "outputs": [],
   "source": []
  },
  {
   "cell_type": "markdown",
   "metadata": {},
   "source": [
    "### Opening, reading, and manipulating a text file\n",
    "modified from https://pythonforbiologists.com\n",
    "\n",
    "The data that we as biologists work with is usually stored in files, so we need a way to get the data out of files and into our programs (and vice versa). Usually real life data will be much longer than what we have in the examples.\n",
    "\n",
    "In programming, when we talk about text files, we are not necessarily talking about something that is human readable. Rather, we are talking about a file that contains characters and lines – something that you could open and view in a text editor, regardless of whether you could actually make sense of the file or not. Examples of text files which you might encounter include:\n",
    "\n",
    "- FASTA files of DNA or protein sequences\n",
    "- files containing output from command-line programs (e.g. BLAST)\n",
    "- FASTQ files containing DNA sequencing reads\n",
    "- HTML files\n",
    "\n",
    "and of course, Python code itself.\n",
    "\n",
    "In contrast, most files that you encounter day-to-day will be binary files – ones which are not made up of characters and lines, but of bytes. Examples include:\n",
    "\n",
    "- image files (JPEGs and PNGs)\n",
    "- audio files\n",
    "- video files\n",
    "- compressed files (e.g. ZIP files) "
   ]
  },
  {
   "cell_type": "markdown",
   "metadata": {},
   "source": [
    "#### Using open to read a file\n",
    "\n",
    "In Python, as in the physical world, we have to open a file before we can read what's inside it. The Python function that carries out the job of opening a file is very sensibly called open(). It takes one argument – a string which contains the name of the file – and returns a file object:"
   ]
  },
  {
   "cell_type": "code",
   "execution_count": 7,
   "metadata": {},
   "outputs": [],
   "source": [
    "my_file = open('dna_sequence.txt')"
   ]
  },
  {
   "cell_type": "markdown",
   "metadata": {},
   "source": [
    "A file object is a little more complicated than the string and number types that we have seen. With strings it was easy to understand what they represented – a single bit of text, or a single number. A file object, in contrast, represents something a bit less tangible – it represents a file on your computer's hard drive.\n",
    "\n",
    "The way that we use file objects is a bit different to strings and numbers as well. From week 1 class you'll see that most of the time when we want to use a variable containing a string or number we just use the variable name:"
   ]
  },
  {
   "cell_type": "code",
   "execution_count": 8,
   "metadata": {},
   "outputs": [
    {
     "name": "stdout",
     "output_type": "stream",
     "text": [
      "54\n"
     ]
    }
   ],
   "source": [
    "#Week1 example with a string\n",
    "my_dna = \"ACTGATCGATTACTTTTTTTTTTTGCTATCATACATATATATCGATGCGTTCAT\"\n",
    "length = len(my_dna)\n",
    "print(length)"
   ]
  },
  {
   "cell_type": "markdown",
   "metadata": {},
   "source": [
    "But if we try to view our file object in the same way we just get Python's representation of it, and not the content of the file:"
   ]
  },
  {
   "cell_type": "code",
   "execution_count": 9,
   "metadata": {},
   "outputs": [
    {
     "data": {
      "text/plain": [
       "<_io.TextIOWrapper name='dna_sequence.txt' mode='r' encoding='UTF-8'>"
      ]
     },
     "execution_count": 9,
     "metadata": {},
     "output_type": "execute_result"
    }
   ],
   "source": [
    "my_file"
   ]
  },
  {
   "cell_type": "markdown",
   "metadata": {},
   "source": [
    "This answer is not useful. When we're working with file objects most of our interaction will be through methods. This style of programming will seem unusual at first, but as we'll see in this lesson, the file type has a well thought-out set of methods which let us do lots of useful things.\n",
    "\n",
    "The first thing we need to be able to do is to read the contents of the file. The file type has a read() method which does this. It doesn't take any arguments, and the return value is a string, which  can be stored in a variable. Once we've read the file contents into a variable, we can treat them just like any other string – for example, we can print them:"
   ]
  },
  {
   "cell_type": "markdown",
   "metadata": {},
   "source": [
    "#### Read the contents of a file.\n",
    "\n",
    "Once the file is open you can read its entire content with `read()`."
   ]
  },
  {
   "cell_type": "code",
   "execution_count": 10,
   "metadata": {},
   "outputs": [
    {
     "name": "stdout",
     "output_type": "stream",
     "text": [
      "ATGTCTTTAATGTCTTTAATGTCTTTAATGTCTTTAAAAAAAA\n",
      "\n"
     ]
    }
   ],
   "source": [
    "my_file = open('dna_sequence.txt')\n",
    "file_contents = my_file.read()\n",
    "print(file_contents)"
   ]
  },
  {
   "cell_type": "markdown",
   "metadata": {},
   "source": [
    "This is how we get information out of a file and into our Python program. The text that ends up in the file_contents variable is exactly the same as the text in the file. Try editing the dna.txt file in a text editor (jupyter has a built in text editor that you can use if you like) and check that when you re-run the bit of code above you see the new text."
   ]
  },
  {
   "cell_type": "code",
   "execution_count": 11,
   "metadata": {},
   "outputs": [],
   "source": [
    "#Just to compare and remember:\n",
    "\n",
    "my_sequence_name = \"my_dna.txt\" # this is a string, and it stores the name of a file on disk.\n",
    "my_file = open(\"dna_sequence.txt\") # this is a file object, and it represents the file itself.\n",
    "my_file_contents = my_file.read() # this is a string, and it stores the text that is in the file.\n"
   ]
  },
  {
   "cell_type": "code",
   "execution_count": 12,
   "metadata": {},
   "outputs": [
    {
     "data": {
      "text/plain": [
       "'my_dna.txt'"
      ]
     },
     "execution_count": 12,
     "metadata": {},
     "output_type": "execute_result"
    }
   ],
   "source": [
    "my_sequence_name"
   ]
  },
  {
   "cell_type": "code",
   "execution_count": 13,
   "metadata": {},
   "outputs": [
    {
     "data": {
      "text/plain": [
       "<_io.TextIOWrapper name='dna_sequence.txt' mode='r' encoding='UTF-8'>"
      ]
     },
     "execution_count": 13,
     "metadata": {},
     "output_type": "execute_result"
    }
   ],
   "source": [
    "my_file"
   ]
  },
  {
   "cell_type": "code",
   "execution_count": 14,
   "metadata": {
    "scrolled": true
   },
   "outputs": [
    {
     "data": {
      "text/plain": [
       "'ATGTCTTTAATGTCTTTAATGTCTTTAATGTCTTTAAAAAAAA\\n'"
      ]
     },
     "execution_count": 14,
     "metadata": {},
     "output_type": "execute_result"
    }
   ],
   "source": [
    "my_file_contents"
   ]
  },
  {
   "cell_type": "markdown",
   "metadata": {},
   "source": [
    "The `\\n` at the end is a *newline character*. It indicates that the line is over and any additional text will belong to the next line. When we use `print`, the `\\n` is not shown as `\\n` but as an actual new line. Since there's nothing on this new line, it's blank."
   ]
  },
  {
   "cell_type": "code",
   "execution_count": 15,
   "metadata": {
    "scrolled": true
   },
   "outputs": [
    {
     "name": "stdout",
     "output_type": "stream",
     "text": [
      "ATGTCTTTAATGTCTTTAATGTCTTTAATGTCTTTAAAAAAAA\n",
      "\n"
     ]
    }
   ],
   "source": [
    "print(my_file_contents)"
   ]
  },
  {
   "cell_type": "markdown",
   "metadata": {},
   "source": [
    "`\\n` is a so-called *special character*. It's rendered differently from regular characters (e.g., `a`), but for the purpose of slicing it's just a character. In particular, we can get rid of it by grabbing every character until the last one not included."
   ]
  },
  {
   "cell_type": "code",
   "execution_count": 16,
   "metadata": {},
   "outputs": [
    {
     "data": {
      "text/plain": [
       "'ATGTCTTTAATGTCTTTAATGTCTTTAATGTCTTTAAAAAAAA'"
      ]
     },
     "execution_count": 16,
     "metadata": {},
     "output_type": "execute_result"
    }
   ],
   "source": [
    "# This is the dna sequence without the newline character at the end.\n",
    "my_file_contents[:-1]"
   ]
  },
  {
   "cell_type": "code",
   "execution_count": 17,
   "metadata": {},
   "outputs": [
    {
     "name": "stdout",
     "output_type": "stream",
     "text": [
      "ATGTCTTTAATGTCTTTAATGTCTTTAATGTCTTTAAAAAAAA\n"
     ]
    }
   ],
   "source": [
    "# If we use print, we get the same sequence but no extra blank line below.\n",
    "print(my_file_contents[:-1])"
   ]
  },
  {
   "cell_type": "markdown",
   "metadata": {},
   "source": [
    "This will be important in a moment because if we load a dna sequence with a `\\n` at the end and use `len` to get its length, what we really get is the number of characters, i.e., the actual length of the dna sequence plus 1 for the `\\n` character."
   ]
  },
  {
   "cell_type": "code",
   "execution_count": 18,
   "metadata": {},
   "outputs": [
    {
     "name": "stdout",
     "output_type": "stream",
     "text": [
      "ATGTCTTTAATGTCTTTAATGTCTTTAATGTCTTTAAAAAAAA\n",
      "\n",
      "44\n",
      "ATGTCTTTAATGTCTTTAATGTCTTTAATGTCTTTAAAAAAAA\n",
      "43\n"
     ]
    }
   ],
   "source": [
    "print(my_file_contents)\n",
    "print(len(my_file_contents))\n",
    "\n",
    "print(my_file_contents[:-1])\n",
    "print(len(my_file_contents[:-1]))"
   ]
  },
  {
   "cell_type": "markdown",
   "metadata": {},
   "source": [
    "### Using information within a file \n",
    "\n",
    "<div class=\"alert alert-block alert-danger\">\n",
    "<b>Task 2:</b>\n",
    "Compute the GC content of the dna sequence in `dna_sequence.txt`. You're not allowed to copy and paste the content of the file; you have to have python open and read the file as explained above.  \n",
    "*Hint:* Once you've read the file you can use last week's task to compute the GC content.\n",
    "</div>"
   ]
  },
  {
   "cell_type": "code",
   "execution_count": null,
   "metadata": {},
   "outputs": [],
   "source": []
  },
  {
   "cell_type": "markdown",
   "metadata": {},
   "source": [
    "### Lists\n",
    "\n",
    " A very common situation in biological research is to have a large collection of data that all need to be processed in the same way. In this case, you may need to build other tools.\n",
    " The first tool we will introduce are lists.\n",
    " \n",
    " To make a new list, we put several strings or numbers inside square brackets, separated by commas:"
   ]
  },
  {
   "cell_type": "code",
   "execution_count": null,
   "metadata": {},
   "outputs": [],
   "source": [
    "# Here is a list of strings.\n",
    "Animals = [\"Human\", \"Dog\", \"Fish\", \"Coral\"] \n",
    "# Here is a list of numbers (made up GC content values, not those of the animals above).\n",
    "GC_content = [90, 98, 88, 70]"
   ]
  },
  {
   "cell_type": "markdown",
   "metadata": {},
   "source": [
    "Each individual item in a list is called an element. We can add an element at the end of a list with `append`:"
   ]
  },
  {
   "cell_type": "markdown",
   "metadata": {},
   "source": [
    "We can define an empty list and fill it later:"
   ]
  },
  {
   "cell_type": "code",
   "execution_count": 24,
   "metadata": {},
   "outputs": [
    {
     "name": "stdout",
     "output_type": "stream",
     "text": [
      "['Human', 'Dog', 'Fish', 'Coral']\n"
     ]
    }
   ],
   "source": [
    "# Here is an empty list.\n",
    "Animals = []\n",
    "Animals.append(\"Human\")\n",
    "Animals.append(\"Dog\")\n",
    "Animals.append(\"Fish\")\n",
    "Animals.append(\"Coral\")\n",
    "print(Animals)"
   ]
  },
  {
   "cell_type": "markdown",
   "metadata": {},
   "source": [
    "We can add two lists. The result is a single list made up of the elements of the first list followed by those of the second list."
   ]
  },
  {
   "cell_type": "code",
   "execution_count": null,
   "metadata": {},
   "outputs": [],
   "source": [
    "Animals1 = [\"Human\", \"Dog\"] \n",
    "Animals2 = [\"Fish\", \"Coral\"] \n",
    "print(Animals1 + Animals2)"
   ]
  },
  {
   "cell_type": "markdown",
   "metadata": {},
   "source": [
    "To get a single element from the list, you can write the variable name followed by the index of the element you want in square brackets. It's the same syntax you would use to access a singel character in a string:"
   ]
  },
  {
   "cell_type": "code",
   "execution_count": 55,
   "metadata": {},
   "outputs": [
    {
     "name": "stdout",
     "output_type": "stream",
     "text": [
      "Human\n",
      "70\n"
     ]
    }
   ],
   "source": [
    "Animals = [\"Human\", \"Dog\", \"Fish\", \"Coral\"] \n",
    "GC_content= [90, 98, 88, 70]\n",
    "\n",
    "print(Animals[0])\n",
    "last_content = GC_content[3]\n",
    "print(last_content)"
   ]
  },
  {
   "cell_type": "markdown",
   "metadata": {},
   "source": [
    "Remember that in Python we start counting from zero rather than one, so the first element of a list is always at index zero. If we give a negative number, Python starts counting from the end of the list rather than the beginning – so it's easy to get the last element from a list:"
   ]
  },
  {
   "cell_type": "code",
   "execution_count": 56,
   "metadata": {},
   "outputs": [
    {
     "name": "stdout",
     "output_type": "stream",
     "text": [
      "Coral\n"
     ]
    }
   ],
   "source": [
    "last_animal = Animals[-1]\n",
    "print(last_animal)"
   ]
  },
  {
   "cell_type": "markdown",
   "metadata": {},
   "source": [
    "What if we want to get more than one element from a list? We can give a start and stop position, separated by a colon, to specify a range of elements. Similar as we did before when we were startcing a part of a string."
   ]
  },
  {
   "cell_type": "code",
   "execution_count": 58,
   "metadata": {},
   "outputs": [
    {
     "name": "stdout",
     "output_type": "stream",
     "text": [
      "['Human', 'Dog', 'Fish']\n",
      "['Human', 'Fish']\n"
     ]
    }
   ],
   "source": [
    "Animals = [\"Human\", \"Dog\", \"Fish\", \"Coral\"] \n",
    "Vertebrates = Animals[0:3] #Cut in index position 3- you cut Coral \n",
    "print(Vertebrates)\n",
    "print(Animals[::2])"
   ]
  },
  {
   "cell_type": "markdown",
   "metadata": {},
   "source": [
    "Again, accessing the elements of a list works very much like accessing the characters in a string."
   ]
  },
  {
   "cell_type": "markdown",
   "metadata": {},
   "source": [
    "### Slicing a list\n",
    "\n",
    "You can extract part of a list the same way you'd extract part of a string.\n",
    "\n",
    "Say you have a list L, then `L[i1:i2:n]` gives you every n-th element of the list between indices i1 and i2, not including i2."
   ]
  },
  {
   "cell_type": "code",
   "execution_count": null,
   "metadata": {
    "scrolled": true
   },
   "outputs": [],
   "source": [
    "Animals = [\"Human\", \"Dog\", \"Fish\", \"Coral\"] \n",
    "\n",
    "# Cut in index position 3 -- you cut \"Coral\".\n",
    "Vertebrates = Animals[0:3]\n",
    "print(Vertebrates)\n",
    "\n",
    "# Here is a list of a few national parks.\n",
    "A = [\"Yellowstone\", \"Yosemite\", \"Grand Canyon\", \"Everglades\"]\n",
    "\n",
    "# Here we start at index 1 (=second element) and stop right before index 2.\n",
    "# In other words, only keep index 1 (\"Yosemite\").\n",
    "print(A[1:2])\n",
    "# Note that the result is not just \"Yosemite\" though. The brackets are still there.\n",
    "# It's a list with a single element, and that element is \"Yosemite\"\n",
    "\n",
    "# Here we start at the beginning (index 0) and stop right before index -2 (\"Grand Canyon\").\n",
    "# In other words, we keep the first two parks.\n",
    "print(A[:-2])"
   ]
  },
  {
   "cell_type": "markdown",
   "metadata": {},
   "source": [
    "Overall, string and lists are very similar. In many ways a string is a list of characters. Conversely, you can think of a list as a generalization of strings wherein the elementary building block, instead of being a character, can be just about anything. `Animals` above is a list of strings like `\"Human\"`. `GC_content` above is a list of integers like `90`. You can even have a list of lists:"
   ]
  },
  {
   "cell_type": "code",
   "execution_count": 28,
   "metadata": {},
   "outputs": [
    {
     "name": "stdout",
     "output_type": "stream",
     "text": [
      "[[1, 2], [3, 4]]\n",
      "[1, 2]\n",
      "3\n"
     ]
    }
   ],
   "source": [
    "list_of_lists = [ [1,2], [3,4] ]\n",
    "print(list_of_lists)\n",
    "\n",
    "# The first element of list_of_lists is the \"inner list\" or \"sublist\" [1,2].\n",
    "print(list_of_lists[0])\n",
    "# To acccess the 3, we request the first element of the second sublist of list_of_lists.\n",
    "print(list_of_lists[1][0])"
   ]
  },
  {
   "cell_type": "code",
   "execution_count": 30,
   "metadata": {},
   "outputs": [
    {
     "name": "stdout",
     "output_type": "stream",
     "text": [
      "[[1, 2], [3, 4]]\n",
      "[[1, 2], [3, 4]]\n"
     ]
    }
   ],
   "source": [
    "# We can also build a list of lists with append. \n",
    "# To append a new sublist, first build the sublist, then append it.\n",
    "# Let's start with a single sublist.\n",
    "list_of_lists = [ [1,2] ]\n",
    "# Now create a second sublist.\n",
    "new_sublist = [3,4]\n",
    "# Now append the new sublist to the list of sublists.\n",
    "list_of_lists.append(new_sublist)\n",
    "# We can the same list as in the previous cell.\n",
    "print(list_of_lists)\n",
    "\n",
    "# We don't really need to create a variable for the new sublist.\n",
    "# We can just create it on the fly.\n",
    "list_of_lists = [ [1,2] ]\n",
    "list_of_lists.append([3,4])\n",
    "print(list_of_lists)\n",
    "# The result is the same."
   ]
  },
  {
   "cell_type": "markdown",
   "metadata": {},
   "source": [
    "### Loops\n"
   ]
  },
  {
   "cell_type": "code",
   "execution_count": null,
   "metadata": {},
   "outputs": [],
   "source": [
    "# Imagine we wanted to take our list of animals and and print out each element on a separate line, like this:\n",
    "Animals = [\"Human\", \"Dog\", \"Fish\", \"Coral\"]\n",
    "    \n",
    "# Human is an animal\n",
    "# Dog is an animal\n",
    "# Fish is an animal\n",
    "# Coral is an animal\n",
    "\n",
    "# One way to do it would be to just print each element separately:\n",
    "print(Animals[0] + \" is an animal\") \n",
    "print(Animals[1] + \" is an animal\") \n",
    "print(Animals[2] + \" is an animal\") \n",
    "print(Animals[3] + \" is an animal\")"
   ]
  },
  {
   "cell_type": "markdown",
   "metadata": {},
   "source": [
    "This is not a great solution though. What if we didn't know in advance how many animals are in the list? What if there were a thousand animals in the list? We can't realistically write a thousand lines like this.\n",
    "\n",
    "What we need is a way to say something along the lines of:  \n",
    "For each element in the list of Animals, print out the element, followed by the words \"is an animal\".\n",
    "\n",
    "This is exactly what loops are for. Here is the syntax."
   ]
  },
  {
   "cell_type": "code",
   "execution_count": 71,
   "metadata": {},
   "outputs": [
    {
     "name": "stdout",
     "output_type": "stream",
     "text": [
      "['Human', 'Dog', 'Fish', 'Coral']\n",
      "Human is an animal\n",
      "Dog is an animal\n",
      "Fish is an animal\n",
      "Coral is an animal\n"
     ]
    }
   ],
   "source": [
    "Animals = [\"Human\", \"Dog\", \"Fish\"]\n",
    "Animals.append(\"Coral\")\n",
    "print(Animals)\n",
    "\n",
    "for animal in Animals:\n",
    "    print(animal + \" is an animal\")"
   ]
  },
  {
   "cell_type": "markdown",
   "metadata": {},
   "source": [
    "The print statement is executed as many times as there are elements in the list Animals. Each time the variable `animal` takes on the value of a new element of `Animals`, until all elements have been used. This is a bit different from the variable behaviors we've seen before. Usually a variable is defined explicitely (e.g., `animal=\"Human\"`), after which it keeps the same value until we change it explicitely (e.g., `animal=\"Dog\"`). Here the value of `animal` changes every time the loop is reread (every \"iteration\" of the loop).\n",
    "\n",
    "Pay attention to the syntax of the loop. The `:` at the end of the first line is not optional.\n",
    "Neither are four spaces before the second line. More on that in a moment.\n",
    "\n",
    "Here is the computer's \"tought process\" as it reads the loop:  \n",
    "<pre>\n",
    "    animal = Animals[0]                                          \\ First iteration\n",
    "    print(animal + \" is an animal\")                              / of the loop.\n",
    "    Was that the last element? No. Move on to the next element.   \n",
    "    animal = Animals[1]                                          \\ Second iteration\n",
    "    print(animal + \" is an animal\")                              / of the loop.\n",
    "    Was that the last element? No. Move on to the next element.   \n",
    "    animal = Animals[2]                                          \\ Third iteration\n",
    "    print(animal + \" is an animal\")                              / of the loop.\n",
    "    Was that the last element? No. Move on to the next element.   \n",
    "    animal = Animals[3]                                          \\ Fourth and last iteration\n",
    "    print(animal + \" is an animal\")                              / of the loop.\n",
    "    Was that the last element? Yes. Stop here.                    \n",
    "</pre>\n",
    "\n",
    "Note that the result would be exactly the same if the variable `animal` was named anything else. What matters is that the name used on the \"for\" line matches the one used below. For example, this does the exact same thing:"
   ]
  },
  {
   "cell_type": "code",
   "execution_count": null,
   "metadata": {},
   "outputs": [],
   "source": [
    "for some_ridiculous_name in Animals:\n",
    "    print(some_ridiculous_name + \" is an animal\")"
   ]
  },
  {
   "cell_type": "markdown",
   "metadata": {},
   "source": [
    "A loop can contain multiple instructions:"
   ]
  },
  {
   "cell_type": "code",
   "execution_count": 69,
   "metadata": {},
   "outputs": [
    {
     "name": "stdout",
     "output_type": "stream",
     "text": [
      "Is Human an animal?\n",
      "Yes it is.\n",
      "Is Dog an animal?\n",
      "Yes it is.\n",
      "Is Fish an animal?\n",
      "Yes it is.\n",
      "Is Coral an animal?\n",
      "Yes it is.\n"
     ]
    }
   ],
   "source": [
    "for animal in Animals:\n",
    "    print(\"Is \"+animal+\" an animal?\")\n",
    "    print(\"Yes it is.\")"
   ]
  },
  {
   "cell_type": "markdown",
   "metadata": {},
   "source": [
    "Note how the lines that are inside the loop (the two print statements) start with four white spaces. We say they are indented. That's how python knows they are part of the loop. Being part of the loop means they are executed multiple times, once for each element of `Animals`.\n",
    "\n",
    "What if we want the program to do something only once, after the loop is over? All we need to do is not indent it. See the last print statement in the example below."
   ]
  },
  {
   "cell_type": "code",
   "execution_count": 70,
   "metadata": {},
   "outputs": [
    {
     "name": "stdout",
     "output_type": "stream",
     "text": [
      "Is Human an animal?\n",
      "Yes it is.\n",
      "Is Dog an animal?\n",
      "Yes it is.\n",
      "Is Fish an animal?\n",
      "Yes it is.\n",
      "Is Coral an animal?\n",
      "Yes it is.\n",
      "That's it for now.\n"
     ]
    }
   ],
   "source": [
    "for animal in Animals:\n",
    "    print(\"Is \"+animal+\" an animal?\")\n",
    "    print(\"Yes it is.\")\n",
    "print(\"That's it for now.\")"
   ]
  },
  {
   "cell_type": "markdown",
   "metadata": {},
   "source": [
    "<div class=\"alert alert-block alert-danger\">\n",
    "<b>Task 3:</b>\n",
    "Use a loop to print the first letter of each element of the list `Animals`.\n",
    "</div>"
   ]
  },
  {
   "cell_type": "code",
   "execution_count": null,
   "metadata": {},
   "outputs": [],
   "source": [
    "Animals = [\"Human\", \"Dog\", \"Fish\", \"Coral\"]"
   ]
  },
  {
   "cell_type": "code",
   "execution_count": null,
   "metadata": {},
   "outputs": [],
   "source": []
  },
  {
   "cell_type": "markdown",
   "metadata": {},
   "source": [
    "### Looping over a file\n",
    "\n",
    "For loops are also useful to read a file line by line. Instead of a string, or a list, here what we loop over is the file handle."
   ]
  },
  {
   "cell_type": "code",
   "execution_count": 72,
   "metadata": {
    "scrolled": true
   },
   "outputs": [
    {
     "name": "stdout",
     "output_type": "stream",
     "text": [
      "UUU,Phe\n",
      "\n",
      "UCU,Ser\n",
      "\n",
      "UAU,Tyr\n",
      "\n",
      "UGU,Cys\n",
      "\n",
      "UUC,Phe\n",
      "\n",
      "UCC,Ser\n",
      "\n",
      "UAC,Tyr\n",
      "\n",
      "UGC,Cys\n",
      "\n",
      "UUA,Leu\n",
      "\n",
      "UCA,Ser\n",
      "\n",
      "UAA,---\n",
      "\n",
      "UGA,---\n",
      "\n",
      "UUG,Leu\n",
      "\n",
      "UCG,Ser\n",
      "\n",
      "UAG,---\n",
      "\n",
      "UGG,Urp\n",
      "\n",
      "CUU,Leu\n",
      "\n",
      "CCU,Pro\n",
      "\n",
      "CAU,His\n",
      "\n",
      "CGU,Arg\n",
      "\n",
      "CUC,Leu\n",
      "\n",
      "CCC,Pro\n",
      "\n",
      "CAC,His\n",
      "\n",
      "CGC,Arg\n",
      "\n",
      "CUA,Leu\n",
      "\n",
      "CCA,Pro\n",
      "\n",
      "CAA,Gln\n",
      "\n",
      "CGA,Arg\n",
      "\n",
      "CUG,Leu\n",
      "\n",
      "CCG,Pro\n",
      "\n",
      "CAG,Gln\n",
      "\n",
      "CGG,Arg\n",
      "\n",
      "AUU,Ile\n",
      "\n",
      "ACU,Thr\n",
      "\n",
      "AAU,Asn\n",
      "\n",
      "AGU,Ser\n",
      "\n",
      "AUC,Ile\n",
      "\n",
      "ACC,Thr\n",
      "\n",
      "AAC,Asn\n",
      "\n",
      "AGC,Ser\n",
      "\n",
      "AUA,Ile\n",
      "\n",
      "ACA,Thr\n",
      "\n",
      "AAA,Lys\n",
      "\n",
      "AGA,Arg\n",
      "\n",
      "AUG,Met\n",
      "\n",
      "ACG,Thr\n",
      "\n",
      "AAG,Lys\n",
      "\n",
      "AGG,Arg\n",
      "\n",
      "GUU,Val\n",
      "\n",
      "GCU,Ala\n",
      "\n",
      "GAU,Asp\n",
      "\n",
      "GGU,Gly\n",
      "\n",
      "GUC,Val\n",
      "\n",
      "GCC,Ala\n",
      "\n",
      "GAC,Asp\n",
      "\n",
      "GGC,Gly\n",
      "\n",
      "GUA,Val\n",
      "\n",
      "GCA,Ala\n",
      "\n",
      "GAA,Glu\n",
      "\n",
      "GGA,Gly\n",
      "\n",
      "GUG,Val\n",
      "\n",
      "GCG,Ala\n",
      "\n",
      "GAG,Glu\n",
      "\n",
      "GGG,Gly\n",
      "\n"
     ]
    }
   ],
   "source": [
    "file_handle = open('rna_codon-table.txt')\n",
    "for line in file_handle:\n",
    "    print(line)"
   ]
  },
  {
   "cell_type": "markdown",
   "metadata": {},
   "source": [
    "There is something a bit strange here. Why do we get a blank line in between every line of the file? The answer is two-fold. Each line ends with a newline (`\\n`) character. That's how the text file tells you the line is over. Then `print` adds its own newline character. Why would it do that? It's so you can write something like this:"
   ]
  },
  {
   "cell_type": "code",
   "execution_count": 73,
   "metadata": {},
   "outputs": [
    {
     "name": "stdout",
     "output_type": "stream",
     "text": [
      "1\n",
      "2\n"
     ]
    }
   ],
   "source": [
    "print(1)\n",
    "print(2)"
   ]
  },
  {
   "cell_type": "markdown",
   "metadata": {},
   "source": [
    "Getting rid of the blank line in the loop above is easy: just don't print the last character of each line (the newline character):"
   ]
  },
  {
   "cell_type": "code",
   "execution_count": 74,
   "metadata": {
    "scrolled": true
   },
   "outputs": [
    {
     "name": "stdout",
     "output_type": "stream",
     "text": [
      "UUU,Phe\n",
      "UCU,Ser\n",
      "UAU,Tyr\n",
      "UGU,Cys\n",
      "UUC,Phe\n",
      "UCC,Ser\n",
      "UAC,Tyr\n",
      "UGC,Cys\n",
      "UUA,Leu\n",
      "UCA,Ser\n",
      "UAA,---\n",
      "UGA,---\n",
      "UUG,Leu\n",
      "UCG,Ser\n",
      "UAG,---\n",
      "UGG,Urp\n",
      "CUU,Leu\n",
      "CCU,Pro\n",
      "CAU,His\n",
      "CGU,Arg\n",
      "CUC,Leu\n",
      "CCC,Pro\n",
      "CAC,His\n",
      "CGC,Arg\n",
      "CUA,Leu\n",
      "CCA,Pro\n",
      "CAA,Gln\n",
      "CGA,Arg\n",
      "CUG,Leu\n",
      "CCG,Pro\n",
      "CAG,Gln\n",
      "CGG,Arg\n",
      "AUU,Ile\n",
      "ACU,Thr\n",
      "AAU,Asn\n",
      "AGU,Ser\n",
      "AUC,Ile\n",
      "ACC,Thr\n",
      "AAC,Asn\n",
      "AGC,Ser\n",
      "AUA,Ile\n",
      "ACA,Thr\n",
      "AAA,Lys\n",
      "AGA,Arg\n",
      "AUG,Met\n",
      "ACG,Thr\n",
      "AAG,Lys\n",
      "AGG,Arg\n",
      "GUU,Val\n",
      "GCU,Ala\n",
      "GAU,Asp\n",
      "GGU,Gly\n",
      "GUC,Val\n",
      "GCC,Ala\n",
      "GAC,Asp\n",
      "GGC,Gly\n",
      "GUA,Val\n",
      "GCA,Ala\n",
      "GAA,Glu\n",
      "GGA,Gly\n",
      "GUG,Val\n",
      "GCG,Ala\n",
      "GAG,Glu\n",
      "GGG,Gly\n"
     ]
    }
   ],
   "source": [
    "file_handle = open('rna_codon-table.txt')\n",
    "for line in file_handle:\n",
    "    print(line[:-1])"
   ]
  },
  {
   "cell_type": "markdown",
   "metadata": {},
   "source": [
    "Soon we'll need to treat the codon and the amino-acid on each line separately. Let's practice by printing only the amino-acids."
   ]
  },
  {
   "cell_type": "markdown",
   "metadata": {},
   "source": [
    "<div class=\"alert alert-block alert-danger\">\n",
    "<b>Task 4:</b>\n",
    "Loop over `rna_codon-table.txt`, but only print the amino-acid on each line.\n",
    "</div>"
   ]
  },
  {
   "cell_type": "code",
   "execution_count": null,
   "metadata": {},
   "outputs": [],
   "source": []
  },
  {
   "cell_type": "markdown",
   "metadata": {},
   "source": [
    "### Using  a loop to build a list\n",
    "\n",
    "Our first step towards an RNA translator will be to create a python object to hold the codon table. Specifically, we're going to build a list of codon-aminoacid pairs:  \n",
    "`[ ['UUU','Phe'], ['UCU','Ser'], ['UAU','Tyr'], ['UGU','Cys'], ... ]`  \n",
    "where each pair in the list corresponds to a line of `rna_codon-table.txt`.\n",
    "\n",
    "The basic idea is to start with an empty list and populate it as we read `rna_codon-table.txt`.\n",
    "\n",
    "Let's start by building a list of the amino-acids in `rna_codon-table.txt`."
   ]
  },
  {
   "cell_type": "markdown",
   "metadata": {},
   "source": [
    "<div class=\"alert alert-block alert-danger\">\n",
    "<b>Task 5:</b>\n",
    "Create a list of the amino-acids in `rna_codon-table.txt`. First create an empty list. Call it `aacids`. Then, open `rna_codon-table.txt`. Loop over it. For every line of `rna_codon-table.txt`, extract the amino-acid from the line and add it at the end of (in other words, append it to) the `aacids` list. Once the loop is over, print the list you just created.\n",
    "</div>"
   ]
  },
  {
   "cell_type": "code",
   "execution_count": null,
   "metadata": {},
   "outputs": [],
   "source": []
  },
  {
   "cell_type": "markdown",
   "metadata": {},
   "source": [
    "## RNA translator, step 1\n",
    "\n",
    "<div class=\"alert alert-block alert-danger\">\n",
    "<b>Task 6:</b>\n",
    "Create an empty list `codon_table`. Open `rna_codon-table.txt`. For every line in `rna_codon-table.txt`, extract the codon and the amino-acid, put them together in a pair (a list with two elements), and add that to `codon_table`.\n",
    "Once you're done building `codon_table`, print it.\n",
    "</div>"
   ]
  },
  {
   "cell_type": "code",
   "execution_count": null,
   "metadata": {},
   "outputs": [],
   "source": []
  },
  {
   "cell_type": "markdown",
   "metadata": {},
   "source": [
    "## Recap\n",
    "\n",
    "We've learned new tools that are basic for programming and that will allow us to build the RNA translator.\n",
    "\n",
    "- Indexing and extracting part of a string.\n",
    "- Open, reading, and manipulating a text file.\n",
    "- Lists. Indexing and extracting parts of them (basically same as strings).\n",
    "- Loops and using them to automating repetitive tasks, aka, what programming is best at.\n",
    "\n",
    "We've completed the first step of the RNA translator: loading the codon table into a list of (codon,amino-acid) pairs. Next week we'll see why this way of storing the codon table is so convenient in the context of RNA translation."
   ]
  },
  {
   "cell_type": "code",
   "execution_count": null,
   "metadata": {},
   "outputs": [],
   "source": []
  }
 ],
 "metadata": {
  "kernelspec": {
   "display_name": "Python 3",
   "language": "python",
   "name": "python3"
  },
  "language_info": {
   "codemirror_mode": {
    "name": "ipython",
    "version": 3
   },
   "file_extension": ".py",
   "mimetype": "text/x-python",
   "name": "python",
   "nbconvert_exporter": "python",
   "pygments_lexer": "ipython3",
   "version": "3.8.2"
  }
 },
 "nbformat": 4,
 "nbformat_minor": 2
}
