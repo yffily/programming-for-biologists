{
 "cells": [
  {
   "cell_type": "markdown",
   "metadata": {},
   "source": [
    "# Week 6: Plotting\n",
    "\n",
    "Today we learn how to plot. Since python doesn't know how to plot out of the box, we first need to learn to import modules, that is access code written by other people. Here is the table of contents:\n",
    "1. **Modules**  \n",
    "   A simple way to use other people's code.  \n",
    "2. **Plotting**  \n",
    "   Line plots, scatter plots, bar charts, pie charts.  \n",
    "3. **Nucleotide make-up of an RNA sequence**  \n",
    "4. **Microhabitat coverage**  \n",
    "   Loading a data table and plotting the data.\n",
    "5. **Tracking fish**  \n",
    "   Loading a data table and manipulating its columns.\n",
    "6. **Showing data collection sites on a map**  \n",
    "7. **Tracking wolves**  \n",
    "   Visualize an animal's motion on a map.\n",
    "8. **Sponge recruitment**  \n",
    "   "
   ]
  },
  {
   "cell_type": "markdown",
   "metadata": {},
   "source": [
    "## 1. Modules\n",
    "\n",
    "\n",
    "### 1.1. What is a module?\n",
    "\n",
    "A module is a file consisting of Python code that can define functions and variables. It is basically code that has been saved in a file. Modules are a way to re-use specific functions that later you want to import and make use of its functionality. It is similar to the functions you generate in previous weeks, but now if you will save your functions in a specific file, you coul develeop a module.\n",
    "\n",
    "To see how this works, let's make our own module. Let's start with the transcript function from last time, which translates a DNA sequence into and RNA sequence:"
   ]
  },
  {
   "cell_type": "code",
   "execution_count": null,
   "metadata": {},
   "outputs": [],
   "source": [
    "def transcript(dna):\n",
    "    rna = dna.replace('T','U')\n",
    "    return rna\n",
    "\n",
    "print(transcript('ATG'))"
   ]
  },
  {
   "cell_type": "markdown",
   "metadata": {},
   "source": [
    "In the folder this notebook is in, create an empty file called `my_dna_module.py`. Open it in a text editor and paste the code that defines the `transcript` function above. Then execute the code below."
   ]
  },
  {
   "cell_type": "code",
   "execution_count": null,
   "metadata": {},
   "outputs": [],
   "source": [
    "# This essentially runs the code in \"my_dna_module.py\" and make whatever is defined in it available to us.\n",
    "# The name after \"import\" should be the name of the file without the \".py\" extension.\n",
    "import my_dna_module\n",
    "# There's a catch though. To access something defined in \"my_dna_module.py\" we need to type\n",
    "# the name of the module, then a period, then the name of the variable or function we want to access.\n",
    "my_dna_module.transcript('ATG')"
   ]
  },
  {
   "cell_type": "markdown",
   "metadata": {},
   "source": [
    "That's the basic idea of a module. What makes modules so powerful, though, is that:  \n",
    "\n",
    "- There's a special folder on your computer where you can put module files to make them available to all your python projects. Say you have a file \"my_dna_module.py\" that contains dozens of useful functions to work with DNA. If you put it in that special folder, it will be available to any python program you write on your computer by simply typing \"import my_dna_module\".  \n",
    "\n",
    "- There are tens of thousands of additional modules freely available from the internet. No matter what project you're working on, there's a module out there that already does most of what you need to do."
   ]
  },
  {
   "cell_type": "markdown",
   "metadata": {},
   "source": [
    "### 1.2. Importing modules\n",
    "\n",
    "Some modules get installed automatically when you install python. They are already on your computer, you just didn't know about it. For example, mathematical functions are defined in the `math` module. Python itself knows about addition, subtractions, multiplications, and divisions, but things like square roots, exponentials, logarithms, constants like $\\pi$, etc are in the `math` module."
   ]
  },
  {
   "cell_type": "code",
   "execution_count": null,
   "metadata": {},
   "outputs": [],
   "source": [
    "# Basic python doesn't know about pi.\n",
    "pi"
   ]
  },
  {
   "cell_type": "code",
   "execution_count": null,
   "metadata": {},
   "outputs": [],
   "source": [
    "# You can get pi by importing the math module and calling the pi defined therein.\n",
    "import math\n",
    "print(math.pi) # This print the value of pi."
   ]
  },
  {
   "cell_type": "code",
   "execution_count": null,
   "metadata": {},
   "outputs": [],
   "source": [
    "# If you don't want to type \"math\" every time, you can give it a shorter name.\n",
    "import math as m\n",
    "print(m.pi) # This also prints the value of pi.\n",
    "\n",
    "# Be careful not to use the short name for something else. If later on you define a variable\n",
    "# called m, m will no longer refer to the math module.\n",
    "m = 1\n",
    "print(m) # This prints 1.\n",
    "print(m.pi) # This throws an error."
   ]
  },
  {
   "cell_type": "code",
   "execution_count": null,
   "metadata": {},
   "outputs": [],
   "source": [
    "# If you're planning on using math.pi a lot and even m.pi feels like too much of a hassle,\n",
    "# you can import pi like this:\n",
    "from math import pi\n",
    "print(pi) # This prints the value of pi."
   ]
  },
  {
   "cell_type": "markdown",
   "metadata": {},
   "source": [
    "Don't abuse the last one though. Every variable or function you import this way becomes a name you can't use for your own variables and functions any more lest you overwrite the module's defintion of it."
   ]
  },
  {
   "cell_type": "markdown",
   "metadata": {},
   "source": [
    "### 1.3 Installing modules\n",
    "\n",
    "Some of the modules we'll need today do not come preinstalled with python. We need to install them ourselves. Fortunately there's an easy way to do that. The three modules we'll need today are called \"matplotlib\", \"pandas\", and \"mplleaflet\". Here is how to install them.\n",
    "\n",
    "For mac users:  \n",
    "\n",
    "1. Open the terminal.  \n",
    "2. Type and execute \"conda install -y matplotlib\".  \n",
    "3. Type and execute \"conda install -y -c conda-forge pandas\".\n",
    "4. Type and execute \"pip install mplleaflet\".\n",
    "\n",
    "For windows users:  \n",
    "\n",
    "1. In the winpython folder, start \"WinPython Command Prompt\". A terminal opens.  \n",
    "2. In the terminal, type and execute \"pip install matplotlib pandas mplleaflet\".\n",
    "\n",
    "*Note:* Depending how you installed python you may already have some of those modules. One way to check is to try to import them (in a notebook, execute \"import [name of the module]\"). If you don't get an error then the module is alreaday instaled. Either way, you can run the commands above. If a module is already installed they'll notice and move on."
   ]
  },
  {
   "cell_type": "markdown",
   "metadata": {},
   "source": [
    "## 2. Plotting\n",
    "\n",
    "#### Why plot with python?\n",
    "\n",
    "Python is not the easiest way to make a plot. Spreadsheet softwares can make plots. Enter the data in the spreadsheet, click on some kind of plot button, and out pops a plot. Then you can use a combination of menus and drag-and-drop to refine the design.\n",
    "\n",
    "The main benefit of using python (or another programming language) to make plots is that python can also perform advanced data analysis. If your workflow involves frequent back and forth between the data analysis and the plotting, having a single tool that does both makes a huge difference.\n",
    "\n",
    "\n",
    "#### The matplotlib module\n",
    "\n",
    "Basic python has no plotting functionalities, but there are plenty of python modules that do. The one we'll use is called matplotlib. It's one of the modules we just installed. Note that you only need to install it once; like any regular software, it will stay on your computer until you uninstall it.\n",
    "\n",
    "Here are the basic steps to create a plot with matplotlib (once you've installed the module):  \n",
    "\n",
    "1. Import the module (only once per notebook).\n",
    "\n",
    "2. Define the data you want to plot.\n",
    "\n",
    "3. Call one of matplotlib's plotting functions.\n",
    "\n",
    "4. Display the plot on the screen.\n",
    "\n",
    "There's a subtlety to step 1: the functions we need are not directly in the matplotlib module, they're in a submodule of matplotlib called pyplot (in other words, matplotlib itself imports pyplot). We will import it with `import matplotlib.pyplot as plt`. After that a function called plot defined in pyplot can be called as plt.plot."
   ]
  },
  {
   "cell_type": "markdown",
   "metadata": {},
   "source": [
    "### 2.1. Line plot\n",
    "\n",
    "The purpose of line plots is usually to visualize changes over time."
   ]
  },
  {
   "cell_type": "code",
   "execution_count": null,
   "metadata": {},
   "outputs": [],
   "source": [
    "# 1. Import the plotting module.\n",
    "import matplotlib.pyplot as plt\n",
    "\n",
    "# 2. Import or copy your data. In this case we have a list of x coordinates and y coordinates.\n",
    "x = [1,2,3,4]\n",
    "y = [4,7,3,5]\n",
    "\n",
    "# 3.Use the correct function to plot. In this case to make a line plot, call plt.plot(x,y).\n",
    "# x corresponds to the x coordinates and y to the y coordinates above.\n",
    "plt.plot(x,y)\n",
    "\n",
    "# 4. At the end, call plt.show() to display the plot on the screen.\n",
    "# Similar to how the jupyter notebook always prints the return value of the \n",
    "# last command in your cell, it also displays the plot even if you forget \n",
    "# plt.show(). It's a good habit to use it anyway though.\n",
    "plt.show()"
   ]
  },
  {
   "cell_type": "markdown",
   "metadata": {},
   "source": [
    "Now we will learn to plot multiple lines in the same figure."
   ]
  },
  {
   "cell_type": "code",
   "execution_count": null,
   "metadata": {},
   "outputs": [],
   "source": [
    "# Add other data you would like to plot.\n",
    "x  = [1,2,3,4]\n",
    "y1 = [4,7,3,5]\n",
    "y2 = [3,5,4,4]\n",
    "\n",
    "# To plot multiple curves, call plt.plot multiple times.\n",
    "plt.plot(x,y1)\n",
    "plt.plot(x,y2)\n",
    "\n",
    "# There are other pyplot command to add a title, axis labels, \n",
    "# control the range of the axes, etc.\n",
    "plt.title('Two curves') # Add a title at the top.\n",
    "plt.xlabel('x') # Add a label below the x axis.\n",
    "plt.ylabel('y') # Add a label left of the y axis.\n",
    "plt.xlim(0,5) # Make the x axis go from 0 to 5.\n",
    "plt.ylim(0,None) # Make the x axis start at 0; let pyplot choose the upper limit automatically.\n",
    "\n",
    "# plt.show() always comes at the end. \n",
    "plt.show()\n",
    "# Any plt commmand after this will start a new plot."
   ]
  },
  {
   "cell_type": "code",
   "execution_count": null,
   "metadata": {},
   "outputs": [],
   "source": [
    "# To add a legend, first we need to give a name to each curve using\n",
    "# the option \"label\" of \"plt.plot\":\n",
    "x  = [1,2,3,4]\n",
    "y1 = [4,7,3,5]\n",
    "y2 = [3,5,4,4]\n",
    "plt.plot(x,y1,label='First curve')\n",
    "plt.plot(x,y2,label='Second curve')\n",
    "# Then we call plt.legend(), which uses the labels defined above.\n",
    "plt.legend()\n",
    "plt.show()"
   ]
  },
  {
   "cell_type": "markdown",
   "metadata": {},
   "source": [
    "### 2.2. Scatter plot\n",
    "Another common plot is the scatter plot. The purpose of the scatter plots is to show the relationship between two variables. Coding this plot is very similar to the line plot."
   ]
  },
  {
   "cell_type": "code",
   "execution_count": null,
   "metadata": {},
   "outputs": [],
   "source": [
    "# Same data as before.\n",
    "x = [1,2,3,4]\n",
    "y = [4,7,3,5]\n",
    "\n",
    "#Use the correct function to plot. In this case we use plt.scatter.\n",
    "plt.scatter(x,y)\n",
    "plt.show()\n",
    "\n",
    "# Note how calling plt.show() twice resulted in two separate plots."
   ]
  },
  {
   "cell_type": "markdown",
   "metadata": {},
   "source": [
    "### 2.3. Bar plot\n",
    "The purpose of the bar plot is to visualize differences or association between groups. In terms of coding, is very similar to the code for the line and scatter plots."
   ]
  },
  {
   "cell_type": "code",
   "execution_count": null,
   "metadata": {},
   "outputs": [],
   "source": [
    "# A bar chart also needs two lists. The first list has the name of each bar (\"x axis\").\n",
    "# The second list has the height of each bar (\"y axis\").\n",
    "plt.bar(['A','Z','D','E'],y)\n",
    "plt.show()"
   ]
  },
  {
   "cell_type": "markdown",
   "metadata": {},
   "source": [
    "### 2.4. Pie plot\n",
    "The purpose of the pie plot is to visualize compositional data. The total 360$^\\circ$ and each slice gives a proportion of an item relative to the total. Pie charts only require one list of values. They don't have to add up to 100, pyplot will normalize them automatically."
   ]
  },
  {
   "cell_type": "code",
   "execution_count": null,
   "metadata": {},
   "outputs": [],
   "source": [
    "# Data\n",
    "data = [13,25,275]\n",
    "\n",
    "# Or directly add the data into the function:\n",
    "plt.pie(data)\n",
    "plt.show()\n",
    "\n",
    "# You can give a list of labels, one for each sector.\n",
    "plt.pie(data,labels=['a','b','c'])\n",
    "plt.show()\n",
    "\n",
    "# It often looks better to turn off the default labels\n",
    "# and make a legend instead.\n",
    "plt.pie(data,labels=['a','b','c'],labeldistance=None)\n",
    "# Here we specify the location of the legend by giving its x and y\n",
    "# coordinates where (0,0) is the bottom left corner of the chart and \n",
    "# (1,1) is its top right corner.\n",
    "plt.legend(loc=(1,0.5))\n",
    "plt.show()\n"
   ]
  },
  {
   "cell_type": "markdown",
   "metadata": {},
   "source": [
    "### 2.5. More info on matplotlib\n",
    "\n",
    "Matplotlib has a very detailed online documentation. Here is the documentation page for the `plot` function: https://matplotlib.org/api/_as_gen/matplotlib.pyplot.plot.html. It describes every possible argument you can give the function to tweak what it plots and how it plots it. There are similar pages for `scatter`, `bar`, and `pie`. Generally speaking, if you type \"pyplot [name of a pyplot function]\" into a search engine the first result will usually be that function's documentation page.\n",
    "\n",
    "There are many more useful resources on the matplotlib website. You can learn to customize your plots at https://matplotlib.org/users/customizing.html. You can check out matplotlib's gallery at https://matplotlib.org/gallery.html to see examples of plots people made with it.\n",
    "\n",
    "Also remember that a lot of people use matplotlib, including a lot of beginners like yourselves. As a result the internet is full of discussion about how to use it. If you're stuck you can always type \"how to ... with matplotlib\" into a search engine."
   ]
  },
  {
   "cell_type": "markdown",
   "metadata": {},
   "source": [
    "## 3. Nucleotide make-up of an RNA sequence\n",
    "\n",
    "Now that you have the basic tools to start plotting, it's time to use them. In this first task we make a bar chart showing how much of each nucleotide is present in an RNA sequence."
   ]
  },
  {
   "cell_type": "markdown",
   "metadata": {},
   "source": [
    "<div class=\"alert alert-block alert-danger\">\n",
    "<b>Task 1:</b>\n",
    "Load the RNA sequence in `hbb_rna.txt`. Compute the A count, the U count, the G count, and the C count. Create a bar chart showing the amount of each. Add axis labels and a title to make your graph self-explanatory (one should be able to look at the graph in isolation and understand what it shows).\n",
    "</div>"
   ]
  },
  {
   "cell_type": "code",
   "execution_count": null,
   "metadata": {},
   "outputs": [],
   "source": []
  },
  {
   "cell_type": "markdown",
   "metadata": {},
   "source": [
    "## 4. Microhabitat coverage\n",
    "\n",
    "See Andia's slides about the study the data is from.\n",
    "\n",
    "The data is in the excel spreadsheet `microhabitat1.xlsx`. To load it we use the function `read_excel` from the module `pandas`. This produces a data table object known as a **dataframe**. If you've used the R language before, pandas' dataframe have much in common with R's dataframes."
   ]
  },
  {
   "cell_type": "code",
   "execution_count": null,
   "metadata": {},
   "outputs": [],
   "source": [
    "# To load data we need a new module: pandas.\n",
    "import pandas as pd\n",
    "# We're also importing a alternative to \"print\". Specifically, this is what the \n",
    "# jupyter notebook uses when it automatically prints the outcome of the last line\n",
    "# of every code cell. We're doing this because it renders dataframes much better\n",
    "# than the regular \"print\" function.\n",
    "from IPython.display import display\n",
    "\n",
    "# By default read_excel reads the name of each column in the first row (row index 0).\n",
    "# In this case they're in the third row (row index 2), so we need to tell it with the \n",
    "# \"header\" option.\n",
    "data = pd.read_excel('microhabitat1.xlsx',header=2)\n",
    "display(data)"
   ]
  },
  {
   "cell_type": "code",
   "execution_count": null,
   "metadata": {},
   "outputs": [],
   "source": [
    "# We can extract a single column of the table by calling by name:\n",
    "print(data['Coral'])\n",
    "# data['Coral'] is not technically a list, but it behaves very much like one.\n",
    "# Among other things, we can use it in pyplot's plot functions.\n",
    "\n",
    "# Note that the name of the column needs to be an exact match (including \n",
    "# capitalization and spaces) or you'll get an error."
   ]
  },
  {
   "cell_type": "code",
   "execution_count": null,
   "metadata": {},
   "outputs": [],
   "source": [
    "plt.plot(data['Year'],data['Coral'])\n",
    "plt.xlabel('Year') # Add a label to the x axis.\n",
    "plt.ylabel('% coverage') # Add a label to the y axis.\n",
    "plt.title('Percentage of the microhabitat covered in coral.') # Add a title above the plot.\n",
    "plt.show() # Display the plot on the screen."
   ]
  },
  {
   "cell_type": "code",
   "execution_count": null,
   "metadata": {},
   "outputs": [],
   "source": [
    "# You can get the list of all columns like this:\n",
    "print(data.columns)\n",
    "# Again it's not quite a list, but it behaves very much like one.\n",
    "# Among other things you can slice it and loop over it."
   ]
  },
  {
   "cell_type": "markdown",
   "metadata": {},
   "source": [
    "<div class=\"alert alert-block alert-danger\">\n",
    "<b>Task 2:</b>\n",
    "Plot every column from the data above as a function of the year on the same plot. That is, every column except the year; don't plot the year as a function of the year...\n",
    "</div>"
   ]
  },
  {
   "cell_type": "code",
   "execution_count": null,
   "metadata": {},
   "outputs": [],
   "source": []
  },
  {
   "cell_type": "markdown",
   "metadata": {},
   "source": [
    "## 5. Tracking fish\n",
    "\n",
    "The video `fish.mp4` is from an ongoing research project on collective behavior in astyanax mexicanus fish. It shows two fish swimming in a shallow circular tank about 1 meter in diameter. It is shot from above the tank. It was taken on campus in the fish trilab (Alex Keene, Erik Duboue, Johanna Kowalko). The position of each fish in each frame was then extracted by a python program written by postdoc Adam Patch using the opencv computer vision module. The result is the file `fish.csv`, which contains one row per frame of the video and 5 columns: the time, the pixel coordinates of the center of the first fish (pixel column number x1 and pixel row number y1), and the pixel coordinates of the second fish (x2 and y2)."
   ]
  },
  {
   "cell_type": "code",
   "execution_count": null,
   "metadata": {
    "scrolled": true
   },
   "outputs": [],
   "source": [
    "# The positions are in a csv file so we use pandas' read_csv. The names of the \n",
    "# columns are read from the first row (no need for the header option here; unless \n",
    "# specified otherwise the column names are assumed to be in the first row).\n",
    "data = pd.read_csv('fish.csv')\n",
    "display(data)"
   ]
  },
  {
   "cell_type": "markdown",
   "metadata": {},
   "source": [
    "We could again extract the columns with `data[name of the column]`. Instead, let's talk about the other, more general way to extract part of a dataframe: by index. Whereas elements of a list can be accessed with a single index, elements of a table need two: a row index and a column index. Like list indices, dataframe indices start at 0. Also like list indices, they can be replaced by slices.  \n",
    "\n",
    "The syntax is as follows: the name of the dataframe, then `.iloc[]`. Between the square bracket, two indices or slices separated by a comma; the first for rows, the second for columns."
   ]
  },
  {
   "cell_type": "code",
   "execution_count": null,
   "metadata": {},
   "outputs": [],
   "source": [
    "# Retrieve the element at row index 0, column index 2 (first row, third column):\n",
    "print(data.iloc[0,2])\n",
    "\n",
    "# Every other row starting at 1 and stopping right before 6, columns 2 to right before 5:\n",
    "display(data.iloc[1:6:2,2:5])\n",
    "\n",
    "# The entire y1 column (start at row 0, end at the last row, column index 2):\n",
    "display(data.iloc[:,2])\n",
    "\n",
    "# Note that the three objects we just produced are of three different types.\n",
    "# The first is just a number. The second is a dataframe just like \"data\", only\n",
    "# smaller. The third is a column object. That's why they get printed differently."
   ]
  },
  {
   "cell_type": "markdown",
   "metadata": {},
   "source": [
    "Let's use this new `iloc` method to plot the trajectories of the fish."
   ]
  },
  {
   "cell_type": "code",
   "execution_count": null,
   "metadata": {},
   "outputs": [],
   "source": [
    "# The x and y coordinates of the first fish are in the \"x1\" and \"y1\" \n",
    "# columns, respectively.\n",
    "plt.plot(data.iloc[:,1],data.iloc[:,2])\n",
    "# For the second fish we need the \"x2\" and \"y2\" columns.\n",
    "plt.plot(data.iloc[:,3],data.iloc[:,4])\n",
    "# This makes sure 1 unit along the x axis has the same on-screen size as 1 unit along\n",
    "# the y axis so the trajectories are not deformed.\n",
    "plt.axis('equal')\n",
    "plt.show()"
   ]
  },
  {
   "cell_type": "markdown",
   "metadata": {},
   "source": [
    "If you compare the trajectories we just plotted with the video, you'll notice something is off. What's happening is that the coordinates of the fish are given as a pixel column number (x) and a pixel column number (y). As per the standard image analysis convention, rows are counted from the top and columns are counted from the left. As a result the y axis is \"flipped\" and the trajectories are upside-down.\n",
    "\n",
    "Fortunately, it's very easy to perform basic arithmetic operations on dataframes and columns."
   ]
  },
  {
   "cell_type": "code",
   "execution_count": null,
   "metadata": {},
   "outputs": [],
   "source": [
    "# Let's demonstrate on the first five rows of x1.\n",
    "x1 = data.iloc[:5,1]\n",
    "print(x1)\n",
    "\n",
    "# Applying basic arithmetic operations to a column object simply applies the operation to\n",
    "# every value in that column. -x1 flips the sign of every value in x1. 2*x1 doubles every \n",
    "# value in x1. Etc.\n",
    "print('\\nMinus x1:')\n",
    "print(-x1)\n",
    "print('\\nTwice x1:')\n",
    "print(2*x1)"
   ]
  },
  {
   "cell_type": "markdown",
   "metadata": {},
   "source": [
    "<div class=\"alert alert-block alert-danger\">\n",
    "<b>Task 3:</b>\n",
    "Replot the fish trajectories upside-up. Add axis labels, a legend, and a title to make the plot self-explanatory.\n",
    "</div>"
   ]
  },
  {
   "cell_type": "code",
   "execution_count": null,
   "metadata": {},
   "outputs": [],
   "source": []
  },
  {
   "cell_type": "markdown",
   "metadata": {},
   "source": [
    "The trajectories should now match what you see in the video."
   ]
  },
  {
   "cell_type": "markdown",
   "metadata": {},
   "source": [
    "## 6. Showing data collection sites on a map\n",
    "\n",
    "The mplleaflet module makes it very easy to plot things on a map. To make a scatter plot on a map, just make a regular scatter plot with `plt.scatter` using the longitudes as x coordinates and the latitudes as y coordinates. At the end, instead of `plt.show()`, call `mplleaflet.show()`. That will create a file called `_map.html` and open it in your web browser like a regular webpage."
   ]
  },
  {
   "cell_type": "code",
   "execution_count": null,
   "metadata": {},
   "outputs": [],
   "source": [
    "# We already installed the mplleaflet module in section 1.3.\n",
    "# Now we need to import it to make it available in this notebook.\n",
    "import mplleaflet"
   ]
  },
  {
   "cell_type": "code",
   "execution_count": null,
   "metadata": {
    "scrolled": true
   },
   "outputs": [],
   "source": [
    "# Now we load the data. It's in an excel spreadsheet so we use the read_excel function \n",
    "# from the pandas module. The names of the columns are read from the first row.\n",
    "data = pd.read_excel('oil_sample_locations.xlsx')\n",
    "display(data)"
   ]
  },
  {
   "cell_type": "code",
   "execution_count": null,
   "metadata": {},
   "outputs": [],
   "source": [
    "# Now we plot. First we make a regular scatter plot with pyplot using the longitude column\n",
    "# as x coordinates and the latitude column as y coordinates, then we call mplleaflet.show().\n",
    "# This creates the file _map.html which is then opened in your browser like a regular webpage.\n",
    "# Note that you need internet access to see the map. The _map.html file contains your points, \n",
    "# but it doesn't contain the map per say, only a link to an online map. \n",
    "plt.scatter(data['LONGITUDE'],data['LATITUDE'],color='r',s=100)\n",
    "mplleaflet.show()"
   ]
  },
  {
   "cell_type": "code",
   "execution_count": null,
   "metadata": {},
   "outputs": [],
   "source": [
    "# You can change the map's style with the \"tiles\" option.\n",
    "# The default style is 'osm' (open street map).\n",
    "# To get topographic lines use tiles='esri_worldtopo'.\n",
    "# To get aerial views use tiles='esri_aerial'.\n",
    "plt.scatter(data['LONGITUDE'],data['LATITUDE'],color='r',s=100)\n",
    "mplleaflet.show(tiles='esri_aerial')"
   ]
  },
  {
   "cell_type": "code",
   "execution_count": null,
   "metadata": {},
   "outputs": [],
   "source": [
    "# Here is the full list of available styles:\n",
    "print(list(mplleaflet.maptiles.tiles.keys()))"
   ]
  },
  {
   "cell_type": "markdown",
   "metadata": {},
   "source": [
    "## 7. Tracking wolves\n",
    "\n",
    "This is from an ongoing research project at the University of Minnesota Twin Cities. It involves placing GPS collars on wolves living in the Voyageur National Park. Check out the project's website at https://www.voyageurswolfproject.org, there's much more to it. \n",
    "\n",
    "The voyageur wolf collaboration generously accepted to share the data with us, but they ask that you **<font color='red'>do not share the data</font>** outside of this class as it could be used to harm the wolves.\n",
    "\n",
    "The data files are located in the `wolf_data` folder. Each file corresponds to a different wolf. They're all csv files with the column names in the first row."
   ]
  },
  {
   "cell_type": "code",
   "execution_count": null,
   "metadata": {},
   "outputs": [],
   "source": [
    "# Here is the wolf \"V028\", whose location was recorded every 20 minutes for 6 months.\n",
    "# Note the name of the file is now a path. \"wolf_data/V028.csv\" means the file \"V028.csv\"\n",
    "# located in the folder \"wolf_data\", itself located in the same folder as this notebook.\n",
    "data = pd.read_csv('wolf_data/V028.csv')\n",
    "display(data)"
   ]
  },
  {
   "cell_type": "code",
   "execution_count": null,
   "metadata": {},
   "outputs": [],
   "source": [
    "# Let's plot it on a map.\n",
    "plt.plot(data['Longitude'],data['Latitude'])\n",
    "mplleaflet.show()"
   ]
  },
  {
   "cell_type": "markdown",
   "metadata": {},
   "source": [
    "Next we'd like to show every wolf's trajectory on the same map. The first step is to make a list of all the wolves' data files. You can do that by hand or use the function `listdir` from module `os`, which takes the name of a directory and returns a list of all the files in it:"
   ]
  },
  {
   "cell_type": "code",
   "execution_count": null,
   "metadata": {},
   "outputs": [],
   "source": [
    "import os\n",
    "print(os.listdir('wolf_data'))"
   ]
  },
  {
   "cell_type": "markdown",
   "metadata": {},
   "source": [
    "<div class=\"alert alert-block alert-danger\">\n",
    "<b>Task 4:</b>\n",
    "Write a loop over the wolf data files. For each file, load the data and plot the wolf's trajectory. Once the loop is over, use mplleaflet to render the whole thing on a map.\n",
    "</div>"
   ]
  },
  {
   "cell_type": "code",
   "execution_count": null,
   "metadata": {},
   "outputs": [],
   "source": []
  },
  {
   "cell_type": "markdown",
   "metadata": {},
   "source": [
    "## 8. Sponge recruitment\n",
    "\n",
    "See Andia's slides about sponge recruitment.\n",
    "\n",
    "This one doesn't introduce any new concept, it's just additional practice of the things we talked about throughout the notebook."
   ]
  },
  {
   "cell_type": "markdown",
   "metadata": {},
   "source": [
    "<div class=\"alert alert-block alert-danger\">\n",
    "<b>Task 5:</b>\n",
    "Load the data in `sponge_recruits.csv`. Use it to make a pie chart showing the proportion of each species' recruits.\n",
    "</div>"
   ]
  },
  {
   "cell_type": "code",
   "execution_count": null,
   "metadata": {
    "scrolled": true
   },
   "outputs": [],
   "source": []
  }
 ],
 "metadata": {
  "kernelspec": {
   "display_name": "Python 3",
   "language": "python",
   "name": "python3"
  },
  "language_info": {
   "codemirror_mode": {
    "name": "ipython",
    "version": 3
   },
   "file_extension": ".py",
   "mimetype": "text/x-python",
   "name": "python",
   "nbconvert_exporter": "python",
   "pygments_lexer": "ipython3",
   "version": "3.6.8"
  }
 },
 "nbformat": 4,
 "nbformat_minor": 2
}
