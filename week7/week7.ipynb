{
 "cells": [
  {
   "cell_type": "markdown",
   "metadata": {},
   "source": [
    "# Week 7: More plotting and some statistics\n",
    "\n",
    "Today we continue to load data tables from research project and plot them. We also learn to compute basic statistics on a data table like averages and standard deviations. Here is the table of contents:\n",
    "1. **Showing data collection sites on a map**  \n",
    "2. **Tracking wolves**  \n",
    "   Visualize an animal's motion on a map.  \n",
    "3. **Pelagic megafauna** (optional)  \n",
    "4. **Sponge recruitment**  \n",
    "5. **Algae growth, statistics, box plots**  \n",
    "6. **Microhabitats**  \n",
    "   Compute and visualize statistics about the reef microhabitat we discussed last week."
   ]
  },
  {
   "cell_type": "markdown",
   "metadata": {},
   "source": [
    "## 1. Showing data collection sites on a map\n",
    "\n",
    "The mplleaflet module makes it very easy to plot things on a map. To make a scatter plot on a map, just make a regular scatter plot with `plt.scatter` using the longitudes as x coordinates and the latitudes as y coordinates. At the end, instead of `plt.show()`, call `mplleaflet.show()`. That will create a file called `_map.html` and open it in your web browser like a regular webpage."
   ]
  },
  {
   "cell_type": "code",
   "execution_count": null,
   "metadata": {},
   "outputs": [],
   "source": [
    "# Import the necessary modules\n",
    "import pandas as pd              # To load spreadsheets.\n",
    "import matplotlib.pyplot as plt  # To plot.\n",
    "import mplleaflet                # To plot on maps."
   ]
  },
  {
   "cell_type": "code",
   "execution_count": null,
   "metadata": {
    "scrolled": true
   },
   "outputs": [],
   "source": [
    "# Now we load the data. It's in an excel spreadsheet so we use the read_excel function \n",
    "# from the pandas module. The names of the columns are read from the first row.\n",
    "data = pd.read_excel('oil_sample_locations.xlsx')\n",
    "display(data)"
   ]
  },
  {
   "cell_type": "code",
   "execution_count": null,
   "metadata": {},
   "outputs": [],
   "source": [
    "# Now we plot. First we make a regular scatter plot with pyplot using the longitude column\n",
    "# as x coordinates and the latitude column as y coordinates, then we call mplleaflet.show().\n",
    "# This creates the file _map.html which is then opened in your browser like a regular webpage.\n",
    "# Note that you need internet access to see the map. The _map.html file contains your points, \n",
    "# but it doesn't contain the map per say, only a link to an online map. \n",
    "plt.scatter(data['LONGITUDE'],data['LATITUDE'],color='r',s=100)\n",
    "mplleaflet.show()"
   ]
  },
  {
   "cell_type": "code",
   "execution_count": null,
   "metadata": {},
   "outputs": [],
   "source": [
    "# You can change the map's style with the \"tiles\" option.\n",
    "# The default style is 'osm' (open street map).\n",
    "# To get topographic lines use tiles='esri_worldtopo'.\n",
    "# To get aerial views use tiles='esri_aerial'.\n",
    "plt.scatter(data['LONGITUDE'],data['LATITUDE'],color='r',s=100)\n",
    "mplleaflet.show(tiles='esri_aerial')"
   ]
  },
  {
   "cell_type": "code",
   "execution_count": null,
   "metadata": {},
   "outputs": [],
   "source": [
    "# Here is the full list of available styles:\n",
    "print(list(mplleaflet.maptiles.tiles.keys()))"
   ]
  },
  {
   "cell_type": "markdown",
   "metadata": {},
   "source": [
    "## 2. Tracking wolves\n",
    "\n",
    "This is from an ongoing research project at the University of Minnesota Twin Cities. It involves placing GPS collars on wolves living in the Voyageur National Park. Check out the project's website at https://www.voyageurswolfproject.org, there's much more to it. \n",
    "\n",
    "The voyageur wolf collaboration generously accepted to share the data with us, but they ask that you **<font color='red'>do not share the data</font>** outside of this class as it could be used to harm the wolves.\n",
    "\n",
    "The data files are located in the `wolf_data` folder. Each file corresponds to a different wolf. They're all csv files with the column names in the first row."
   ]
  },
  {
   "cell_type": "code",
   "execution_count": null,
   "metadata": {},
   "outputs": [],
   "source": [
    "# Here is the wolf \"V028\", whose location was recorded every 20 minutes for 6 months.\n",
    "# Note the name of the file is now a path. \"wolf_data/V028.csv\" means the file \"V028.csv\"\n",
    "# located in the folder \"wolf_data\", itself located in the same folder as this notebook.\n",
    "data = pd.read_csv('wolf_data/V028.csv')\n",
    "display(data)"
   ]
  },
  {
   "cell_type": "code",
   "execution_count": null,
   "metadata": {},
   "outputs": [],
   "source": [
    "# Let's plot it on a map.\n",
    "plt.plot(data['Longitude'],data['Latitude'])\n",
    "mplleaflet.show()"
   ]
  },
  {
   "cell_type": "markdown",
   "metadata": {},
   "source": [
    "Next we'd like to show every wolf's trajectory on the same map. The first step is to make a list of all the wolves' data files. You can do that by hand or use the function `glob` from module `glob`, which creates a list of files matching a certain pattern:"
   ]
  },
  {
   "cell_type": "code",
   "execution_count": null,
   "metadata": {},
   "outputs": [],
   "source": [
    "import glob\n",
    "print(glob.glob('wolf_data/*.csv'))\n",
    "# The pattern 'wolf_data/*.csv' matches any file with extension '.csv' in the folder 'wolf_data'.\n",
    "# The output of glob.glob is a list of every file that matches the pattern."
   ]
  },
  {
   "cell_type": "markdown",
   "metadata": {},
   "source": [
    "<div class=\"alert alert-block alert-danger\">\n",
    "<b>Task 1:</b>\n",
    "Write a loop over the wolf data files. For each file, load the data and plot the wolf's trajectory. Once the loop is over, use mplleaflet to render the whole thing on a map.\n",
    "</div>"
   ]
  },
  {
   "cell_type": "code",
   "execution_count": null,
   "metadata": {},
   "outputs": [],
   "source": []
  },
  {
   "cell_type": "markdown",
   "metadata": {},
   "source": [
    "## 3. Pelagic Megafauna (optional)"
   ]
  },
  {
   "cell_type": "markdown",
   "metadata": {},
   "source": [
    "<div class=\"alert alert-block alert-danger\">\n",
    "<b>Optional Task 1:</b>\n",
    "Download Dataset 1 from https://www.nature.com/articles/s41598-018-38144-8#additional-information. Load it into pandas. Create a set of mplleaflet maps showing the trajectory of a fish, one map per pair of longitude-latitude columns. For each fish you'll need to discard any row with a missing longitude or latitude (look up \"pandas dropna\"). Name each map after the species the data is from using `mplleaflet.save_html(fileobj='name_of_the_file.html')` instead of `mplleaflet.show()`.\n",
    "</div>"
   ]
  },
  {
   "cell_type": "code",
   "execution_count": null,
   "metadata": {},
   "outputs": [],
   "source": []
  },
  {
   "cell_type": "markdown",
   "metadata": {},
   "source": [
    "## 4. Sponge recruitment\n",
    "\n",
    "See Andia's slides about sponge recruitment.\n",
    "\n",
    "No new python/pandas concepts here, just practicing what we've already learned."
   ]
  },
  {
   "cell_type": "markdown",
   "metadata": {},
   "source": [
    "<div class=\"alert alert-block alert-danger\">\n",
    "<b>Task 2:</b>\n",
    "Load the data in `sponge_recruits.csv`. Use it to make a pie chart showing the proportion of each species' recruits. Use labels and a title to make it self-explanatory.\n",
    "</div>"
   ]
  },
  {
   "cell_type": "code",
   "execution_count": null,
   "metadata": {},
   "outputs": [],
   "source": []
  },
  {
   "cell_type": "markdown",
   "metadata": {},
   "source": [
    "## 5. Algae growth, statistics, and box plots\n",
    "\n",
    "See Andia's slides about algae growth and statistics.\n",
    "\n",
    "The data for this section is in the excel spreadsheet `algae_growth.xlsl`. Algae are grown in the lab under various conditions. The growing conditions are recorded in the \"conditions\" column. The height to which the algae grow is recorded in centimeters in the \"growth\" column. Each row corresponds to a different experiment. Each type of growing conditions was tested multiple times in no particular order."
   ]
  },
  {
   "cell_type": "code",
   "execution_count": null,
   "metadata": {},
   "outputs": [],
   "source": [
    "# Load the data.\n",
    "data = pd.read_excel('algae_growth.xlsx')\n",
    "display(data)"
   ]
  },
  {
   "cell_type": "markdown",
   "metadata": {},
   "source": [
    "### 5.1. Column statistics"
   ]
  },
  {
   "cell_type": "markdown",
   "metadata": {},
   "source": [
    "Pandas' method `describe` provides an overview of a data table's main statistical properties."
   ]
  },
  {
   "cell_type": "code",
   "execution_count": null,
   "metadata": {
    "scrolled": true
   },
   "outputs": [],
   "source": [
    "display(data.describe())\n",
    "# The output is a new data table. \n",
    "# It has 8 rows, one for each statistical property being computed. \n",
    "# It has the same columns as the original data table, at least the ones that contain numbers.\n",
    "# In this case the 'conditions' column got ignored because it contains strings for which\n",
    "# there's no clear way to compute a mean, standard deviation, etc."
   ]
  },
  {
   "cell_type": "markdown",
   "metadata": {},
   "source": [
    "There are also functions to compute individual statistical properties. It's simplest to use them on a single column, then the answer is a simple number."
   ]
  },
  {
   "cell_type": "code",
   "execution_count": null,
   "metadata": {},
   "outputs": [],
   "source": [
    "# Print the mean of the \"growth\" column.\n",
    "print('Mean:')\n",
    "print(data['growth'].mean())\n",
    "\n",
    "# Print the standard deviation of the \"growth\" column.\n",
    "print('\\nStandard deviation:')\n",
    "print(data['growth'].std())"
   ]
  },
  {
   "cell_type": "markdown",
   "metadata": {},
   "source": [
    "We can also compute statistical properties that are not computed by `describe`. The most important one is the standard error, which is used to assess the uncertainty of the mean:"
   ]
  },
  {
   "cell_type": "code",
   "execution_count": null,
   "metadata": {},
   "outputs": [],
   "source": [
    "print('Standard error:')\n",
    "print(data['growth'].sem())"
   ]
  },
  {
   "cell_type": "markdown",
   "metadata": {},
   "source": [
    "### 5.2. Grouping by growing conditions\n",
    "\n",
    "The order of the spreadsheet's rows often reflects the order in which the experiments were performed and the results recorded. What we really want to know, though, is whether and how the growth rate depends on the growing conditions. To do that, we need to group the rows by growing conditions.\n",
    "\n",
    "Pandas' method `groupby` does exactly that. All we need to tell it is the name of the column containing the information we want to group the rows by. In this case it's the `conditions` column."
   ]
  },
  {
   "cell_type": "code",
   "execution_count": null,
   "metadata": {},
   "outputs": [],
   "source": [
    "grouped_data = data.groupby('conditions')\n",
    "\n",
    "# The output of \"groupby\" is kind of like a data table but not quite. \n",
    "# Unfortunately, it cannot be displayed like a table:\n",
    "display(grouped_data)"
   ]
  },
  {
   "cell_type": "code",
   "execution_count": null,
   "metadata": {},
   "outputs": [],
   "source": [
    "# On the other hand we can request one specific group and display that\n",
    "# like a table:\n",
    "display(grouped_data.get_group('Caged')) # Filtered data table with only the 'Caged' rows."
   ]
  },
  {
   "cell_type": "markdown",
   "metadata": {},
   "source": [
    "More importantly, we can use any of pandas' statistical functions (count, mean, std, sem, etc) on the output of `groupby` to compute the corresponding statistical property for each group. The result is a data table with one row for each group and one column for each numerical column of the original table (in this case just the \"growth\" column)."
   ]
  },
  {
   "cell_type": "code",
   "execution_count": null,
   "metadata": {
    "scrolled": true
   },
   "outputs": [],
   "source": [
    "means = data.groupby('conditions').mean()\n",
    "display(means)\n",
    "\n",
    "# Unlike the data tables we've worked with before, in this one the rows\n",
    "# have names shown in bold on the left.\n",
    "# Note that \"conditions\" is not a true column of the table anymore,\n",
    "# rather it's a list of the rows' names."
   ]
  },
  {
   "cell_type": "code",
   "execution_count": null,
   "metadata": {},
   "outputs": [],
   "source": [
    "# As with any pandas data table we can extract a column by name:\n",
    "display(means['growth'])"
   ]
  },
  {
   "cell_type": "code",
   "execution_count": null,
   "metadata": {},
   "outputs": [],
   "source": [
    "# We can get the list of row names using the table's \"index\" property:\n",
    "display(means.index)"
   ]
  },
  {
   "cell_type": "code",
   "execution_count": null,
   "metadata": {},
   "outputs": [],
   "source": [
    "# To extract a specific value from a column we can call it either by\n",
    "# its row name or by its row index.\n",
    "print('Mean growth in the control group: ')\n",
    "print(means['growth']['Control']) # Specify row by name.\n",
    "print(means['growth'][2]) # Specify row by index."
   ]
  },
  {
   "cell_type": "markdown",
   "metadata": {},
   "source": [
    "### 5.3. Plotting group statistics\n",
    "\n",
    "We would now like to make a bar plot of the mean growth height for each growing conditions with error bars showing the uncertainty of the mean as obtained from the standard error."
   ]
  },
  {
   "cell_type": "code",
   "execution_count": null,
   "metadata": {},
   "outputs": [],
   "source": [
    "grouped_data = data.groupby('conditions')\n",
    "\n",
    "# We can compute the means like this:\n",
    "means = grouped_data.mean()\n",
    "display(means)\n",
    "# However that is a data table, and we can't plot a data table\n",
    "# against another, only a column against another. Hence we must\n",
    "# specify we want the 'growth' column:\n",
    "means = grouped_data.mean()['growth']\n",
    "print(means)\n",
    "\n",
    "# Same thing for the standard error, which we'll use to scale the error bars:\n",
    "serrs = grouped_data.sem()['growth']\n",
    "\n",
    "# For the horizontal axis of the plot we need the list of conditions,\n",
    "# which we can get as the row names of either 'means' or 'serrs':\n",
    "conditions = means.index\n",
    "\n",
    "# The \"plt.figure\" needs to go before any plotting command. I'm using it to control \n",
    "# the size of the graph. The two numbers between brackets after \"figsize=\" are the \n",
    "# width and height of the plot. Play around with them until you find a size you like.\n",
    "plt.figure(figsize=[10,6])\n",
    "# Now we're ready to plot. The 'yerr' option is used the specify the\n",
    "# size of the error bars (by default there are no error bars at all).\n",
    "plt.bar(conditions,means,yerr=serrs)\n",
    "plt.ylabel('Height (cm)')\n",
    "plt.title('Algae height grown under various conditions')\n",
    "plt.xticks(rotation=45)\n",
    "plt.show()"
   ]
  },
  {
   "cell_type": "markdown",
   "metadata": {},
   "source": [
    "### 5.4. Making a box plot\n",
    "\n",
    "A lot goes into making a box plot, including grouping the data, computing its quartiles, its outliers, etc. However it's such a common need that pandas has a function that takes care of everything for you. All you need to specify is which column you want on the vertical axis (with the `column` option) and which column you want on the horizontal axis (with the `by` option). Under the hood `boxplot` uses the latter to group the data then computes the quartiles of the former for each group."
   ]
  },
  {
   "cell_type": "code",
   "execution_count": null,
   "metadata": {
    "scrolled": false
   },
   "outputs": [],
   "source": [
    "# By default boxplot draws a grid in the background. I didn't like it so I turned it off\n",
    "# with \"grid=False\". You can delete the option of change False to True if you want.\n",
    "# I also increased the size of the graph with the figsize option. Note that the \"plt.figure\"\n",
    "# trick doesn't work to set the size of pandas boxplots, instead you have to use the \"figsize\"\n",
    "# option inside the \"boxplot\" command. As before the two numbers are the width and height of \n",
    "# the graph.\n",
    "data.boxplot(column='growth',by='conditions',grid=False,figsize=[10,6])\n",
    "# For some weird reason this plot has two titles that overlap each other. \n",
    "# One is controlled by \"plt.suptitle\", the other by \"plt.title\". Here I get rid of the\n",
    "# former by setting it to an empty string then use the latter for the actual title.\n",
    "plt.suptitle('')\n",
    "plt.title('Algae height grown under various conditions')\n",
    "plt.xlabel('Growing conditions')\n",
    "plt.ylabel('Height (cm)')\n",
    "plt.xticks(rotation=60) # Tilting x axis labels by 60 degrees.\n",
    "# plt.ylim(0,15)\n",
    "plt.show()"
   ]
  },
  {
   "cell_type": "markdown",
   "metadata": {},
   "source": [
    "Sometimes you need to zoom in on a specific range of values. To do that you can use `plt.xlim` and `plt.ylim`. We discussed examples of that last week; here is another one:"
   ]
  },
  {
   "cell_type": "code",
   "execution_count": null,
   "metadata": {},
   "outputs": [],
   "source": [
    "data.boxplot(column='growth',by='conditions',grid=False)\n",
    "plt.suptitle('')\n",
    "plt.title('Algae height grown under various conditions')\n",
    "plt.xlabel('Growing conditions')\n",
    "plt.ylabel('Height (cm)')\n",
    "plt.ylim(4.5,12.5)\n",
    "plt.show()"
   ]
  },
  {
   "cell_type": "markdown",
   "metadata": {},
   "source": [
    "## 6. Microhabitats\n",
    "\n",
    "Let us now apply this new knowledge of statistics and box plots to the microhabitat data from last week."
   ]
  },
  {
   "cell_type": "markdown",
   "metadata": {},
   "source": [
    "<div class=\"alert alert-block alert-danger\">\n",
    "<b>Task 3:</b>\n",
    "Load the data in `microhabitats.xlsx`. Make a list of means and a list of standard errors across all microhabitats and all years. Make a bar plot and a box plot, and in one paragraph explain what both plots suggest about the percent cover of microhabitats. Which microhabitat has more percent cover? Which one less?"
   ]
  },
  {
   "cell_type": "code",
   "execution_count": null,
   "metadata": {},
   "outputs": [],
   "source": []
  },
  {
   "cell_type": "markdown",
   "metadata": {},
   "source": [
    "For this next (optional) task you need to know how to group the data then loop over all the groups."
   ]
  },
  {
   "cell_type": "code",
   "execution_count": null,
   "metadata": {},
   "outputs": [],
   "source": [
    "# To get the list of all group names, retrieve the column used for grouping\n",
    "# then eliminate duplicates with \"unique\":\n",
    "covers = data['type of cover'].unique()\n",
    "print(covers)\n",
    "\n",
    "# Note: Don't use \"type\" as a variable name, it's a python reserved keyword.\n",
    "\n",
    "# At this point if you wanted to compute something for each group you could loop\n",
    "# over the groups. For basic stats there is a simpler way, but this can be useful\n",
    "# for more advanced use cases. Here I'm just printing a separate table for each \n",
    "# growing conditions to illustrate the method.\n",
    "for cover in covers:\n",
    "#     display(data[data['conditions']==condition])\n",
    "    display(data.groupby('type of cover').get_group(cover))"
   ]
  },
  {
   "cell_type": "markdown",
   "metadata": {},
   "source": [
    "You also need to know about `plt.errorbar`. It works pretty much like `plt.plot` except there's a `yerr` option you can use to set the vertical error bars like we did in `plt.bar`. Here is a made up example:"
   ]
  },
  {
   "cell_type": "code",
   "execution_count": null,
   "metadata": {},
   "outputs": [],
   "source": [
    "plt.errorbar([1,2,3],[4,3,5],yerr=[0.5,0.3,0.1])\n",
    "plt.show()"
   ]
  },
  {
   "cell_type": "markdown",
   "metadata": {},
   "source": [
    "<div class=\"alert alert-block alert-danger\">\n",
    "<b>Optional Task 2:</b>\n",
    "Load the data in `microhabitats.xlsx`. Make a line plot with error bars (using `plt.errorbar`) of the percent coverage against the year. Make a separate curve for each type of cover, but put them all on the same graph. What does the graph tell us about the evolution of reef microhabitats between 2003 and 2018?"
   ]
  },
  {
   "cell_type": "code",
   "execution_count": null,
   "metadata": {},
   "outputs": [],
   "source": []
  }
 ],
 "metadata": {
  "kernelspec": {
   "display_name": "Python 3",
   "language": "python",
   "name": "python3"
  },
  "language_info": {
   "codemirror_mode": {
    "name": "ipython",
    "version": 3
   },
   "file_extension": ".py",
   "mimetype": "text/x-python",
   "name": "python",
   "nbconvert_exporter": "python",
   "pygments_lexer": "ipython3",
   "version": "3.6.8"
  }
 },
 "nbformat": 4,
 "nbformat_minor": 2
}
