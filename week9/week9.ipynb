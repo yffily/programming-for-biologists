{
 "cells": [
  {
   "cell_type": "markdown",
   "metadata": {},
   "source": [
    "# Group Tracking Exercise: Identify at which place (den) each person spends more time\n",
    "\n",
    "Today we are going to do an outdoor tracking experiment, this time we will be tracking our own movement patterns, similar to the wolves project. Keep in mind this excercise is applicable to other mobile animals besides humans and wolves. \n",
    "\n",
    "Overal Objective: use programming tools to identify at which den each group of students spend more time. \n",
    "\n",
    "#### Table of contents:\n",
    "#### Outdoor tracking: \n",
    "Assign groups to students (3 groups of 5 students).\n",
    "\n",
    "Each student is going to use the GPS app in their phones (as explained in previous week).\n",
    "\n",
    "The route each student will follow will depend of the assigned den (check power point instructions).\n",
    "\n",
    "\n",
    "#### Programming:\n",
    "1. Loading and mapping all students tracks\n",
    "2. Computing distances between your own track and the dens (task 1 and 2)\n",
    "3. Computing distances between all students' tracks and the dens (task 3)\n",
    "4. Full automatic detection of each track's den (task 4 and extra task)"
   ]
  },
  {
   "cell_type": "markdown",
   "metadata": {},
   "source": [
    "## 1. Loading and mapping all students tracks\n",
    "\n",
    "### 1.1 Upload your track, then download everyone's track\n",
    "\n",
    "<div class=\"alert alert-block alert-danger\">\n",
    "\n",
    "Before running the rest of the notebook, you need to:  \n",
    "\n",
    "1. Collect your track outside.  \n",
    "\n",
    "2. Upload it to canvas through assignment 9a.  \n",
    "\n",
    "3. Wait for us to make all the tracks available to you on canvas in the week9 folder.  \n",
    "\n",
    "4. Download all the tracks and put them in a folder called \"tracks\" inside this notebook's folder.\n",
    "</div>"
   ]
  },
  {
   "cell_type": "markdown",
   "metadata": {},
   "source": [
    "### 1.2 Import modules\n",
    "\n",
    "Import all the necessary modules to work with data frames, maps and plots"
   ]
  },
  {
   "cell_type": "code",
   "execution_count": null,
   "metadata": {},
   "outputs": [],
   "source": [
    "import pandas as pd\n",
    "import numpy as np\n",
    "import matplotlib.pyplot as plt\n",
    "import mplleaflet, gpxpy, glob"
   ]
  },
  {
   "cell_type": "markdown",
   "metadata": {},
   "source": [
    "### 1.3 Define a distance function (same as last week except result is now in meters)\n",
    "Remember this distance function will help us to calculate the distance between 2 points.\n",
    "You don't need to modify this function. You will be using the function later to obtain the distance between points."
   ]
  },
  {
   "cell_type": "code",
   "execution_count": null,
   "metadata": {},
   "outputs": [],
   "source": [
    "# This distance function ignores altitude and returns the distance in miles: \n",
    "\n",
    "def distance(lo1,la1,lo2,la2):      \n",
    "    ''' \n",
    "    Distance between two points in meters, ignoring altitudes.\n",
    "    \n",
    "    Arguments:\n",
    "      lo1: Longitude of point 1.\n",
    "      la1: Latitude of point 1.\n",
    "      lo2: Longitude of point 2.\n",
    "      la2: Latitude of point 2. \n",
    "    '''\n",
    "    return gpxpy.geo.distance(lo1,la1,None,lo2,la2,None)"
   ]
  },
  {
   "cell_type": "markdown",
   "metadata": {},
   "source": [
    "### 1.4 Define a new function named \"get_points\" \n",
    "This function will help us to obtain the the points from the segments and tracks in the gpx files. We will be using this function later when we will be opening the files.\n",
    "You don't need to modify this function."
   ]
  },
  {
   "cell_type": "code",
   "execution_count": null,
   "metadata": {},
   "outputs": [],
   "source": [
    "#Each file has a tracks objects, segments objects and point objects.\n",
    "#This function will allow to extract them. \n",
    "\n",
    "def get_points(filename):\n",
    "    file_object = open(filename)\n",
    "    gpx_object = gpxpy.parse(file_object)\n",
    "    file_object.close()\n",
    "    first_track = gpx_object.tracks[0]\n",
    "    first_segment_of_first_track = first_track.segments[0] \n",
    "    points = first_segment_of_first_track.points\n",
    "    return points"
   ]
  },
  {
   "cell_type": "markdown",
   "metadata": {},
   "source": [
    "### 1.5 Load all students GPX files"
   ]
  },
  {
   "cell_type": "code",
   "execution_count": null,
   "metadata": {},
   "outputs": [],
   "source": [
    "gpx_files = sorted(glob.glob('tracks/*.gpx')) # Use the glob.glob function to list all gpx files in the \"tracks\" folder.\n",
    "print(gpx_files) # Print the list of files. There should be as many as there are students in the classroom.\n",
    "\n",
    "# Extract the list of points in each file. Store them in the variable \"tracks\".\n",
    "# \"tracks\" is a list of lists of \"GPX points\".\n",
    "tracks = []\n",
    "for filename in gpx_files:\n",
    "    tracks.append( get_points(filename) )"
   ]
  },
  {
   "cell_type": "code",
   "execution_count": null,
   "metadata": {},
   "outputs": [],
   "source": [
    "# GPX points are a special type of python object defined in the gpxpy module.\n",
    "# They contain a latitude (a number), a longitude (a number), and a time (a datetime object).\n",
    "# Here is how to access them.\n",
    "# First, grab the first point on the first track.\n",
    "first_point = tracks[0][0]\n",
    "print(first_point.latitude) # the latitude as a number\n",
    "print(first_point.longitude) # the longitude as a number\n",
    "print(first_point.time) # the time as a datetime object"
   ]
  },
  {
   "cell_type": "markdown",
   "metadata": {},
   "source": [
    "### 1.5 Define the GPS Coordinates and names for each Den\n",
    "\n",
    "The three dens are the two soccer goals on the field south east of the SR building and the sign in front of the volleyball court, also southeast of the SR building."
   ]
  },
  {
   "cell_type": "code",
   "execution_count": null,
   "metadata": {},
   "outputs": [],
   "source": [
    "# Define the dens (GPS coordinates and name).\n",
    "goal_SW  = [-80.117331, 26.887141, 'SW soccer goal']\n",
    "goal_SE  = [-80.116789, 26.886914, 'SE soccer goal']\n",
    "VB_court = [-80.117268, 26.886723, 'Volleyball court sign']\n",
    "\n",
    "# Define the list of dens.\n",
    "dens      = [goal_SW, goal_SE, VB_court] "
   ]
  },
  {
   "cell_type": "markdown",
   "metadata": {},
   "source": [
    "### 1.6 Plot all dens and students tracks in a map\n",
    "\n",
    "Use a for-loop to plot all the longitude (lo) and latitude (la) points in a map using mplleaflet. You should see as many tracks as students in the classroom, and three squares for the three dens."
   ]
  },
  {
   "cell_type": "code",
   "execution_count": null,
   "metadata": {},
   "outputs": [],
   "source": [
    "plt.figure(figsize=(8,8))\n",
    "for den in dens:\n",
    "    plt.scatter(den[0],den[1],s=200,marker='s',color='red')\n",
    "for points in tracks:\n",
    "    lo = [ p.longitude for p in points]\n",
    "    la = [ p.latitude for p in points]\n",
    "    plt.plot(lo,la)\n",
    "mplleaflet.display()\n",
    "# mplleaflet.show()"
   ]
  },
  {
   "cell_type": "markdown",
   "metadata": {},
   "source": [
    "## 2. Computing distances between your own track and the dens"
   ]
  },
  {
   "cell_type": "markdown",
   "metadata": {},
   "source": [
    "### 2.1 Compute the distance between each point of your track and the Den "
   ]
  },
  {
   "cell_type": "markdown",
   "metadata": {},
   "source": [
    "<div class=\"alert alert-block alert-danger\">\n",
    "<b>Task 1:</b>\n",
    "Compute the distance between every point of only your own track and the three dens. Steps:\n",
    "\n",
    "Loop for each den in the dens\n",
    "\n",
    "Inside the dens loop make a second list named \"distances\"\n",
    "\n",
    "Make a second loop for each point on your track.\n",
    "\n",
    "Use the distance function to calculate the distance between each point and the den locations\n",
    "\n",
    "Plot the distances as a line plot with each line representing a den"
   ]
  },
  {
   "cell_type": "code",
   "execution_count": null,
   "metadata": {},
   "outputs": [],
   "source": []
  },
  {
   "cell_type": "markdown",
   "metadata": {},
   "source": [
    "<div class=\"alert alert-block alert-danger\">\n",
    "<b>Task 2:</b>\n",
    "Count the number of points on the track closer than 3 meters from the each den.  \n",
    "\n",
    "<p><strike>Build a list named \"points\" starting with track=0</strike></p>  \n",
    "\n",
    "Make an empty list for the den counts\n",
    "\n",
    "Loop for each den in the dens\n",
    "\n",
    "Define counts starting at 0\n",
    "\n",
    "Inside the dens loop make a second loop for each point of the points **in your track (or the first track)**.\n",
    "\n",
    "Use the distance function to calculate the distance between each point and the den locations and use the if function to set up the threshold\n",
    "\n",
    "At the end you should obtain a list with the counts of points closer than 3 meters for each den. The den with more counts will be the one at which the student spend more time."
   ]
  },
  {
   "cell_type": "code",
   "execution_count": null,
   "metadata": {},
   "outputs": [],
   "source": []
  },
  {
   "cell_type": "markdown",
   "metadata": {},
   "source": [
    "## 3. Computing distances between all students' tracks and the dens"
   ]
  },
  {
   "cell_type": "markdown",
   "metadata": {},
   "source": [
    "<div class=\"alert alert-block alert-danger\">\n",
    "<b>Task 3:</b> \n",
    "Now you have 15 tracks (one per student), and you have to define to which den each track is associated to. For each track, compute the number of points of the track within the threshold distance of each den. Which students where closer to the <strike>Bike Rack</strike> **same** den **as you**? **Does it match the groups defined in the powerpoint?** Make a graph showing the distance to each den. Keep in mind the next steps:\n",
    "    \n",
    "Set up the threshold\n",
    "\n",
    "You will need to define three for loops to obtain the points in tracks, the den in the dens and the point in the points lists.\n",
    "\n",
    "As in previous tasks use the distance function and the if function to establish the threshold\n",
    "\n",
    "Plot the distances as a line plot with each line representing a den. You should obtain one line plot per each student (15 plots)"
   ]
  },
  {
   "cell_type": "code",
   "execution_count": null,
   "metadata": {},
   "outputs": [],
   "source": []
  },
  {
   "cell_type": "markdown",
   "metadata": {},
   "source": [
    "## 4. Full automatic detection of each track's den.\n",
    "\n",
    "For this we will need the argmax function from module numpy. It takes a list and returns the index of the largest element in that list:"
   ]
  },
  {
   "cell_type": "code",
   "execution_count": null,
   "metadata": {},
   "outputs": [],
   "source": [
    "print(np.argmax([2,7,5])) # The largest element is 7, located at index 1.\n",
    "print(np.argmax([2,7,19])) # The largest element is 19, located at index 2.\n",
    "\n",
    "# Imagine those lists were the counts of points near each den.\n",
    "# Once I have the index of the den with the largest count, I can go back to\n",
    "# the list of dens to retrieve its name:\n",
    "i = np.argmax([2,7,19])\n",
    "print(dens[i][2])"
   ]
  },
  {
   "cell_type": "markdown",
   "metadata": {},
   "source": [
    "<div class=\"alert alert-block alert-danger\">\n",
    "<b>Task 4:</b> \n",
    "Implement a fully automatic detection of each track's den. For each track, count the number points within the threshold distance of each den, then use argmax to find the den with the largest count. Print one line per track in the following format: \"[name of the gpx file] belongs to the [name of the den] den.\"\n",
    "</div>\n",
    "\n",
    "*Hint 1:* You need to nest three loops and an if statement that checks the distance.  \n",
    "\n",
    "*Hint 2:* Loop over the indices of `tracks` rather than the tracks themselves. That way you have access to the file's name at the same index in `gpx_files`."
   ]
  },
  {
   "cell_type": "code",
   "execution_count": null,
   "metadata": {},
   "outputs": [],
   "source": []
  },
  {
   "cell_type": "markdown",
   "metadata": {},
   "source": [
    "<div class=\"alert alert-block alert-danger\">\n",
    "<b>Extra task:</b> \n",
    "For each den, create and print a list of all the tracks belonging to that den."
   ]
  },
  {
   "cell_type": "code",
   "execution_count": null,
   "metadata": {},
   "outputs": [],
   "source": []
  }
 ],
 "metadata": {
  "kernelspec": {
   "display_name": "Python 3",
   "language": "python",
   "name": "python3"
  },
  "language_info": {
   "codemirror_mode": {
    "name": "ipython",
    "version": 3
   },
   "file_extension": ".py",
   "mimetype": "text/x-python",
   "name": "python",
   "nbconvert_exporter": "python",
   "pygments_lexer": "ipython3",
   "version": "3.8.5"
  }
 },
 "nbformat": 4,
 "nbformat_minor": 2
}
